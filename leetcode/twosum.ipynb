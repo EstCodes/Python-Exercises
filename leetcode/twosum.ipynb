{
 "cells": [
  {
   "cell_type": "markdown",
   "id": "1a8e1007",
   "metadata": {},
   "source": [
    "Given an array of integers nums and an integer target, return indices of the two numbers such that they add up to target.\n",
    "You may assume that each input would have exactly one solution, and you may not use the same element twice.\n",
    "You can return the answer in any order.\n",
    "\n",
    "You are given:\n",
    "- A list of numbers (e.g., [2, 7, 11, 15])\n",
    "- A target number (e.g., 9)\n",
    "- Goal: Find two different numbers in the list that add up to the target number."
   ]
  },
  {
   "cell_type": "code",
   "execution_count": 8,
   "id": "7273847a",
   "metadata": {},
   "outputs": [
    {
     "name": "stdout",
     "output_type": "stream",
     "text": [
      "[5, 1, 2, 5, 7]\n"
     ]
    }
   ],
   "source": [
    "import random\n",
    "\n",
    "target = 12\n",
    "my_list = []\n",
    "\n",
    "for _ in range(5):\n",
    "    randomN = random.randint(1, 9)\n",
    "    my_list.append(randomN)\n",
    "\n",
    "print(my_list)"
   ]
  },
  {
   "cell_type": "code",
   "execution_count": 9,
   "id": "427c7582",
   "metadata": {},
   "outputs": [
    {
     "name": "stdout",
     "output_type": "stream",
     "text": [
      "This is the number: 5 and this is my target: 12\n",
      "This is the number I would need to get:  7\n",
      "Yes the number is in the list\n",
      "I found the solution: 5 + 7 = 12\n",
      "-------------------------------------------------------\n",
      "This is the number: 1 and this is my target: 12\n",
      "This is the number I would need to get:  11\n",
      "The number is not in the list\n",
      "No number in the list reaches the desire number\n",
      "No number in the list reaches the desire number\n",
      "No number in the list reaches the desire number\n",
      "Finished! Found answer the number is 3\n",
      "-------------------------------------------------------\n",
      "This is the number: 2 and this is my target: 12\n",
      "This is the number I would need to get:  10\n",
      "The number is not in the list\n",
      "No number in the list reaches the desire number\n",
      "No number in the list reaches the desire number\n",
      "No number in the list reaches the desire number\n",
      "Finished! Found answer the number is 3\n",
      "-------------------------------------------------------\n",
      "This is the number: 5 and this is my target: 12\n",
      "This is the number I would need to get:  7\n",
      "Yes the number is in the list\n",
      "I found the solution: 5 + 7 = 12\n",
      "-------------------------------------------------------\n",
      "This is the number: 7 and this is my target: 12\n",
      "This is the number I would need to get:  5\n",
      "Yes the number is in the list\n",
      "I found the solution: 7 + 5 = 12\n",
      "-------------------------------------------------------\n"
     ]
    }
   ],
   "source": [
    "for n in my_list:\n",
    "    desiredNumber = target-n\n",
    "\n",
    "    print(f\"This is the number: {n} and this is my target: {target}\")\n",
    "    print(\"This is the number I would need to get: \", desiredNumber)\n",
    "\n",
    "    if desiredNumber in my_list:\n",
    "        print(\"Yes the number is in the list\")\n",
    "        print(f\"I found the solution: {n} + {desiredNumber} = {n+desiredNumber}\")\n",
    "    else:\n",
    "        print(\"The number is not in the list\")\n",
    "        for i in range(len(my_list)-1):\n",
    "            next_element = my_list[i + 1]\n",
    "            goal = next_element+my_list[i]\n",
    "\n",
    "            if goal == target:\n",
    "                print(f\"Finished! Found answer the number is {i}\")\n",
    "            else:\n",
    "                print(\"No number in the list reaches the desire number\")\n",
    "            \n",
    "    print(\"-------------------------------------------------------\")"
   ]
  },
  {
   "cell_type": "markdown",
   "id": "1fd02e4b",
   "metadata": {},
   "source": []
  }
 ],
 "metadata": {
  "kernelspec": {
   "display_name": "Python 3",
   "language": "python",
   "name": "python3"
  },
  "language_info": {
   "codemirror_mode": {
    "name": "ipython",
    "version": 3
   },
   "file_extension": ".py",
   "mimetype": "text/x-python",
   "name": "python",
   "nbconvert_exporter": "python",
   "pygments_lexer": "ipython3",
   "version": "3.12.1"
  }
 },
 "nbformat": 4,
 "nbformat_minor": 5
}
