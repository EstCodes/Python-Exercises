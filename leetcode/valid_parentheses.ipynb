{
 "cells": [
  {
   "cell_type": "markdown",
   "id": "9071058d",
   "metadata": {},
   "source": [
    "Given a string s containing just the characters '(', ')', '{', '}', '[' and ']', determine if the input string is valid.\n",
    "\n",
    "A valid string must satisfy these two conditions:\n",
    "- Open brackets must be closed by the same type of brackets.\n",
    "- Open brackets must be closed in the correct order."
   ]
  },
  {
   "cell_type": "code",
   "execution_count": 5,
   "id": "cadd5ed8",
   "metadata": {},
   "outputs": [
    {
     "name": "stdout",
     "output_type": "stream",
     "text": [
      "Type again only symbols\n"
     ]
    }
   ],
   "source": [
    "list_of_symbols = {'(':')',\n",
    "                   '[':']',\n",
    "                   '{':'}'}\n",
    "\n",
    "state = True\n",
    "\n",
    "while state:\n",
    "    typed = input(\"Enter the symbols to check: \")\n",
    "\n",
    "    if typed != list_of_symbols:\n",
    "        print(\"Type again only symbols\")\n",
    "        state = False"
   ]
  }
 ],
 "metadata": {
  "kernelspec": {
   "display_name": "Python 3",
   "language": "python",
   "name": "python3"
  },
  "language_info": {
   "codemirror_mode": {
    "name": "ipython",
    "version": 3
   },
   "file_extension": ".py",
   "mimetype": "text/x-python",
   "name": "python",
   "nbconvert_exporter": "python",
   "pygments_lexer": "ipython3",
   "version": "3.12.1"
  }
 },
 "nbformat": 4,
 "nbformat_minor": 5
}
