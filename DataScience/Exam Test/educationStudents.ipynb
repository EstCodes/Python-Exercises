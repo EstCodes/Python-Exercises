{
 "cells": [
  {
   "cell_type": "code",
   "execution_count": 1,
   "id": "3f58772b",
   "metadata": {},
   "outputs": [
    {
     "name": "stdout",
     "output_type": "stream",
     "text": [
      "Requirement already satisfied: kagglehub[pandas-datasets] in /usr/local/python/3.12.1/lib/python3.12/site-packages (0.3.12)\n",
      "Requirement already satisfied: packaging in /home/codespace/.local/lib/python3.12/site-packages (from kagglehub[pandas-datasets]) (25.0)\n",
      "Requirement already satisfied: pyyaml in /home/codespace/.local/lib/python3.12/site-packages (from kagglehub[pandas-datasets]) (6.0.2)\n",
      "Requirement already satisfied: requests in /home/codespace/.local/lib/python3.12/site-packages (from kagglehub[pandas-datasets]) (2.32.4)\n",
      "Requirement already satisfied: tqdm in /usr/local/python/3.12.1/lib/python3.12/site-packages (from kagglehub[pandas-datasets]) (4.67.1)\n",
      "Requirement already satisfied: pandas in /home/codespace/.local/lib/python3.12/site-packages (from kagglehub[pandas-datasets]) (2.3.1)\n",
      "Requirement already satisfied: numpy>=1.26.0 in /home/codespace/.local/lib/python3.12/site-packages (from pandas->kagglehub[pandas-datasets]) (2.3.1)\n",
      "Requirement already satisfied: python-dateutil>=2.8.2 in /home/codespace/.local/lib/python3.12/site-packages (from pandas->kagglehub[pandas-datasets]) (2.9.0.post0)\n",
      "Requirement already satisfied: pytz>=2020.1 in /home/codespace/.local/lib/python3.12/site-packages (from pandas->kagglehub[pandas-datasets]) (2025.2)\n",
      "Requirement already satisfied: tzdata>=2022.7 in /home/codespace/.local/lib/python3.12/site-packages (from pandas->kagglehub[pandas-datasets]) (2025.2)\n",
      "Requirement already satisfied: six>=1.5 in /home/codespace/.local/lib/python3.12/site-packages (from python-dateutil>=2.8.2->pandas->kagglehub[pandas-datasets]) (1.17.0)\n",
      "Requirement already satisfied: charset_normalizer<4,>=2 in /home/codespace/.local/lib/python3.12/site-packages (from requests->kagglehub[pandas-datasets]) (3.4.2)\n",
      "Requirement already satisfied: idna<4,>=2.5 in /home/codespace/.local/lib/python3.12/site-packages (from requests->kagglehub[pandas-datasets]) (3.10)\n",
      "Requirement already satisfied: urllib3<3,>=1.21.1 in /home/codespace/.local/lib/python3.12/site-packages (from requests->kagglehub[pandas-datasets]) (2.5.0)\n",
      "Requirement already satisfied: certifi>=2017.4.17 in /home/codespace/.local/lib/python3.12/site-packages (from requests->kagglehub[pandas-datasets]) (2025.7.9)\n",
      "\n",
      "\u001b[1m[\u001b[0m\u001b[34;49mnotice\u001b[0m\u001b[1;39;49m]\u001b[0m\u001b[39;49m A new release of pip is available: \u001b[0m\u001b[31;49m25.1.1\u001b[0m\u001b[39;49m -> \u001b[0m\u001b[32;49m25.2\u001b[0m\n",
      "\u001b[1m[\u001b[0m\u001b[34;49mnotice\u001b[0m\u001b[1;39;49m]\u001b[0m\u001b[39;49m To update, run: \u001b[0m\u001b[32;49mpython -m pip install --upgrade pip\u001b[0m\n",
      "Note: you may need to restart the kernel to use updated packages.\n"
     ]
    }
   ],
   "source": [
    "%pip install kagglehub[pandas-datasets]"
   ]
  },
  {
   "cell_type": "code",
   "execution_count": 2,
   "id": "5a88ede7",
   "metadata": {},
   "outputs": [
    {
     "name": "stderr",
     "output_type": "stream",
     "text": [
      "/usr/local/python/3.12.1/lib/python3.12/site-packages/tqdm/auto.py:21: TqdmWarning: IProgress not found. Please update jupyter and ipywidgets. See https://ipywidgets.readthedocs.io/en/stable/user_install.html\n",
      "  from .autonotebook import tqdm as notebook_tqdm\n"
     ]
    }
   ],
   "source": [
    "import kagglehub\n",
    "import pandas as pd\n",
    "# Download latest version\n",
    "# path = kagglehub.dataset_download(\"spscientist/students-performance-in-exams\")\n",
    "# print(\"Path to dataset files:\", path)"
   ]
  },
  {
   "cell_type": "code",
   "execution_count": 3,
   "id": "679d0aed",
   "metadata": {},
   "outputs": [
    {
     "data": {
      "text/html": [
       "<div>\n",
       "<style scoped>\n",
       "    .dataframe tbody tr th:only-of-type {\n",
       "        vertical-align: middle;\n",
       "    }\n",
       "\n",
       "    .dataframe tbody tr th {\n",
       "        vertical-align: top;\n",
       "    }\n",
       "\n",
       "    .dataframe thead th {\n",
       "        text-align: right;\n",
       "    }\n",
       "</style>\n",
       "<table border=\"1\" class=\"dataframe\">\n",
       "  <thead>\n",
       "    <tr style=\"text-align: right;\">\n",
       "      <th></th>\n",
       "      <th>gender</th>\n",
       "      <th>race/ethnicity</th>\n",
       "      <th>parental level of education</th>\n",
       "      <th>lunch</th>\n",
       "      <th>test preparation course</th>\n",
       "      <th>math score</th>\n",
       "      <th>reading score</th>\n",
       "      <th>writing score</th>\n",
       "    </tr>\n",
       "  </thead>\n",
       "  <tbody>\n",
       "    <tr>\n",
       "      <th>0</th>\n",
       "      <td>female</td>\n",
       "      <td>group B</td>\n",
       "      <td>bachelor's degree</td>\n",
       "      <td>standard</td>\n",
       "      <td>none</td>\n",
       "      <td>72</td>\n",
       "      <td>72</td>\n",
       "      <td>74</td>\n",
       "    </tr>\n",
       "    <tr>\n",
       "      <th>1</th>\n",
       "      <td>female</td>\n",
       "      <td>group C</td>\n",
       "      <td>some college</td>\n",
       "      <td>standard</td>\n",
       "      <td>completed</td>\n",
       "      <td>69</td>\n",
       "      <td>90</td>\n",
       "      <td>88</td>\n",
       "    </tr>\n",
       "    <tr>\n",
       "      <th>2</th>\n",
       "      <td>female</td>\n",
       "      <td>group B</td>\n",
       "      <td>master's degree</td>\n",
       "      <td>standard</td>\n",
       "      <td>none</td>\n",
       "      <td>90</td>\n",
       "      <td>95</td>\n",
       "      <td>93</td>\n",
       "    </tr>\n",
       "    <tr>\n",
       "      <th>3</th>\n",
       "      <td>male</td>\n",
       "      <td>group A</td>\n",
       "      <td>associate's degree</td>\n",
       "      <td>free/reduced</td>\n",
       "      <td>none</td>\n",
       "      <td>47</td>\n",
       "      <td>57</td>\n",
       "      <td>44</td>\n",
       "    </tr>\n",
       "    <tr>\n",
       "      <th>4</th>\n",
       "      <td>male</td>\n",
       "      <td>group C</td>\n",
       "      <td>some college</td>\n",
       "      <td>standard</td>\n",
       "      <td>none</td>\n",
       "      <td>76</td>\n",
       "      <td>78</td>\n",
       "      <td>75</td>\n",
       "    </tr>\n",
       "  </tbody>\n",
       "</table>\n",
       "</div>"
      ],
      "text/plain": [
       "   gender race/ethnicity parental level of education         lunch  \\\n",
       "0  female        group B           bachelor's degree      standard   \n",
       "1  female        group C                some college      standard   \n",
       "2  female        group B             master's degree      standard   \n",
       "3    male        group A          associate's degree  free/reduced   \n",
       "4    male        group C                some college      standard   \n",
       "\n",
       "  test preparation course  math score  reading score  writing score  \n",
       "0                    none          72             72             74  \n",
       "1               completed          69             90             88  \n",
       "2                    none          90             95             93  \n",
       "3                    none          47             57             44  \n",
       "4                    none          76             78             75  "
      ]
     },
     "execution_count": 3,
     "metadata": {},
     "output_type": "execute_result"
    }
   ],
   "source": [
    "df = pd.read_csv('StudentsPerformance.csv')\n",
    "df.head(5)"
   ]
  },
  {
   "cell_type": "markdown",
   "id": "22cc485e",
   "metadata": {},
   "source": [
    "# Max Score in each subject"
   ]
  },
  {
   "cell_type": "code",
   "execution_count": 4,
   "id": "53d1d5ee",
   "metadata": {},
   "outputs": [
    {
     "name": "stdout",
     "output_type": "stream",
     "text": [
      "Max score in Maths:  100\n",
      "Max score in Reading:  100\n",
      "Max score in Writing:  100\n"
     ]
    }
   ],
   "source": [
    "print(\"Max score in Maths: \", df['math score'].max())\n",
    "print(\"Max score in Reading: \", df['reading score'].max())\n",
    "print(\"Max score in Writing: \", df['writing score'].max())"
   ]
  },
  {
   "cell_type": "markdown",
   "id": "88431510",
   "metadata": {},
   "source": [
    "## Percentage of people who got a 90+ score"
   ]
  },
  {
   "cell_type": "code",
   "execution_count": 5,
   "id": "c8b4f0fc",
   "metadata": {},
   "outputs": [
    {
     "name": "stdout",
     "output_type": "stream",
     "text": [
      "23\n"
     ]
    }
   ],
   "source": [
    "count_female_high_math = df[(df['math score'] >= 90) & (df['gender'] == 'female')].shape[0]\n",
    "print(count_female_high_math)"
   ]
  },
  {
   "cell_type": "code",
   "execution_count": 6,
   "id": "252178f3",
   "metadata": {},
   "outputs": [
    {
     "name": "stdout",
     "output_type": "stream",
     "text": [
      "35\n"
     ]
    }
   ],
   "source": [
    "count_male_high_math = df[(df['math score'] >= 90) & (df['gender'] == 'male')].shape[0]\n",
    "print(count_male_high_math)"
   ]
  },
  {
   "cell_type": "code",
   "execution_count": 7,
   "id": "db23e692",
   "metadata": {},
   "outputs": [
    {
     "data": {
      "text/plain": [
       "1000"
      ]
     },
     "execution_count": 7,
     "metadata": {},
     "output_type": "execute_result"
    }
   ],
   "source": [
    "df['math score'].size"
   ]
  },
  {
   "cell_type": "code",
   "execution_count": 8,
   "id": "524b8fb9",
   "metadata": {},
   "outputs": [
    {
     "name": "stdout",
     "output_type": "stream",
     "text": [
      "So the percentage is:  5.800000000000001%\n"
     ]
    }
   ],
   "source": [
    "percentage_total = (count_female_high_math+count_male_high_math ) / df['math score'].size\n",
    "print(f\"So the percentage is:  {percentage_total*100}%\")"
   ]
  },
  {
   "cell_type": "markdown",
   "id": "50519e82",
   "metadata": {},
   "source": [
    "### Box Graph"
   ]
  },
  {
   "cell_type": "code",
   "execution_count": 9,
   "id": "885bd65a",
   "metadata": {},
   "outputs": [
    {
     "data": {
      "application/vnd.plotly.v1+json": {
       "config": {
        "plotlyServerURL": "https://plot.ly"
       },
       "data": [
        {
         "type": "box",
         "x": [
          [
           "female",
           "group C",
           "some college",
           "standard",
           "completed",
           69,
           90,
           88
          ],
          [
           "female",
           "group B",
           "associate's degree",
           "standard",
           "none",
           71,
           83,
           78
          ],
          [
           "female",
           "group B",
           "high school",
           "standard",
           "none",
           65,
           81,
           73
          ],
          [
           "female",
           "group C",
           "some high school",
           "standard",
           "none",
           69,
           75,
           78
          ],
          [
           "female",
           "group B",
           "some college",
           "free/reduced",
           "completed",
           65,
           75,
           70
          ],
          [
           "female",
           "group C",
           "some high school",
           "standard",
           "none",
           69,
           73,
           73
          ],
          [
           "female",
           "group C",
           "bachelor's degree",
           "standard",
           "none",
           67,
           69,
           75
          ],
          [
           "female",
           "group D",
           "some college",
           "standard",
           "none",
           69,
           74,
           74
          ],
          [
           "female",
           "group B",
           "some college",
           "standard",
           "none",
           63,
           65,
           61
          ],
          [
           "female",
           "group D",
           "associate's degree",
           "free/reduced",
           "completed",
           75,
           90,
           88
          ],
          [
           "female",
           "group B",
           "associate's degree",
           "standard",
           "none",
           53,
           58,
           65
          ],
          [
           "female",
           "group A",
           "associate's degree",
           "standard",
           "completed",
           55,
           65,
           62
          ],
          [
           "female",
           "group D",
           "associate's degree",
           "free/reduced",
           "completed",
           57,
           74,
           76
          ],
          [
           "female",
           "group C",
           "some high school",
           "free/reduced",
           "completed",
           71,
           84,
           87
          ],
          [
           "female",
           "group C",
           "high school",
           "free/reduced",
           "none",
           33,
           41,
           43
          ],
          [
           "female",
           "group C",
           "associate's degree",
           "standard",
           "none",
           69,
           80,
           71
          ],
          [
           "female",
           "group D",
           "some high school",
           "standard",
           "none",
           59,
           58,
           59
          ],
          [
           "female",
           "group C",
           "associate's degree",
           "standard",
           "none",
           39,
           64,
           57
          ],
          [
           "female",
           "group A",
           "associate's degree",
           "free/reduced",
           "none",
           41,
           51,
           48
          ],
          [
           "female",
           "group D",
           "some high school",
           "standard",
           "completed",
           61,
           74,
           72
          ],
          [
           "female",
           "group B",
           "associate's degree",
           "standard",
           "none",
           47,
           49,
           50
          ],
          [
           "female",
           "group C",
           "some college",
           "standard",
           "none",
           73,
           80,
           82
          ],
          [
           "female",
           "group D",
           "associate's degree",
           "standard",
           "none",
           71,
           71,
           74
          ],
          [
           "female",
           "group D",
           "some high school",
           "standard",
           "none",
           73,
           86,
           82
          ],
          [
           "female",
           "group C",
           "bachelor's degree",
           "standard",
           "none",
           65,
           72,
           74
          ],
          [
           "female",
           "group B",
           "some college",
           "standard",
           "none",
           79,
           86,
           92
          ],
          [
           "female",
           "group E",
           "some college",
           "standard",
           "completed",
           63,
           72,
           70
          ],
          [
           "female",
           "group D",
           "bachelor's degree",
           "standard",
           "none",
           65,
           67,
           62
          ],
          [
           "female",
           "group D",
           "associate's degree",
           "standard",
           "none",
           85,
           91,
           89
          ],
          [
           "female",
           "group D",
           "master's degree",
           "standard",
           "none",
           87,
           100,
           100
          ],
          [
           "female",
           "group D",
           "associate's degree",
           "free/reduced",
           "completed",
           77,
           89,
           98
          ],
          [
           "female",
           "group D",
           "some college",
           "standard",
           "none",
           51,
           58,
           54
          ],
          [
           "female",
           "group E",
           "bachelor's degree",
           "standard",
           "completed",
           99,
           100,
           100
          ],
          [
           "female",
           "group B",
           "bachelor's degree",
           "free/reduced",
           "none",
           75,
           85,
           82
          ],
          [
           "female",
           "group D",
           "some high school",
           "standard",
           "none",
           51,
           63,
           61
          ],
          [
           "female",
           "group C",
           "some college",
           "standard",
           "none",
           55,
           69,
           65
          ],
          [
           "female",
           "group C",
           "bachelor's degree",
           "standard",
           "completed",
           79,
           92,
           89
          ],
          [
           "female",
           "group B",
           "high school",
           "standard",
           "none",
           87,
           95,
           86
          ],
          [
           "female",
           "group A",
           "bachelor's degree",
           "standard",
           "none",
           51,
           49,
           51
          ],
          [
           "female",
           "group C",
           "some college",
           "standard",
           "completed",
           75,
           81,
           84
          ],
          [
           "female",
           "group C",
           "associate's degree",
           "standard",
           "none",
           59,
           66,
           67
          ],
          [
           "female",
           "group C",
           "some college",
           "free/reduced",
           "none",
           59,
           62,
           64
          ],
          [
           "female",
           "group B",
           "associate's degree",
           "standard",
           "completed",
           59,
           70,
           66
          ],
          [
           "female",
           "group B",
           "associate's degree",
           "standard",
           "completed",
           61,
           86,
           87
          ],
          [
           "female",
           "group E",
           "some college",
           "free/reduced",
           "completed",
           75,
           88,
           85
          ],
          [
           "female",
           "group E",
           "master's degree",
           "standard",
           "none",
           81,
           92,
           91
          ],
          [
           "female",
           "group C",
           "some college",
           "free/reduced",
           "completed",
           67,
           75,
           70
          ],
          [
           "female",
           "group D",
           "some college",
           "standard",
           "none",
           79,
           86,
           81
          ],
          [
           "female",
           "group C",
           "associate's degree",
           "standard",
           "none",
           63,
           67,
           70
          ],
          [
           "female",
           "group C",
           "bachelor's degree",
           "free/reduced",
           "completed",
           43,
           51,
           54
          ],
          [
           "female",
           "group C",
           "master's degree",
           "standard",
           "completed",
           81,
           91,
           87
          ],
          [
           "female",
           "group C",
           "associate's degree",
           "standard",
           "completed",
           71,
           77,
           77
          ],
          [
           "female",
           "group D",
           "some high school",
           "standard",
           "completed",
           97,
           100,
           100
          ],
          [
           "female",
           "group D",
           "associate's degree",
           "standard",
           "none",
           65,
           69,
           70
          ],
          [
           "female",
           "group C",
           "bachelor's degree",
           "standard",
           "none",
           77,
           88,
           87
          ],
          [
           "female",
           "group C",
           "master's degree",
           "standard",
           "completed",
           69,
           84,
           85
          ],
          [
           "female",
           "group B",
           "some college",
           "free/reduced",
           "none",
           45,
           53,
           55
          ],
          [
           "female",
           "group C",
           "associate's degree",
           "standard",
           "completed",
           67,
           84,
           86
          ],
          [
           "female",
           "group D",
           "some college",
           "free/reduced",
           "none",
           65,
           81,
           77
          ],
          [
           "female",
           "group B",
           "associate's degree",
           "standard",
           "none",
           57,
           69,
           68
          ],
          [
           "female",
           "group E",
           "associate's degree",
           "free/reduced",
           "completed",
           83,
           86,
           88
          ],
          [
           "female",
           "group C",
           "some high school",
           "free/reduced",
           "none",
           55,
           65,
           62
          ],
          [
           "female",
           "group E",
           "master's degree",
           "free/reduced",
           "none",
           45,
           56,
           54
          ],
          [
           "female",
           "group B",
           "bachelor's degree",
           "standard",
           "none",
           67,
           86,
           83
          ],
          [
           "female",
           "group B",
           "high school",
           "standard",
           "none",
           65,
           64,
           62
          ],
          [
           "female",
           "group D",
           "some college",
           "free/reduced",
           "none",
           71,
           83,
           83
          ],
          [
           "female",
           "group C",
           "master's degree",
           "free/reduced",
           "completed",
           65,
           81,
           81
          ],
          [
           "female",
           "group E",
           "high school",
           "standard",
           "none",
           99,
           93,
           90
          ],
          [
           "female",
           "group C",
           "bachelor's degree",
           "standard",
           "none",
           63,
           75,
           81
          ],
          [
           "female",
           "group D",
           "high school",
           "standard",
           "none",
           69,
           72,
           77
          ],
          [
           "female",
           "group E",
           "some college",
           "free/reduced",
           "none",
           71,
           76,
           70
          ],
          [
           "female",
           "group D",
           "associate's degree",
           "free/reduced",
           "none",
           47,
           53,
           58
          ],
          [
           "female",
           "group D",
           "some college",
           "standard",
           "none",
           65,
           70,
           71
          ],
          [
           "female",
           "group C",
           "some high school",
           "standard",
           "completed",
           85,
           92,
           93
          ],
          [
           "female",
           "group E",
           "high school",
           "standard",
           "completed",
           59,
           63,
           75
          ],
          [
           "female",
           "group C",
           "some high school",
           "free/reduced",
           "none",
           65,
           86,
           80
          ],
          [
           "female",
           "group D",
           "bachelor's degree",
           "free/reduced",
           "none",
           73,
           79,
           84
          ],
          [
           "female",
           "group B",
           "some high school",
           "standard",
           "none",
           37,
           46,
           46
          ],
          [
           "female",
           "group B",
           "some high school",
           "standard",
           "none",
           67,
           89,
           82
          ],
          [
           "female",
           "group E",
           "bachelor's degree",
           "standard",
           "none",
           65,
           73,
           75
          ],
          [
           "female",
           "group C",
           "associate's degree",
           "standard",
           "completed",
           67,
           84,
           81
          ],
          [
           "female",
           "group B",
           "associate's degree",
           "free/reduced",
           "none",
           53,
           71,
           67
          ],
          [
           "female",
           "group D",
           "high school",
           "free/reduced",
           "none",
           49,
           57,
           52
          ],
          [
           "female",
           "group B",
           "associate's degree",
           "standard",
           "none",
           73,
           76,
           80
          ],
          [
           "female",
           "group C",
           "bachelor's degree",
           "standard",
           "completed",
           59,
           64,
           75
          ],
          [
           "female",
           "group D",
           "master's degree",
           "standard",
           "completed",
           77,
           82,
           91
          ],
          [
           "female",
           "group C",
           "high school",
           "free/reduced",
           "completed",
           67,
           79,
           84
          ],
          [
           "female",
           "group E",
           "high school",
           "standard",
           "none",
           75,
           86,
           79
          ],
          [
           "female",
           "group C",
           "some college",
           "standard",
           "none",
           71,
           81,
           80
          ],
          [
           "female",
           "group C",
           "some high school",
           "free/reduced",
           "none",
           43,
           53,
           53
          ],
          [
           "female",
           "group C",
           "high school",
           "free/reduced",
           "none",
           41,
           46,
           43
          ],
          [
           "female",
           "group B",
           "some high school",
           "standard",
           "none",
           41,
           55,
           51
          ],
          [
           "female",
           "group C",
           "bachelor's degree",
           "standard",
           "none",
           83,
           93,
           95
          ],
          [
           "female",
           "group B",
           "some college",
           "free/reduced",
           "none",
           61,
           68,
           66
          ],
          [
           "female",
           "group D",
           "some high school",
           "free/reduced",
           "completed",
           35,
           55,
           60
          ],
          [
           "female",
           "group C",
           "high school",
           "standard",
           "none",
           61,
           73,
           63
          ],
          [
           "female",
           "group B",
           "high school",
           "standard",
           "completed",
           69,
           76,
           74
          ],
          [
           "female",
           "group C",
           "bachelor's degree",
           "standard",
           "completed",
           77,
           94,
           95
          ],
          [
           "female",
           "group C",
           "some college",
           "standard",
           "completed",
           63,
           78,
           80
          ],
          [
           "female",
           "group C",
           "some college",
           "standard",
           "none",
           59,
           71,
           70
          ],
          [
           "female",
           "group B",
           "bachelor's degree",
           "standard",
           "none",
           61,
           72,
           70
          ],
          [
           "female",
           "group D",
           "some high school",
           "free/reduced",
           "none",
           27,
           34,
           32
          ],
          [
           "female",
           "group D",
           "some high school",
           "standard",
           "none",
           73,
           84,
           85
          ],
          [
           "female",
           "group C",
           "some college",
           "free/reduced",
           "completed",
           45,
           73,
           70
          ],
          [
           "female",
           "group D",
           "bachelor's degree",
           "standard",
           "none",
           59,
           70,
           73
          ],
          [
           "female",
           "group D",
           "master's degree",
           "free/reduced",
           "completed",
           85,
           95,
           100
          ],
          [
           "female",
           "group A",
           "some high school",
           "standard",
           "none",
           71,
           83,
           77
          ],
          [
           "female",
           "group E",
           "some college",
           "standard",
           "none",
           67,
           76,
           75
          ],
          [
           "female",
           "group C",
           "associate's degree",
           "free/reduced",
           "none",
           57,
           78,
           67
          ],
          [
           "female",
           "group D",
           "some college",
           "standard",
           "none",
           77,
           68,
           77
          ],
          [
           "female",
           "group C",
           "some high school",
           "standard",
           "completed",
           65,
           74,
           77
          ],
          [
           "female",
           "group C",
           "associate's degree",
           "standard",
           "none",
           85,
           89,
           95
          ],
          [
           "female",
           "group C",
           "some high school",
           "standard",
           "completed",
           59,
           54,
           67
          ],
          [
           "female",
           "group A",
           "some college",
           "free/reduced",
           "none",
           49,
           65,
           55
          ],
          [
           "female",
           "group C",
           "some high school",
           "standard",
           "none",
           63,
           73,
           68
          ],
          [
           "female",
           "group C",
           "bachelor's degree",
           "free/reduced",
           "completed",
           51,
           72,
           79
          ],
          [
           "female",
           "group D",
           "high school",
           "standard",
           "completed",
           57,
           58,
           64
          ],
          [
           "female",
           "group D",
           "master's degree",
           "free/reduced",
           "completed",
           47,
           58,
           67
          ],
          [
           "female",
           "group A",
           "some high school",
           "standard",
           "completed",
           59,
           85,
           80
          ],
          [
           "female",
           "group C",
           "high school",
           "standard",
           "none",
           61,
           72,
           70
          ],
          [
           "female",
           "group A",
           "some high school",
           "free/reduced",
           "none",
           47,
           59,
           50
          ],
          [
           "female",
           "group C",
           "some college",
           "standard",
           "completed",
           67,
           81,
           79
          ],
          [
           "female",
           "group A",
           "some high school",
           "free/reduced",
           "none",
           59,
           73,
           69
          ],
          [
           "female",
           "group B",
           "associate's degree",
           "standard",
           "none",
           73,
           83,
           76
          ],
          [
           "female",
           "group C",
           "some high school",
           "standard",
           "completed",
           67,
           74,
           77
          ],
          [
           "female",
           "group C",
           "associate's degree",
           "free/reduced",
           "none",
           65,
           77,
           74
          ],
          [
           "female",
           "group C",
           "associate's degree",
           "free/reduced",
           "none",
           53,
           61,
           62
          ],
          [
           "female",
           "group D",
           "bachelor's degree",
           "standard",
           "none",
           79,
           89,
           89
          ],
          [
           "female",
           "group E",
           "some college",
           "standard",
           "none",
           71,
           70,
           76
          ],
          [
           "female",
           "group C",
           "some college",
           "free/reduced",
           "none",
           77,
           90,
           91
          ],
          [
           "female",
           "group A",
           "high school",
           "free/reduced",
           "completed",
           77,
           88,
           85
          ],
          [
           "female",
           "group C",
           "associate's degree",
           "standard",
           "completed",
           83,
           85,
           90
          ],
          [
           "female",
           "group C",
           "high school",
           "standard",
           "none",
           63,
           69,
           74
          ],
          [
           "female",
           "group D",
           "some high school",
           "standard",
           "none",
           59,
           67,
           61
          ],
          [
           "female",
           "group D",
           "bachelor's degree",
           "standard",
           "completed",
           71,
           76,
           83
          ],
          [
           "female",
           "group D",
           "master's degree",
           "standard",
           "none",
           55,
           64,
           70
          ],
          [
           "female",
           "group B",
           "associate's degree",
           "standard",
           "none",
           49,
           52,
           54
          ],
          [
           "female",
           "group A",
           "associate's degree",
           "free/reduced",
           "none",
           65,
           85,
           76
          ],
          [
           "female",
           "group C",
           "some college",
           "standard",
           "none",
           83,
           83,
           90
          ],
          [
           "female",
           "group C",
           "bachelor's degree",
           "standard",
           "none",
           81,
           88,
           90
          ],
          [
           "female",
           "group D",
           "some college",
           "free/reduced",
           "completed",
           59,
           78,
           76
          ],
          [
           "female",
           "group E",
           "associate's degree",
           "standard",
           "completed",
           95,
           89,
           92
          ],
          [
           "female",
           "group B",
           "master's degree",
           "free/reduced",
           "completed",
           77,
           97,
           94
          ],
          [
           "female",
           "group B",
           "high school",
           "free/reduced",
           "completed",
           67,
           78,
           79
          ],
          [
           "female",
           "group C",
           "associate's degree",
           "standard",
           "none",
           91,
           86,
           84
          ],
          [
           "female",
           "group D",
           "bachelor's degree",
           "free/reduced",
           "none",
           29,
           41,
           47
          ],
          [
           "female",
           "group C",
           "some high school",
           "standard",
           "none",
           47,
           54,
           53
          ],
          [
           "female",
           "group E",
           "associate's degree",
           "standard",
           "completed",
           79,
           88,
           94
          ],
          [
           "female",
           "group D",
           "high school",
           "standard",
           "none",
           51,
           66,
           62
          ],
          [
           "female",
           "group C",
           "associate's degree",
           "standard",
           "none",
           81,
           77,
           79
          ],
          [
           "female",
           "group C",
           "associate's degree",
           "standard",
           "completed",
           55,
           72,
           79
          ],
          [
           "female",
           "group B",
           "associate's degree",
           "free/reduced",
           "none",
           53,
           70,
           70
          ],
          [
           "female",
           "group C",
           "some college",
           "standard",
           "none",
           63,
           74,
           74
          ],
          [
           "female",
           "group D",
           "some college",
           "free/reduced",
           "completed",
           63,
           80,
           80
          ],
          [
           "female",
           "group D",
           "master's degree",
           "free/reduced",
           "completed",
           61,
           71,
           78
          ],
          [
           "female",
           "group C",
           "some college",
           "standard",
           "none",
           53,
           62,
           56
          ],
          [
           "female",
           "group B",
           "high school",
           "standard",
           "none",
           81,
           91,
           89
          ],
          [
           "female",
           "group D",
           "master's degree",
           "standard",
           "none",
           53,
           61,
           68
          ],
          [
           "female",
           "group D",
           "some high school",
           "standard",
           "none",
           81,
           97,
           96
          ],
          [
           "female",
           "group E",
           "some high school",
           "standard",
           "none",
           77,
           79,
           80
          ],
          [
           "female",
           "group D",
           "bachelor's degree",
           "free/reduced",
           "none",
           63,
           73,
           78
          ],
          [
           "female",
           "group D",
           "associate's degree",
           "standard",
           "completed",
           73,
           75,
           80
          ],
          [
           "female",
           "group D",
           "some college",
           "standard",
           "none",
           69,
           77,
           77
          ],
          [
           "female",
           "group C",
           "associate's degree",
           "standard",
           "none",
           65,
           76,
           76
          ],
          [
           "female",
           "group A",
           "high school",
           "standard",
           "none",
           55,
           73,
           73
          ],
          [
           "female",
           "group D",
           "high school",
           "standard",
           "none",
           69,
           77,
           73
          ],
          [
           "female",
           "group D",
           "some high school",
           "standard",
           "none",
           65,
           82,
           81
          ],
          [
           "female",
           "group C",
           "high school",
           "standard",
           "none",
           29,
           29,
           30
          ],
          [
           "female",
           "group C",
           "associate's degree",
           "standard",
           "none",
           85,
           84,
           82
          ],
          [
           "female",
           "group E",
           "some college",
           "standard",
           "none",
           61,
           64,
           62
          ],
          [
           "female",
           "group C",
           "associate's degree",
           "standard",
           "none",
           65,
           77,
           74
          ],
          [
           "female",
           "group E",
           "bachelor's degree",
           "standard",
           "none",
           37,
           45,
           38
          ],
          [
           "female",
           "group C",
           "high school",
           "free/reduced",
           "none",
           35,
           61,
           54
          ],
          [
           "female",
           "group E",
           "bachelor's degree",
           "free/reduced",
           "none",
           61,
           58,
           62
          ],
          [
           "female",
           "group C",
           "high school",
           "standard",
           "none",
           75,
           88,
           85
          ],
          [
           "female",
           "group B",
           "high school",
           "free/reduced",
           "completed",
           67,
           80,
           81
          ],
          [
           "female",
           "group B",
           "bachelor's degree",
           "standard",
           "completed",
           65,
           81,
           81
          ],
          [
           "female",
           "group D",
           "associate's degree",
           "standard",
           "none",
           59,
           70,
           65
          ],
          [
           "female",
           "group D",
           "some college",
           "standard",
           "completed",
           69,
           79,
           81
          ],
          [
           "female",
           "group D",
           "some college",
           "standard",
           "completed",
           85,
           86,
           98
          ],
          [
           "female",
           "group A",
           "associate's degree",
           "standard",
           "completed",
           65,
           70,
           74
          ],
          [
           "female",
           "group B",
           "some high school",
           "standard",
           "none",
           73,
           79,
           79
          ],
          [
           "female",
           "group D",
           "associate's degree",
           "free/reduced",
           "none",
           43,
           60,
           58
          ],
          [
           "female",
           "group D",
           "some college",
           "free/reduced",
           "none",
           55,
           71,
           69
          ],
          [
           "female",
           "group C",
           "high school",
           "standard",
           "none",
           65,
           69,
           67
          ],
          [
           "female",
           "group C",
           "some college",
           "free/reduced",
           "completed",
           63,
           73,
           71
          ],
          [
           "female",
           "group B",
           "bachelor's degree",
           "free/reduced",
           "none",
           77,
           85,
           87
          ],
          [
           "female",
           "group C",
           "some college",
           "standard",
           "none",
           69,
           78,
           76
          ],
          [
           "female",
           "group C",
           "associate's degree",
           "standard",
           "completed",
           65,
           84,
           84
          ],
          [
           "female",
           "group D",
           "high school",
           "standard",
           "completed",
           69,
           77,
           78
          ],
          [
           "female",
           "group E",
           "some college",
           "standard",
           "completed",
           73,
           78,
           76
          ],
          [
           "female",
           "group D",
           "high school",
           "standard",
           "none",
           67,
           72,
           74
          ],
          [
           "female",
           "group C",
           "some high school",
           "free/reduced",
           "completed",
           29,
           40,
           44
          ],
          [
           "female",
           "group C",
           "associate's degree",
           "standard",
           "none",
           49,
           53,
           53
          ],
          [
           "female",
           "group E",
           "associate's degree",
           "free/reduced",
           "none",
           73,
           76,
           78
          ],
          [
           "female",
           "group D",
           "associate's degree",
           "standard",
           "none",
           77,
           77,
           73
          ],
          [
           "female",
           "group C",
           "some high school",
           "standard",
           "none",
           49,
           63,
           56
          ],
          [
           "female",
           "group D",
           "some college",
           "free/reduced",
           "none",
           79,
           89,
           86
          ],
          [
           "female",
           "group C",
           "associate's degree",
           "standard",
           "completed",
           75,
           82,
           90
          ],
          [
           "female",
           "group A",
           "bachelor's degree",
           "standard",
           "none",
           59,
           72,
           70
          ],
          [
           "female",
           "group D",
           "associate's degree",
           "standard",
           "completed",
           57,
           78,
           79
          ],
          [
           "female",
           "group E",
           "bachelor's degree",
           "standard",
           "completed",
           79,
           81,
           82
          ],
          [
           "female",
           "group B",
           "some high school",
           "standard",
           "none",
           57,
           67,
           72
          ],
          [
           "female",
           "group D",
           "some college",
           "standard",
           "none",
           63,
           64,
           67
          ],
          [
           "female",
           "group B",
           "some high school",
           "free/reduced",
           "completed",
           59,
           63,
           64
          ],
          [
           "female",
           "group E",
           "associate's degree",
           "standard",
           "completed",
           65,
           75,
           77
          ],
          [
           "female",
           "group D",
           "high school",
           "free/reduced",
           "none",
           73,
           92,
           84
          ],
          [
           "female",
           "group C",
           "some college",
           "standard",
           "completed",
           87,
           89,
           94
          ],
          [
           "female",
           "group E",
           "some college",
           "free/reduced",
           "none",
           53,
           58,
           57
          ],
          [
           "female",
           "group B",
           "some college",
           "free/reduced",
           "completed",
           53,
           66,
           73
          ],
          [
           "female",
           "group A",
           "associate's degree",
           "free/reduced",
           "none",
           37,
           57,
           56
          ],
          [
           "female",
           "group C",
           "high school",
           "standard",
           "none",
           81,
           84,
           82
          ],
          [
           "female",
           "group C",
           "associate's degree",
           "standard",
           "completed",
           59,
           73,
           72
          ],
          [
           "female",
           "group C",
           "some high school",
           "standard",
           "completed",
           77,
           90,
           85
          ],
          [
           "female",
           "group C",
           "high school",
           "free/reduced",
           "none",
           53,
           72,
           64
          ],
          [
           "female",
           "group B",
           "some high school",
           "free/reduced",
           "none",
           49,
           58,
           55
          ],
          [
           "female",
           "group C",
           "some college",
           "free/reduced",
           "none",
           35,
           44,
           43
          ],
          [
           "female",
           "group B",
           "master's degree",
           "standard",
           "none",
           77,
           90,
           84
          ],
          [
           "female",
           "group B",
           "some college",
           "standard",
           "none",
           19,
           38,
           32
          ],
          [
           "female",
           "group E",
           "associate's degree",
           "free/reduced",
           "completed",
           57,
           68,
           73
          ],
          [
           "female",
           "group E",
           "associate's degree",
           "standard",
           "none",
           87,
           94,
           95
          ],
          [
           "female",
           "group C",
           "some college",
           "standard",
           "none",
           73,
           76,
           78
          ],
          [
           "female",
           "group E",
           "high school",
           "free/reduced",
           "none",
           41,
           45,
           40
          ],
          [
           "female",
           "group A",
           "bachelor's degree",
           "standard",
           "none",
           45,
           59,
           64
          ],
          [
           "female",
           "group C",
           "some high school",
           "standard",
           "none",
           77,
           91,
           88
          ],
          [
           "female",
           "group A",
           "some high school",
           "standard",
           "completed",
           85,
           90,
           92
          ],
          [
           "female",
           "group B",
           "high school",
           "free/reduced",
           "none",
           71,
           87,
           82
          ],
          [
           "female",
           "group C",
           "some high school",
           "standard",
           "none",
           65,
           69,
           76
          ],
          [
           "female",
           "group D",
           "some high school",
           "free/reduced",
           "completed",
           69,
           86,
           81
          ],
          [
           "female",
           "group A",
           "some college",
           "free/reduced",
           "none",
           61,
           60,
           57
          ],
          [
           "female",
           "group B",
           "high school",
           "standard",
           "completed",
           77,
           82,
           89
          ],
          [
           "female",
           "group A",
           "high school",
           "standard",
           "completed",
           75,
           82,
           79
          ],
          [
           "female",
           "group D",
           "high school",
           "free/reduced",
           "none",
           39,
           52,
           46
          ],
          [
           "female",
           "group B",
           "high school",
           "free/reduced",
           "completed",
           23,
           44,
           36
          ],
          [
           "female",
           "group C",
           "high school",
           "standard",
           "none",
           59,
           72,
           68
          ],
          [
           "female",
           "group A",
           "high school",
           "standard",
           "none",
           61,
           68,
           63
          ],
          [
           "female",
           "group E",
           "some college",
           "standard",
           "none",
           87,
           85,
           93
          ],
          [
           "female",
           "group B",
           "bachelor's degree",
           "standard",
           "none",
           97,
           97,
           96
          ],
          [
           "female",
           "group C",
           "bachelor's degree",
           "standard",
           "none",
           65,
           79,
           81
          ],
          [
           "female",
           "group C",
           "associate's degree",
           "standard",
           "none",
           53,
           62,
           53
          ],
          [
           "female",
           "group E",
           "master's degree",
           "free/reduced",
           "none",
           81,
           86,
           87
          ],
          [
           "female",
           "group C",
           "some college",
           "standard",
           "completed",
           71,
           71,
           80
          ],
          [
           "female",
           "group C",
           "bachelor's degree",
           "free/reduced",
           "none",
           43,
           62,
           61
          ],
          [
           "female",
           "group D",
           "some high school",
           "standard",
           "none",
           59,
           72,
           80
          ],
          [
           "female",
           "group E",
           "bachelor's degree",
           "standard",
           "completed",
           71,
           70,
           70
          ],
          [
           "female",
           "group E",
           "associate's degree",
           "standard",
           "none",
           51,
           51,
           54
          ],
          [
           "female",
           "group E",
           "associate's degree",
           "standard",
           "completed",
           93,
           100,
           95
          ],
          [
           "female",
           "group D",
           "some college",
           "free/reduced",
           "none",
           69,
           65,
           74
          ],
          [
           "female",
           "group E",
           "associate's degree",
           "standard",
           "none",
           85,
           92,
           85
          ],
          [
           "female",
           "group E",
           "associate's degree",
           "standard",
           "none",
           59,
           62,
           69
          ],
          [
           "female",
           "group B",
           "some high school",
           "free/reduced",
           "completed",
           63,
           78,
           79
          ],
          [
           "female",
           "group D",
           "some high school",
           "standard",
           "completed",
           65,
           78,
           82
          ],
          [
           "female",
           "group C",
           "master's degree",
           "standard",
           "none",
           73,
           78,
           74
          ],
          [
           "female",
           "group D",
           "bachelor's degree",
           "free/reduced",
           "completed",
           93,
           100,
           100
          ],
          [
           "female",
           "group D",
           "some high school",
           "free/reduced",
           "none",
           67,
           84,
           84
          ],
          [
           "female",
           "group D",
           "some college",
           "standard",
           "completed",
           79,
           84,
           91
          ],
          [
           "female",
           "group C",
           "bachelor's degree",
           "free/reduced",
           "none",
           67,
           75,
           72
          ],
          [
           "female",
           "group A",
           "some college",
           "standard",
           "none",
           69,
           84,
           82
          ],
          [
           "female",
           "group C",
           "bachelor's degree",
           "free/reduced",
           "completed",
           47,
           62,
           66
          ],
          [
           "female",
           "group C",
           "associate's degree",
           "standard",
           "completed",
           57,
           77,
           80
          ],
          [
           "female",
           "group C",
           "high school",
           "free/reduced",
           "none",
           35,
           53,
           46
          ],
          [
           "female",
           "group D",
           "high school",
           "free/reduced",
           "completed",
           65,
           61,
           71
          ],
          [
           "female",
           "group E",
           "high school",
           "free/reduced",
           "none",
           57,
           58,
           57
          ],
          [
           "female",
           "group D",
           "some college",
           "free/reduced",
           "none",
           49,
           58,
           60
          ],
          [
           "female",
           "group E",
           "high school",
           "free/reduced",
           "completed",
           57,
           75,
           73
          ],
          [
           "female",
           "group D",
           "some college",
           "standard",
           "completed",
           75,
           77,
           83
          ],
          [
           "female",
           "group D",
           "high school",
           "standard",
           "none",
           45,
           63,
           59
          ],
          [
           "female",
           "group C",
           "some high school",
           "free/reduced",
           "completed",
           65,
           76,
           75
          ],
          [
           "female",
           "group B",
           "bachelor's degree",
           "standard",
           "none",
           75,
           84,
           80
          ],
          [
           "female",
           "group D",
           "bachelor's degree",
           "standard",
           "none",
           89,
           100,
           100
          ],
          [
           "female",
           "group A",
           "high school",
           "free/reduced",
           "completed",
           53,
           50,
           60
          ],
          [
           "female",
           "group D",
           "some college",
           "free/reduced",
           "none",
           49,
           65,
           61
          ],
          [
           "female",
           "group C",
           "associate's degree",
           "standard",
           "none",
           91,
           95,
           94
          ],
          [
           "female",
           "group D",
           "some college",
           "free/reduced",
           "completed",
           67,
           86,
           83
          ],
          [
           "female",
           "group B",
           "some high school",
           "standard",
           "completed",
           65,
           82,
           78
          ],
          [
           "female",
           "group D",
           "associate's degree",
           "free/reduced",
           "none",
           55,
           76,
           76
          ],
          [
           "female",
           "group C",
           "high school",
           "free/reduced",
           "completed",
           59,
           71,
           65
          ],
          [
           "female",
           "group D",
           "some college",
           "free/reduced",
           "none",
           77,
           86,
           86
          ]
         ]
        },
        {
         "type": "box",
         "x": [
          [
           "male",
           "group A",
           "associate's degree",
           "free/reduced",
           "none",
           47,
           57,
           44
          ],
          [
           "male",
           "group A",
           "master's degree",
           "free/reduced",
           "none",
           73,
           74,
           72
          ],
          [
           "male",
           "group B",
           "some college",
           "standard",
           "none",
           69,
           54,
           55
          ],
          [
           "male",
           "group E",
           "some college",
           "standard",
           "none",
           97,
           87,
           82
          ],
          [
           "male",
           "group E",
           "associate's degree",
           "standard",
           "completed",
           81,
           81,
           79
          ],
          [
           "male",
           "group B",
           "associate's degree",
           "free/reduced",
           "none",
           57,
           56,
           57
          ],
          [
           "male",
           "group C",
           "associate's degree",
           "free/reduced",
           "none",
           55,
           61,
           54
          ],
          [
           "male",
           "group B",
           "some college",
           "free/reduced",
           "completed",
           59,
           65,
           66
          ],
          [
           "male",
           "group B",
           "associate's degree",
           "standard",
           "none",
           65,
           54,
           57
          ],
          [
           "male",
           "group E",
           "some college",
           "standard",
           "none",
           53,
           55,
           48
          ],
          [
           "male",
           "group E",
           "associate's degree",
           "free/reduced",
           "completed",
           77,
           69,
           68
          ],
          [
           "male",
           "group C",
           "some college",
           "standard",
           "none",
           53,
           44,
           42
          ],
          [
           "male",
           "group E",
           "bachelor's degree",
           "free/reduced",
           "completed",
           79,
           74,
           72
          ],
          [
           "male",
           "group A",
           "some high school",
           "free/reduced",
           "none",
           39,
           39,
           34
          ],
          [
           "male",
           "group B",
           "some high school",
           "standard",
           "none",
           67,
           64,
           61
          ],
          [
           "male",
           "group D",
           "some high school",
           "free/reduced",
           "none",
           45,
           37,
           37
          ],
          [
           "male",
           "group B",
           "associate's degree",
           "free/reduced",
           "none",
           61,
           58,
           56
          ],
          [
           "male",
           "group D",
           "some college",
           "standard",
           "completed",
           63,
           55,
           63
          ],
          [
           "male",
           "group C",
           "some high school",
           "free/reduced",
           "none",
           61,
           57,
           56
          ],
          [
           "male",
           "group C",
           "some high school",
           "standard",
           "none",
           49,
           49,
           41
          ],
          [
           "male",
           "group B",
           "high school",
           "free/reduced",
           "none",
           49,
           45,
           45
          ],
          [
           "male",
           "group C",
           "high school",
           "free/reduced",
           "none",
           27,
           34,
           36
          ],
          [
           "male",
           "group C",
           "high school",
           "standard",
           "none",
           71,
           79,
           71
          ],
          [
           "male",
           "group C",
           "associate's degree",
           "free/reduced",
           "completed",
           43,
           45,
           50
          ],
          [
           "male",
           "group B",
           "some high school",
           "standard",
           "completed",
           65,
           66,
           62
          ],
          [
           "male",
           "group B",
           "some college",
           "standard",
           "none",
           79,
           67,
           67
          ],
          [
           "male",
           "group B",
           "associate's degree",
           "standard",
           "completed",
           91,
           89,
           92
          ],
          [
           "male",
           "group D",
           "high school",
           "free/reduced",
           "none",
           63,
           57,
           56
          ],
          [
           "male",
           "group E",
           "some college",
           "standard",
           "none",
           83,
           80,
           73
          ],
          [
           "male",
           "group D",
           "some college",
           "standard",
           "completed",
           65,
           77,
           74
          ],
          [
           "male",
           "group D",
           "master's degree",
           "standard",
           "none",
           89,
           84,
           82
          ],
          [
           "male",
           "group C",
           "some high school",
           "free/reduced",
           "completed",
           53,
           37,
           40
          ],
          [
           "male",
           "group E",
           "some college",
           "free/reduced",
           "completed",
           87,
           74,
           70
          ],
          [
           "male",
           "group B",
           "some high school",
           "standard",
           "completed",
           51,
           54,
           41
          ],
          [
           "male",
           "group D",
           "some college",
           "standard",
           "completed",
           71,
           61,
           69
          ],
          [
           "male",
           "group A",
           "high school",
           "standard",
           "none",
           57,
           43,
           47
          ],
          [
           "male",
           "group C",
           "associate's degree",
           "free/reduced",
           "none",
           73,
           68,
           66
          ],
          [
           "male",
           "group A",
           "bachelor's degree",
           "standard",
           "none",
           77,
           67,
           68
          ],
          [
           "male",
           "group B",
           "master's degree",
           "free/reduced",
           "none",
           49,
           53,
           52
          ],
          [
           "male",
           "group C",
           "high school",
           "free/reduced",
           "completed",
           53,
           51,
           51
          ],
          [
           "male",
           "group C",
           "some high school",
           "free/reduced",
           "completed",
           45,
           52,
           49
          ],
          [
           "male",
           "group C",
           "associate's degree",
           "free/reduced",
           "completed",
           65,
           67,
           65
          ],
          [
           "male",
           "group D",
           "some college",
           "standard",
           "completed",
           77,
           62,
           62
          ],
          [
           "male",
           "group D",
           "associate's degree",
           "standard",
           "none",
           61,
           55,
           52
          ],
          [
           "male",
           "group C",
           "some high school",
           "free/reduced",
           "completed",
           59,
           69,
           65
          ],
          [
           "male",
           "group E",
           "high school",
           "free/reduced",
           "none",
           55,
           56,
           51
          ],
          [
           "male",
           "group C",
           "associate's degree",
           "standard",
           "none",
           69,
           77,
           69
          ],
          [
           "male",
           "group C",
           "some college",
           "standard",
           "none",
           59,
           41,
           42
          ],
          [
           "male",
           "group E",
           "high school",
           "standard",
           "completed",
           81,
           80,
           76
          ],
          [
           "male",
           "group C",
           "some college",
           "free/reduced",
           "none",
           35,
           28,
           27
          ],
          [
           "male",
           "group E",
           "high school",
           "standard",
           "completed",
           87,
           91,
           81
          ],
          [
           "male",
           "group B",
           "some high school",
           "standard",
           "completed",
           61,
           56,
           56
          ],
          [
           "male",
           "group B",
           "associate's degree",
           "standard",
           "none",
           87,
           85,
           73
          ],
          [
           "male",
           "group D",
           "high school",
           "standard",
           "none",
           57,
           50,
           54
          ],
          [
           "male",
           "group C",
           "bachelor's degree",
           "standard",
           "completed",
           83,
           82,
           84
          ],
          [
           "male",
           "group D",
           "bachelor's degree",
           "free/reduced",
           "none",
           63,
           66,
           67
          ],
          [
           "male",
           "group D",
           "high school",
           "free/reduced",
           "completed",
           73,
           68,
           66
          ],
          [
           "male",
           "group E",
           "some college",
           "standard",
           "none",
           59,
           51,
           43
          ],
          [
           "male",
           "group D",
           "some high school",
           "standard",
           "none",
           75,
           74,
           69
          ],
          [
           "male",
           "group C",
           "associate's degree",
           "standard",
           "none",
           85,
           76,
           71
          ],
          [
           "male",
           "group E",
           "associate's degree",
           "standard",
           "none",
           89,
           76,
           74
          ],
          [
           "male",
           "group A",
           "some high school",
           "standard",
           "completed",
           47,
           49,
           49
          ],
          [
           "male",
           "group C",
           "some college",
           "standard",
           "completed",
           79,
           79,
           78
          ],
          [
           "male",
           "group D",
           "some high school",
           "free/reduced",
           "none",
           59,
           42,
           41
          ],
          [
           "male",
           "group C",
           "bachelor's degree",
           "standard",
           "none",
           69,
           63,
           61
          ],
          [
           "male",
           "group C",
           "bachelor's degree",
           "standard",
           "none",
           83,
           78,
           73
          ],
          [
           "male",
           "group B",
           "bachelor's degree",
           "free/reduced",
           "none",
           73,
           56,
           57
          ],
          [
           "male",
           "group D",
           "high school",
           "standard",
           "none",
           53,
           52,
           42
          ],
          [
           "male",
           "group D",
           "high school",
           "standard",
           "none",
           45,
           48,
           46
          ],
          [
           "male",
           "group B",
           "associate's degree",
           "standard",
           "completed",
           81,
           82,
           82
          ],
          [
           "male",
           "group E",
           "associate's degree",
           "standard",
           "completed",
           97,
           82,
           88
          ],
          [
           "male",
           "group E",
           "some high school",
           "standard",
           "completed",
           77,
           76,
           77
          ],
          [
           "male",
           "group C",
           "some high school",
           "standard",
           "completed",
           63,
           60,
           57
          ],
          [
           "male",
           "group B",
           "associate's degree",
           "free/reduced",
           "none",
           67,
           62,
           60
          ],
          [
           "male",
           "group E",
           "associate's degree",
           "standard",
           "completed",
           71,
           74,
           68
          ],
          [
           "male",
           "group A",
           "some college",
           "free/reduced",
           "completed",
           81,
           78,
           81
          ],
          [
           "male",
           "group A",
           "some college",
           "standard",
           "none",
           69,
           67,
           69
          ],
          [
           "male",
           "group E",
           "some college",
           "standard",
           "completed",
           99,
           87,
           81
          ],
          [
           "male",
           "group C",
           "some high school",
           "standard",
           "none",
           51,
           52,
           44
          ],
          [
           "male",
           "group D",
           "bachelor's degree",
           "standard",
           "completed",
           67,
           61,
           68
          ],
          [
           "male",
           "group C",
           "high school",
           "standard",
           "none",
           71,
           66,
           65
          ],
          [
           "male",
           "group C",
           "associate's degree",
           "standard",
           "none",
           83,
           72,
           78
          ],
          [
           "male",
           "group B",
           "bachelor's degree",
           "standard",
           "none",
           63,
           71,
           69
          ],
          [
           "male",
           "group C",
           "some college",
           "standard",
           "none",
           61,
           61,
           62
          ],
          [
           "male",
           "group C",
           "high school",
           "standard",
           "none",
           71,
           60,
           61
          ],
          [
           "male",
           "group C",
           "associate's degree",
           "standard",
           "none",
           47,
           37,
           35
          ],
          [
           "male",
           "group C",
           "associate's degree",
           "standard",
           "none",
           49,
           51,
           43
          ],
          [
           "male",
           "group D",
           "associate's degree",
           "standard",
           "completed",
           67,
           72,
           67
          ],
          [
           "male",
           "group D",
           "some college",
           "standard",
           "none",
           79,
           73,
           67
          ],
          [
           "male",
           "group D",
           "high school",
           "free/reduced",
           "none",
           75,
           74,
           66
          ],
          [
           "male",
           "group E",
           "associate's degree",
           "standard",
           "none",
           87,
           74,
           76
          ],
          [
           "male",
           "group A",
           "associate's degree",
           "standard",
           "none",
           63,
           61,
           61
          ],
          [
           "male",
           "group D",
           "some college",
           "free/reduced",
           "none",
           59,
           62,
           61
          ],
          [
           "male",
           "group B",
           "some high school",
           "standard",
           "completed",
           85,
           84,
           78
          ],
          [
           "male",
           "group C",
           "some college",
           "standard",
           "none",
           59,
           60,
           58
          ],
          [
           "male",
           "group A",
           "bachelor's degree",
           "free/reduced",
           "completed",
           49,
           58,
           60
          ],
          [
           "male",
           "group C",
           "high school",
           "standard",
           "completed",
           69,
           58,
           53
          ],
          [
           "male",
           "group C",
           "bachelor's degree",
           "free/reduced",
           "none",
           61,
           66,
           61
          ],
          [
           "male",
           "group C",
           "associate's degree",
           "standard",
           "completed",
           87,
           100,
           95
          ],
          [
           "male",
           "group C",
           "master's degree",
           "free/reduced",
           "none",
           79,
           81,
           71
          ],
          [
           "male",
           "group D",
           "master's degree",
           "standard",
           "none",
           73,
           70,
           75
          ],
          [
           "male",
           "group E",
           "some high school",
           "free/reduced",
           "completed",
           73,
           67,
           59
          ],
          [
           "male",
           "group C",
           "associate's degree",
           "standard",
           "completed",
           57,
           54,
           56
          ],
          [
           "male",
           "group A",
           "some college",
           "standard",
           "none",
           53,
           43,
           43
          ],
          [
           "male",
           "group B",
           "associate's degree",
           "standard",
           "completed",
           65,
           65,
           63
          ],
          [
           "male",
           "group D",
           "associate's degree",
           "standard",
           "completed",
           87,
           84,
           85
          ],
          [
           "male",
           "group D",
           "associate's degree",
           "standard",
           "none",
           71,
           66,
           60
          ],
          [
           "male",
           "group B",
           "some high school",
           "standard",
           "completed",
           63,
           67,
           67
          ],
          [
           "male",
           "group C",
           "bachelor's degree",
           "standard",
           "completed",
           71,
           74,
           68
          ],
          [
           "male",
           "group E",
           "high school",
           "free/reduced",
           "completed",
           57,
           56,
           54
          ],
          [
           "male",
           "group B",
           "some college",
           "free/reduced",
           "none",
           41,
           39,
           34
          ],
          [
           "male",
           "group C",
           "some high school",
           "free/reduced",
           "none",
           69,
           71,
           65
          ],
          [
           "male",
           "group A",
           "some high school",
           "free/reduced",
           "none",
           65,
           59,
           53
          ],
          [
           "male",
           "group C",
           "high school",
           "standard",
           "none",
           61,
           56,
           55
          ],
          [
           "male",
           "group C",
           "some high school",
           "standard",
           "none",
           73,
           66,
           66
          ],
          [
           "male",
           "group D",
           "associate's degree",
           "standard",
           "none",
           75,
           68,
           64
          ],
          [
           "male",
           "group D",
           "associate's degree",
           "free/reduced",
           "none",
           75,
           66,
           73
          ],
          [
           "male",
           "group D",
           "some high school",
           "standard",
           "completed",
           89,
           88,
           82
          ],
          [
           "male",
           "group A",
           "some high school",
           "free/reduced",
           "none",
           79,
           82,
           73
          ],
          [
           "male",
           "group D",
           "some college",
           "free/reduced",
           "none",
           69,
           66,
           60
          ],
          [
           "male",
           "group B",
           "high school",
           "standard",
           "none",
           47,
           46,
           42
          ],
          [
           "male",
           "group B",
           "associate's degree",
           "standard",
           "none",
           81,
           73,
           72
          ],
          [
           "male",
           "group C",
           "some college",
           "free/reduced",
           "none",
           65,
           58,
           49
          ],
          [
           "male",
           "group C",
           "bachelor's degree",
           "free/reduced",
           "none",
           37,
           56,
           47
          ],
          [
           "male",
           "group D",
           "associate's degree",
           "free/reduced",
           "none",
           53,
           54,
           48
          ],
          [
           "male",
           "group C",
           "bachelor's degree",
           "free/reduced",
           "none",
           53,
           58,
           55
          ],
          [
           "male",
           "group A",
           "bachelor's degree",
           "standard",
           "completed",
           75,
           58,
           62
          ],
          [
           "male",
           "group C",
           "some college",
           "standard",
           "none",
           91,
           74,
           76
          ],
          [
           "male",
           "group B",
           "high school",
           "standard",
           "completed",
           73,
           71,
           68
          ],
          [
           "male",
           "group A",
           "high school",
           "standard",
           "none",
           59,
           52,
           46
          ],
          [
           "male",
           "group D",
           "some college",
           "free/reduced",
           "none",
           61,
           47,
           56
          ],
          [
           "male",
           "group A",
           "associate's degree",
           "free/reduced",
           "completed",
           79,
           82,
           82
          ],
          [
           "male",
           "group C",
           "some college",
           "free/reduced",
           "none",
           63,
           61,
           54
          ],
          [
           "male",
           "group B",
           "bachelor's degree",
           "free/reduced",
           "none",
           55,
           59,
           54
          ],
          [
           "male",
           "group C",
           "master's degree",
           "standard",
           "none",
           79,
           78,
           77
          ],
          [
           "male",
           "group D",
           "some college",
           "standard",
           "none",
           71,
           49,
           52
          ],
          [
           "male",
           "group D",
           "bachelor's degree",
           "standard",
           "none",
           69,
           58,
           57
          ],
          [
           "male",
           "group C",
           "high school",
           "standard",
           "completed",
           53,
           52,
           49
          ],
          [
           "male",
           "group B",
           "high school",
           "standard",
           "completed",
           73,
           69,
           68
          ],
          [
           "male",
           "group C",
           "associate's degree",
           "standard",
           "completed",
           51,
           60,
           58
          ],
          [
           "male",
           "group E",
           "bachelor's degree",
           "standard",
           "completed",
           85,
           66,
           71
          ],
          [
           "male",
           "group A",
           "associate's degree",
           "standard",
           "completed",
           97,
           92,
           86
          ],
          [
           "male",
           "group C",
           "high school",
           "standard",
           "completed",
           75,
           69,
           68
          ],
          [
           "male",
           "group D",
           "associate's degree",
           "free/reduced",
           "completed",
           79,
           82,
           80
          ],
          [
           "male",
           "group C",
           "master's degree",
           "standard",
           "none",
           79,
           72,
           69
          ],
          [
           "male",
           "group C",
           "some high school",
           "free/reduced",
           "none",
           79,
           76,
           65
          ],
          [
           "male",
           "group B",
           "bachelor's degree",
           "free/reduced",
           "completed",
           87,
           90,
           88
          ],
          [
           "male",
           "group D",
           "some college",
           "free/reduced",
           "none",
           77,
           62,
           64
          ],
          [
           "male",
           "group E",
           "associate's degree",
           "standard",
           "none",
           53,
           45,
           40
          ],
          [
           "male",
           "group C",
           "master's degree",
           "free/reduced",
           "none",
           61,
           67,
           66
          ],
          [
           "male",
           "group D",
           "some high school",
           "standard",
           "none",
           73,
           66,
           62
          ],
          [
           "male",
           "group B",
           "high school",
           "free/reduced",
           "none",
           63,
           48,
           47
          ],
          [
           "male",
           "group B",
           "some college",
           "standard",
           "completed",
           71,
           75,
           70
          ],
          [
           "male",
           "group A",
           "bachelor's degree",
           "standard",
           "none",
           91,
           96,
           92
          ],
          [
           "male",
           "group A",
           "some college",
           "standard",
           "completed",
           61,
           51,
           52
          ],
          [
           "male",
           "group A",
           "some high school",
           "standard",
           "none",
           71,
           62,
           50
          ],
          [
           "male",
           "group A",
           "some high school",
           "standard",
           "none",
           53,
           54,
           48
          ],
          [
           "male",
           "group C",
           "some high school",
           "standard",
           "none",
           75,
           72,
           62
          ],
          [
           "male",
           "group D",
           "some college",
           "free/reduced",
           "completed",
           69,
           60,
           63
          ],
          [
           "male",
           "group D",
           "master's degree",
           "standard",
           "none",
           95,
           81,
           84
          ],
          [
           "male",
           "group C",
           "associate's degree",
           "free/reduced",
           "completed",
           65,
           73,
           68
          ],
          [
           "male",
           "group B",
           "associate's degree",
           "free/reduced",
           "completed",
           69,
           70,
           63
          ],
          [
           "male",
           "group D",
           "associate's degree",
           "standard",
           "none",
           61,
           48,
           46
          ],
          [
           "male",
           "group D",
           "some college",
           "free/reduced",
           "none",
           49,
           57,
           46
          ],
          [
           "male",
           "group D",
           "some college",
           "standard",
           "none",
           67,
           64,
           70
          ],
          [
           "male",
           "group B",
           "high school",
           "standard",
           "none",
           79,
           60,
           65
          ],
          [
           "male",
           "group A",
           "high school",
           "standard",
           "none",
           71,
           74,
           64
          ],
          [
           "male",
           "group D",
           "high school",
           "standard",
           "none",
           41,
           52,
           51
          ],
          [
           "male",
           "group C",
           "some high school",
           "free/reduced",
           "completed",
           51,
           56,
           53
          ],
          [
           "male",
           "group C",
           "associate's degree",
           "free/reduced",
           "none",
           77,
           67,
           64
          ],
          [
           "male",
           "group D",
           "some high school",
           "standard",
           "none",
           69,
           66,
           61
          ],
          [
           "male",
           "group C",
           "some high school",
           "standard",
           "none",
           73,
           66,
           63
          ],
          [
           "male",
           "group C",
           "some college",
           "standard",
           "none",
           73,
           74,
           61
          ],
          [
           "male",
           "group D",
           "associate's degree",
           "standard",
           "completed",
           81,
           72,
           77
          ],
          [
           "male",
           "group D",
           "associate's degree",
           "free/reduced",
           "none",
           81,
           75,
           78
          ],
          [
           "male",
           "group D",
           "some college",
           "free/reduced",
           "none",
           63,
           61,
           60
          ],
          [
           "male",
           "group E",
           "some college",
           "standard",
           "completed",
           85,
           75,
           68
          ],
          [
           "male",
           "group D",
           "associate's degree",
           "free/reduced",
           "none",
           77,
           78,
           73
          ],
          [
           "male",
           "group A",
           "high school",
           "free/reduced",
           "none",
           53,
           58,
           44
          ],
          [
           "male",
           "group E",
           "some college",
           "free/reduced",
           "none",
           93,
           90,
           83
          ],
          [
           "male",
           "group A",
           "bachelor's degree",
           "standard",
           "completed",
           87,
           84,
           87
          ],
          [
           "male",
           "group D",
           "high school",
           "standard",
           "none",
           89,
           87,
           79
          ],
          [
           "male",
           "group C",
           "some college",
           "standard",
           "completed",
           93,
           84,
           90
          ],
          [
           "male",
           "group D",
           "master's degree",
           "standard",
           "none",
           81,
           81,
           84
          ],
          [
           "male",
           "group C",
           "associate's degree",
           "standard",
           "completed",
           73,
           78,
           72
          ],
          [
           "male",
           "group E",
           "associate's degree",
           "free/reduced",
           "completed",
           91,
           73,
           80
          ],
          [
           "male",
           "group D",
           "some high school",
           "free/reduced",
           "completed",
           55,
           59,
           59
          ],
          [
           "male",
           "group B",
           "some college",
           "standard",
           "none",
           47,
           43,
           41
          ],
          [
           "male",
           "group E",
           "some college",
           "standard",
           "completed",
           81,
           74,
           71
          ],
          [
           "male",
           "group C",
           "some college",
           "standard",
           "none",
           53,
           39,
           37
          ],
          [
           "male",
           "group A",
           "some high school",
           "free/reduced",
           "none",
           55,
           46,
           43
          ],
          [
           "male",
           "group D",
           "some high school",
           "standard",
           "none",
           55,
           47,
           44
          ],
          [
           "male",
           "group C",
           "master's degree",
           "standard",
           "none",
           67,
           57,
           59
          ],
          [
           "male",
           "group D",
           "associate's degree",
           "standard",
           "none",
           81,
           71,
           73
          ],
          [
           "male",
           "group C",
           "high school",
           "free/reduced",
           "none",
           61,
           60,
           55
          ],
          [
           "male",
           "group B",
           "some college",
           "free/reduced",
           "none",
           55,
           55,
           47
          ],
          [
           "male",
           "group D",
           "high school",
           "standard",
           "none",
           69,
           75,
           71
          ],
          [
           "male",
           "group C",
           "some college",
           "standard",
           "none",
           69,
           64,
           68
          ],
          [
           "male",
           "group B",
           "some college",
           "standard",
           "completed",
           87,
           84,
           86
          ],
          [
           "male",
           "group D",
           "some high school",
           "standard",
           "completed",
           71,
           69,
           68
          ],
          [
           "male",
           "group C",
           "master's degree",
           "free/reduced",
           "completed",
           79,
           77,
           75
          ],
          [
           "male",
           "group D",
           "some college",
           "standard",
           "none",
           55,
           58,
           52
          ],
          [
           "male",
           "group B",
           "some college",
           "standard",
           "completed",
           69,
           77,
           77
          ],
          [
           "male",
           "group D",
           "bachelor's degree",
           "standard",
           "none",
           75,
           73,
           74
          ],
          [
           "male",
           "group C",
           "bachelor's degree",
           "standard",
           "completed",
           91,
           81,
           79
          ],
          [
           "male",
           "group E",
           "some high school",
           "standard",
           "completed",
           89,
           84,
           77
          ],
          [
           "male",
           "group E",
           "some college",
           "standard",
           "none",
           69,
           60,
           54
          ],
          [
           "male",
           "group C",
           "some high school",
           "standard",
           "completed",
           67,
           73,
           68
          ],
          [
           "male",
           "group A",
           "some college",
           "free/reduced",
           "none",
           75,
           81,
           74
          ],
          [
           "male",
           "group B",
           "bachelor's degree",
           "standard",
           "none",
           59,
           54,
           51
          ],
          [
           "male",
           "group A",
           "some high school",
           "standard",
           "none",
           51,
           31,
           36
          ],
          [
           "male",
           "group A",
           "high school",
           "free/reduced",
           "none",
           45,
           47,
           49
          ],
          [
           "male",
           "group E",
           "some high school",
           "standard",
           "completed",
           87,
           84,
           76
          ],
          [
           "male",
           "group D",
           "bachelor's degree",
           "free/reduced",
           "completed",
           61,
           70,
           76
          ],
          [
           "male",
           "group E",
           "some college",
           "free/reduced",
           "completed",
           49,
           52,
           51
          ],
          [
           "male",
           "group E",
           "high school",
           "standard",
           "none",
           73,
           64,
           57
          ],
          [
           "male",
           "group C",
           "master's degree",
           "standard",
           "completed",
           91,
           85,
           85
          ],
          [
           "male",
           "group C",
           "master's degree",
           "standard",
           "none",
           71,
           67,
           67
          ],
          [
           "male",
           "group B",
           "some college",
           "free/reduced",
           "none",
           75,
           68,
           65
          ],
          [
           "male",
           "group C",
           "associate's degree",
           "free/reduced",
           "none",
           87,
           73,
           72
          ],
          [
           "male",
           "group D",
           "bachelor's degree",
           "free/reduced",
           "completed",
           39,
           42,
           38
          ],
          [
           "male",
           "group C",
           "associate's degree",
           "standard",
           "none",
           97,
           93,
           91
          ],
          [
           "male",
           "group C",
           "high school",
           "free/reduced",
           "none",
           59,
           53,
           52
          ],
          [
           "male",
           "group B",
           "associate's degree",
           "standard",
           "none",
           61,
           42,
           41
          ],
          [
           "male",
           "group C",
           "associate's degree",
           "free/reduced",
           "none",
           49,
           51,
           51
          ],
          [
           "male",
           "group B",
           "high school",
           "standard",
           "none",
           59,
           58,
           47
          ],
          [
           "male",
           "group D",
           "some college",
           "standard",
           "none",
           81,
           82,
           84
          ],
          [
           "male",
           "group C",
           "some high school",
           "standard",
           "none",
           57,
           61,
           54
          ],
          [
           "male",
           "group C",
           "bachelor's degree",
           "standard",
           "completed",
           63,
           64,
           66
          ],
          [
           "male",
           "group D",
           "bachelor's degree",
           "free/reduced",
           "none",
           55,
           46,
           44
          ],
          [
           "male",
           "group D",
           "associate's degree",
           "standard",
           "completed",
           67,
           54,
           63
          ],
          [
           "male",
           "group D",
           "master's degree",
           "standard",
           "none",
           85,
           84,
           89
          ],
          [
           "male",
           "group B",
           "high school",
           "standard",
           "none",
           57,
           48,
           51
          ],
          [
           "male",
           "group B",
           "some college",
           "standard",
           "completed",
           91,
           96,
           91
          ],
          [
           "male",
           "group D",
           "high school",
           "free/reduced",
           "none",
           69,
           70,
           67
          ],
          [
           "male",
           "group C",
           "some college",
           "free/reduced",
           "completed",
           67,
           74,
           70
          ],
          [
           "male",
           "group D",
           "associate's degree",
           "free/reduced",
           "completed",
           61,
           71,
           73
          ],
          [
           "male",
           "group A",
           "associate's degree",
           "standard",
           "none",
           67,
           57,
           53
          ],
          [
           "male",
           "group D",
           "some college",
           "standard",
           "completed",
           85,
           81,
           85
          ],
          [
           "male",
           "group D",
           "some high school",
           "standard",
           "completed",
           77,
           68,
           69
          ],
          [
           "male",
           "group C",
           "high school",
           "standard",
           "none",
           81,
           66,
           64
          ],
          [
           "male",
           "group A",
           "some high school",
           "free/reduced",
           "completed",
           61,
           62,
           61
          ],
          [
           "male",
           "group B",
           "some high school",
           "free/reduced",
           "completed",
           49,
           50,
           52
          ],
          [
           "male",
           "group C",
           "high school",
           "standard",
           "none",
           75,
           81,
           71
          ],
          [
           "male",
           "group C",
           "some college",
           "standard",
           "none",
           63,
           63,
           60
          ],
          [
           "male",
           "group D",
           "high school",
           "standard",
           "completed",
           55,
           41,
           48
          ],
          [
           "male",
           "group D",
           "some high school",
           "standard",
           "none",
           81,
           78,
           78
          ],
          [
           "male",
           "group B",
           "some high school",
           "standard",
           "completed",
           79,
           85,
           86
          ],
          [
           "male",
           "group A",
           "high school",
           "standard",
           "none",
           57,
           51,
           54
          ],
          [
           "male",
           "group E",
           "some high school",
           "standard",
           "completed",
           81,
           75,
           76
          ],
          [
           "male",
           "group A",
           "high school",
           "standard",
           "none",
           63,
           63,
           62
          ]
         ]
        }
       ],
       "layout": {
        "template": {
         "data": {
          "bar": [
           {
            "error_x": {
             "color": "#2a3f5f"
            },
            "error_y": {
             "color": "#2a3f5f"
            },
            "marker": {
             "line": {
              "color": "#E5ECF6",
              "width": 0.5
             },
             "pattern": {
              "fillmode": "overlay",
              "size": 10,
              "solidity": 0.2
             }
            },
            "type": "bar"
           }
          ],
          "barpolar": [
           {
            "marker": {
             "line": {
              "color": "#E5ECF6",
              "width": 0.5
             },
             "pattern": {
              "fillmode": "overlay",
              "size": 10,
              "solidity": 0.2
             }
            },
            "type": "barpolar"
           }
          ],
          "carpet": [
           {
            "aaxis": {
             "endlinecolor": "#2a3f5f",
             "gridcolor": "white",
             "linecolor": "white",
             "minorgridcolor": "white",
             "startlinecolor": "#2a3f5f"
            },
            "baxis": {
             "endlinecolor": "#2a3f5f",
             "gridcolor": "white",
             "linecolor": "white",
             "minorgridcolor": "white",
             "startlinecolor": "#2a3f5f"
            },
            "type": "carpet"
           }
          ],
          "choropleth": [
           {
            "colorbar": {
             "outlinewidth": 0,
             "ticks": ""
            },
            "type": "choropleth"
           }
          ],
          "contour": [
           {
            "colorbar": {
             "outlinewidth": 0,
             "ticks": ""
            },
            "colorscale": [
             [
              0,
              "#0d0887"
             ],
             [
              0.1111111111111111,
              "#46039f"
             ],
             [
              0.2222222222222222,
              "#7201a8"
             ],
             [
              0.3333333333333333,
              "#9c179e"
             ],
             [
              0.4444444444444444,
              "#bd3786"
             ],
             [
              0.5555555555555556,
              "#d8576b"
             ],
             [
              0.6666666666666666,
              "#ed7953"
             ],
             [
              0.7777777777777778,
              "#fb9f3a"
             ],
             [
              0.8888888888888888,
              "#fdca26"
             ],
             [
              1,
              "#f0f921"
             ]
            ],
            "type": "contour"
           }
          ],
          "contourcarpet": [
           {
            "colorbar": {
             "outlinewidth": 0,
             "ticks": ""
            },
            "type": "contourcarpet"
           }
          ],
          "heatmap": [
           {
            "colorbar": {
             "outlinewidth": 0,
             "ticks": ""
            },
            "colorscale": [
             [
              0,
              "#0d0887"
             ],
             [
              0.1111111111111111,
              "#46039f"
             ],
             [
              0.2222222222222222,
              "#7201a8"
             ],
             [
              0.3333333333333333,
              "#9c179e"
             ],
             [
              0.4444444444444444,
              "#bd3786"
             ],
             [
              0.5555555555555556,
              "#d8576b"
             ],
             [
              0.6666666666666666,
              "#ed7953"
             ],
             [
              0.7777777777777778,
              "#fb9f3a"
             ],
             [
              0.8888888888888888,
              "#fdca26"
             ],
             [
              1,
              "#f0f921"
             ]
            ],
            "type": "heatmap"
           }
          ],
          "histogram": [
           {
            "marker": {
             "pattern": {
              "fillmode": "overlay",
              "size": 10,
              "solidity": 0.2
             }
            },
            "type": "histogram"
           }
          ],
          "histogram2d": [
           {
            "colorbar": {
             "outlinewidth": 0,
             "ticks": ""
            },
            "colorscale": [
             [
              0,
              "#0d0887"
             ],
             [
              0.1111111111111111,
              "#46039f"
             ],
             [
              0.2222222222222222,
              "#7201a8"
             ],
             [
              0.3333333333333333,
              "#9c179e"
             ],
             [
              0.4444444444444444,
              "#bd3786"
             ],
             [
              0.5555555555555556,
              "#d8576b"
             ],
             [
              0.6666666666666666,
              "#ed7953"
             ],
             [
              0.7777777777777778,
              "#fb9f3a"
             ],
             [
              0.8888888888888888,
              "#fdca26"
             ],
             [
              1,
              "#f0f921"
             ]
            ],
            "type": "histogram2d"
           }
          ],
          "histogram2dcontour": [
           {
            "colorbar": {
             "outlinewidth": 0,
             "ticks": ""
            },
            "colorscale": [
             [
              0,
              "#0d0887"
             ],
             [
              0.1111111111111111,
              "#46039f"
             ],
             [
              0.2222222222222222,
              "#7201a8"
             ],
             [
              0.3333333333333333,
              "#9c179e"
             ],
             [
              0.4444444444444444,
              "#bd3786"
             ],
             [
              0.5555555555555556,
              "#d8576b"
             ],
             [
              0.6666666666666666,
              "#ed7953"
             ],
             [
              0.7777777777777778,
              "#fb9f3a"
             ],
             [
              0.8888888888888888,
              "#fdca26"
             ],
             [
              1,
              "#f0f921"
             ]
            ],
            "type": "histogram2dcontour"
           }
          ],
          "mesh3d": [
           {
            "colorbar": {
             "outlinewidth": 0,
             "ticks": ""
            },
            "type": "mesh3d"
           }
          ],
          "parcoords": [
           {
            "line": {
             "colorbar": {
              "outlinewidth": 0,
              "ticks": ""
             }
            },
            "type": "parcoords"
           }
          ],
          "pie": [
           {
            "automargin": true,
            "type": "pie"
           }
          ],
          "scatter": [
           {
            "fillpattern": {
             "fillmode": "overlay",
             "size": 10,
             "solidity": 0.2
            },
            "type": "scatter"
           }
          ],
          "scatter3d": [
           {
            "line": {
             "colorbar": {
              "outlinewidth": 0,
              "ticks": ""
             }
            },
            "marker": {
             "colorbar": {
              "outlinewidth": 0,
              "ticks": ""
             }
            },
            "type": "scatter3d"
           }
          ],
          "scattercarpet": [
           {
            "marker": {
             "colorbar": {
              "outlinewidth": 0,
              "ticks": ""
             }
            },
            "type": "scattercarpet"
           }
          ],
          "scattergeo": [
           {
            "marker": {
             "colorbar": {
              "outlinewidth": 0,
              "ticks": ""
             }
            },
            "type": "scattergeo"
           }
          ],
          "scattergl": [
           {
            "marker": {
             "colorbar": {
              "outlinewidth": 0,
              "ticks": ""
             }
            },
            "type": "scattergl"
           }
          ],
          "scattermap": [
           {
            "marker": {
             "colorbar": {
              "outlinewidth": 0,
              "ticks": ""
             }
            },
            "type": "scattermap"
           }
          ],
          "scattermapbox": [
           {
            "marker": {
             "colorbar": {
              "outlinewidth": 0,
              "ticks": ""
             }
            },
            "type": "scattermapbox"
           }
          ],
          "scatterpolar": [
           {
            "marker": {
             "colorbar": {
              "outlinewidth": 0,
              "ticks": ""
             }
            },
            "type": "scatterpolar"
           }
          ],
          "scatterpolargl": [
           {
            "marker": {
             "colorbar": {
              "outlinewidth": 0,
              "ticks": ""
             }
            },
            "type": "scatterpolargl"
           }
          ],
          "scatterternary": [
           {
            "marker": {
             "colorbar": {
              "outlinewidth": 0,
              "ticks": ""
             }
            },
            "type": "scatterternary"
           }
          ],
          "surface": [
           {
            "colorbar": {
             "outlinewidth": 0,
             "ticks": ""
            },
            "colorscale": [
             [
              0,
              "#0d0887"
             ],
             [
              0.1111111111111111,
              "#46039f"
             ],
             [
              0.2222222222222222,
              "#7201a8"
             ],
             [
              0.3333333333333333,
              "#9c179e"
             ],
             [
              0.4444444444444444,
              "#bd3786"
             ],
             [
              0.5555555555555556,
              "#d8576b"
             ],
             [
              0.6666666666666666,
              "#ed7953"
             ],
             [
              0.7777777777777778,
              "#fb9f3a"
             ],
             [
              0.8888888888888888,
              "#fdca26"
             ],
             [
              1,
              "#f0f921"
             ]
            ],
            "type": "surface"
           }
          ],
          "table": [
           {
            "cells": {
             "fill": {
              "color": "#EBF0F8"
             },
             "line": {
              "color": "white"
             }
            },
            "header": {
             "fill": {
              "color": "#C8D4E3"
             },
             "line": {
              "color": "white"
             }
            },
            "type": "table"
           }
          ]
         },
         "layout": {
          "annotationdefaults": {
           "arrowcolor": "#2a3f5f",
           "arrowhead": 0,
           "arrowwidth": 1
          },
          "autotypenumbers": "strict",
          "coloraxis": {
           "colorbar": {
            "outlinewidth": 0,
            "ticks": ""
           }
          },
          "colorscale": {
           "diverging": [
            [
             0,
             "#8e0152"
            ],
            [
             0.1,
             "#c51b7d"
            ],
            [
             0.2,
             "#de77ae"
            ],
            [
             0.3,
             "#f1b6da"
            ],
            [
             0.4,
             "#fde0ef"
            ],
            [
             0.5,
             "#f7f7f7"
            ],
            [
             0.6,
             "#e6f5d0"
            ],
            [
             0.7,
             "#b8e186"
            ],
            [
             0.8,
             "#7fbc41"
            ],
            [
             0.9,
             "#4d9221"
            ],
            [
             1,
             "#276419"
            ]
           ],
           "sequential": [
            [
             0,
             "#0d0887"
            ],
            [
             0.1111111111111111,
             "#46039f"
            ],
            [
             0.2222222222222222,
             "#7201a8"
            ],
            [
             0.3333333333333333,
             "#9c179e"
            ],
            [
             0.4444444444444444,
             "#bd3786"
            ],
            [
             0.5555555555555556,
             "#d8576b"
            ],
            [
             0.6666666666666666,
             "#ed7953"
            ],
            [
             0.7777777777777778,
             "#fb9f3a"
            ],
            [
             0.8888888888888888,
             "#fdca26"
            ],
            [
             1,
             "#f0f921"
            ]
           ],
           "sequentialminus": [
            [
             0,
             "#0d0887"
            ],
            [
             0.1111111111111111,
             "#46039f"
            ],
            [
             0.2222222222222222,
             "#7201a8"
            ],
            [
             0.3333333333333333,
             "#9c179e"
            ],
            [
             0.4444444444444444,
             "#bd3786"
            ],
            [
             0.5555555555555556,
             "#d8576b"
            ],
            [
             0.6666666666666666,
             "#ed7953"
            ],
            [
             0.7777777777777778,
             "#fb9f3a"
            ],
            [
             0.8888888888888888,
             "#fdca26"
            ],
            [
             1,
             "#f0f921"
            ]
           ]
          },
          "colorway": [
           "#636efa",
           "#EF553B",
           "#00cc96",
           "#ab63fa",
           "#FFA15A",
           "#19d3f3",
           "#FF6692",
           "#B6E880",
           "#FF97FF",
           "#FECB52"
          ],
          "font": {
           "color": "#2a3f5f"
          },
          "geo": {
           "bgcolor": "white",
           "lakecolor": "white",
           "landcolor": "#E5ECF6",
           "showlakes": true,
           "showland": true,
           "subunitcolor": "white"
          },
          "hoverlabel": {
           "align": "left"
          },
          "hovermode": "closest",
          "mapbox": {
           "style": "light"
          },
          "paper_bgcolor": "white",
          "plot_bgcolor": "#E5ECF6",
          "polar": {
           "angularaxis": {
            "gridcolor": "white",
            "linecolor": "white",
            "ticks": ""
           },
           "bgcolor": "#E5ECF6",
           "radialaxis": {
            "gridcolor": "white",
            "linecolor": "white",
            "ticks": ""
           }
          },
          "scene": {
           "xaxis": {
            "backgroundcolor": "#E5ECF6",
            "gridcolor": "white",
            "gridwidth": 2,
            "linecolor": "white",
            "showbackground": true,
            "ticks": "",
            "zerolinecolor": "white"
           },
           "yaxis": {
            "backgroundcolor": "#E5ECF6",
            "gridcolor": "white",
            "gridwidth": 2,
            "linecolor": "white",
            "showbackground": true,
            "ticks": "",
            "zerolinecolor": "white"
           },
           "zaxis": {
            "backgroundcolor": "#E5ECF6",
            "gridcolor": "white",
            "gridwidth": 2,
            "linecolor": "white",
            "showbackground": true,
            "ticks": "",
            "zerolinecolor": "white"
           }
          },
          "shapedefaults": {
           "line": {
            "color": "#2a3f5f"
           }
          },
          "ternary": {
           "aaxis": {
            "gridcolor": "white",
            "linecolor": "white",
            "ticks": ""
           },
           "baxis": {
            "gridcolor": "white",
            "linecolor": "white",
            "ticks": ""
           },
           "bgcolor": "#E5ECF6",
           "caxis": {
            "gridcolor": "white",
            "linecolor": "white",
            "ticks": ""
           }
          },
          "title": {
           "x": 0.05
          },
          "xaxis": {
           "automargin": true,
           "gridcolor": "white",
           "linecolor": "white",
           "ticks": "",
           "title": {
            "standoff": 15
           },
           "zerolinecolor": "white",
           "zerolinewidth": 2
          },
          "yaxis": {
           "automargin": true,
           "gridcolor": "white",
           "linecolor": "white",
           "ticks": "",
           "title": {
            "standoff": 15
           },
           "zerolinecolor": "white",
           "zerolinewidth": 2
          }
         }
        }
       }
      }
     },
     "metadata": {},
     "output_type": "display_data"
    }
   ],
   "source": [
    "import plotly.graph_objects as go\n",
    "\n",
    "x0 = df[(df['math score']) & (df['gender'] == 'female')]\n",
    "x1 = df[(df['math score']) & (df['gender'] == 'male')]\n",
    "\n",
    "fig = go.Figure()\n",
    "fig.add_trace(go.Box(x=x0))\n",
    "fig.add_trace(go.Box(x=x1))\n",
    "\n",
    "fig.show()"
   ]
  },
  {
   "cell_type": "markdown",
   "id": "f5ccb6e4",
   "metadata": {},
   "source": [
    "### Are better in Maths, Writing or Reading?"
   ]
  },
  {
   "cell_type": "code",
   "execution_count": 10,
   "id": "f227909e",
   "metadata": {},
   "outputs": [
    {
     "data": {
      "text/plain": [
       "array(['female', 'male'], dtype=object)"
      ]
     },
     "execution_count": 10,
     "metadata": {},
     "output_type": "execute_result"
    }
   ],
   "source": [
    "# First I wanna know something...\n",
    "df['gender'].unique()"
   ]
  },
  {
   "cell_type": "markdown",
   "id": "0f519130",
   "metadata": {},
   "source": [
    "Okay so there's only male and female in this dataset... haha (Just to have it clear)"
   ]
  },
  {
   "cell_type": "code",
   "execution_count": 11,
   "id": "51a0b12b",
   "metadata": {},
   "outputs": [
    {
     "data": {
      "text/plain": [
       "array(['group B', 'group C', 'group A', 'group D', 'group E'],\n",
       "      dtype=object)"
      ]
     },
     "execution_count": 11,
     "metadata": {},
     "output_type": "execute_result"
    }
   ],
   "source": [
    "df['race/ethnicity'].unique()"
   ]
  },
  {
   "cell_type": "code",
   "execution_count": 12,
   "id": "16e203fb",
   "metadata": {},
   "outputs": [
    {
     "data": {
      "text/plain": [
       "array([\"bachelor's degree\", 'some college', \"master's degree\",\n",
       "       \"associate's degree\", 'high school', 'some high school'],\n",
       "      dtype=object)"
      ]
     },
     "execution_count": 12,
     "metadata": {},
     "output_type": "execute_result"
    }
   ],
   "source": [
    "df['parental level of education'].unique()"
   ]
  },
  {
   "cell_type": "code",
   "execution_count": 13,
   "id": "b07fe716",
   "metadata": {},
   "outputs": [
    {
     "data": {
      "text/plain": [
       "array(['standard', 'free/reduced'], dtype=object)"
      ]
     },
     "execution_count": 13,
     "metadata": {},
     "output_type": "execute_result"
    }
   ],
   "source": [
    "df['lunch'].unique()"
   ]
  },
  {
   "cell_type": "code",
   "execution_count": 14,
   "id": "0b48577f",
   "metadata": {},
   "outputs": [
    {
     "data": {
      "text/plain": [
       "array(['none', 'completed'], dtype=object)"
      ]
     },
     "execution_count": 14,
     "metadata": {},
     "output_type": "execute_result"
    }
   ],
   "source": [
    "df['test preparation course'].unique()"
   ]
  },
  {
   "cell_type": "markdown",
   "id": "45f39ae9",
   "metadata": {},
   "source": [
    "# Women"
   ]
  },
  {
   "cell_type": "markdown",
   "id": "d379a6ed",
   "metadata": {},
   "source": [
    "So will get the average of grade for each X ethinicity, X parental education, X lunch type and test prep."
   ]
  },
  {
   "cell_type": "markdown",
   "id": "30dc7837",
   "metadata": {},
   "source": [
    "## Group A\n",
    "###### Group Class Minimum"
   ]
  },
  {
   "cell_type": "markdown",
   "id": "d7305b0f",
   "metadata": {},
   "source": [
    "I want to know the average for Group. Class Minimum, with:\n",
    "\n",
    "      a) Group A\n",
    "      b) Some high school\n",
    "      c) free/reduced lunch\n",
    "      d) None test prep"
   ]
  },
  {
   "cell_type": "code",
   "execution_count": 15,
   "id": "0a855edc",
   "metadata": {},
   "outputs": [
    {
     "name": "stdout",
     "output_type": "stream",
     "text": [
      "Avg score for Minimum class (Math): 53.8\n",
      "Avg score for Minimum class (Reading): 58.2\n",
      "Avg score for Minimum class (Writing): 53.2\n"
     ]
    }
   ],
   "source": [
    "filtering_group1 = df[(df['race/ethnicity'] == 'group A') & (df['parental level of education'] == 'some high school') & (df['lunch'] == 'free/reduced') & (df['test preparation course'] == 'none')]\n",
    "# Now filtered those specs, we need to find the average for math score\n",
    "fil_g1_math = filtering_group1['math score'].mean()\n",
    "print(f\"Avg score for Minimum class (Math): {fil_g1_math}\")\n",
    "# Now reading\n",
    "fil_g1_read = filtering_group1['reading score'].mean()\n",
    "print(f\"Avg score for Minimum class (Reading): {fil_g1_read}\")\n",
    "# Now reading\n",
    "fil_g1_write= filtering_group1['writing score'].mean()\n",
    "print(f\"Avg score for Minimum class (Writing): {fil_g1_write}\")\n"
   ]
  },
  {
   "cell_type": "markdown",
   "id": "ffbe000e",
   "metadata": {},
   "source": [
    "I want to know the average for Group. Class Minimum 2, with:\n",
    "\n",
    "      a) Group A\n",
    "      b) Some high school\n",
    "      c) Standard\n",
    "      d) None test prep"
   ]
  },
  {
   "cell_type": "code",
   "execution_count": 16,
   "id": "5621e4a7",
   "metadata": {},
   "outputs": [
    {
     "name": "stdout",
     "output_type": "stream",
     "text": [
      "Avg score for Minimum class (Math): 59.666666666666664\n",
      "Avg score for Minimum class (Reading): 57.666666666666664\n",
      "Avg score for Minimum class (Writing): 53.166666666666664\n"
     ]
    }
   ],
   "source": [
    "filtering_group12 = df[(df['race/ethnicity'] == 'group A') & (df['parental level of education'] == 'some high school') & (df['lunch'] == 'standard') & (df['test preparation course'] == 'none')]\n",
    "# Now filtered those specs, we need to find the average for math score\n",
    "fil_g12_math = filtering_group12['math score'].mean()\n",
    "print(f\"Avg score for Minimum class (Math): {fil_g12_math}\")\n",
    "# Now reading\n",
    "fil_g12_read = filtering_group12['reading score'].mean()\n",
    "print(f\"Avg score for Minimum class (Reading): {fil_g12_read}\")\n",
    "# Now reading\n",
    "fil_g12_write= filtering_group12['writing score'].mean()\n",
    "print(f\"Avg score for Minimum class (Writing): {fil_g12_write}\")\n"
   ]
  },
  {
   "cell_type": "markdown",
   "id": "b8f87802",
   "metadata": {},
   "source": [
    "I want to know the average for Group. Class Minimum 3, with:\n",
    "\n",
    "      a) Group A\n",
    "      b) Some high school\n",
    "      c) Standard\n",
    "      d) completed"
   ]
  },
  {
   "cell_type": "code",
   "execution_count": 17,
   "id": "63fd7a40",
   "metadata": {},
   "outputs": [
    {
     "name": "stdout",
     "output_type": "stream",
     "text": [
      "Avg score for Minimum class (Math): 65.28571428571429\n",
      "Avg score for Minimum class (Reading): 71.42857142857143\n",
      "Avg score for Minimum class (Writing): 70.57142857142857\n"
     ]
    }
   ],
   "source": [
    "filtering_group13 = df[(df['race/ethnicity'] == 'group A') & (df['parental level of education'] == 'some high school') & (df['lunch'] == 'standard') & (df['test preparation course'] == 'completed')]\n",
    "# Now filtered those specs, we need to find the average for math score\n",
    "fil_g13_math = filtering_group13['math score'].mean()\n",
    "print(f\"Avg score for Minimum class (Math): {fil_g13_math}\")\n",
    "# Now reading\n",
    "fil_g13_read = filtering_group13['reading score'].mean()\n",
    "print(f\"Avg score for Minimum class (Reading): {fil_g13_read}\")\n",
    "# Now reading\n",
    "fil_g13_write= filtering_group13['writing score'].mean()\n",
    "print(f\"Avg score for Minimum class (Writing): {fil_g13_write}\")\n"
   ]
  },
  {
   "cell_type": "markdown",
   "id": "cef2fb5b",
   "metadata": {},
   "source": [
    "////////////////////////////////////////////////////////////////////////////////////////////////////////////////////////"
   ]
  },
  {
   "cell_type": "markdown",
   "id": "6a243c65",
   "metadata": {},
   "source": [
    "###### Group Class Medium"
   ]
  },
  {
   "cell_type": "markdown",
   "id": "fa388d86",
   "metadata": {},
   "source": [
    "I want to know the average for Group. Class Medium, with:\n",
    "\n",
    "      a) Group A\n",
    "      b) High school - Some College\n",
    "      c) free/reduced lunch\n",
    "      d) None test prep"
   ]
  },
  {
   "cell_type": "code",
   "execution_count": 18,
   "id": "9eaf420a",
   "metadata": {},
   "outputs": [
    {
     "name": "stdout",
     "output_type": "stream",
     "text": [
      "Avg score for this group (Math): nan\n",
      "Avg score for this group (Reading): nan\n",
      "Avg score for this group (Writing): nan\n"
     ]
    }
   ],
   "source": [
    "\n",
    "filtering_group2_corrected = df[\n",
    "    (df['race/ethnicity'] == 'group A') &\n",
    "    (\n",
    "        (df['parental level of education'] == 'high school') | \n",
    "        (df['parental level of education'] == 'some college')\n",
    "    ) &\n",
    "    (df['lunch'] == 'free/reduced lunch') &\n",
    "    (df['test preparation course'] == 'none')\n",
    "]\n",
    "\n",
    "# Now, calculate the averages using the corrected DataFrame\n",
    "fil_g2_math = filtering_group2_corrected['math score'].mean()\n",
    "print(f\"Avg score for this group (Math): {fil_g2_math:.2f}\")\n",
    "\n",
    "fil_g2_read = filtering_group2_corrected['reading score'].mean()\n",
    "print(f\"Avg score for this group (Reading): {fil_g2_read:.2f}\")\n",
    "\n",
    "fil_g2_write = filtering_group2_corrected['writing score'].mean()\n",
    "print(f\"Avg score for this group (Writing): {fil_g2_write:.2f}\")\n"
   ]
  },
  {
   "cell_type": "markdown",
   "id": "47533882",
   "metadata": {},
   "source": [
    "I want to know the average for Group. Class Medium 2, with:\n",
    "\n",
    "      a) Group A\n",
    "      b) High school - Some College\n",
    "      c) standard lunch\n",
    "      d) None test prep"
   ]
  },
  {
   "cell_type": "code",
   "execution_count": 19,
   "id": "db65ab88",
   "metadata": {},
   "outputs": [
    {
     "name": "stdout",
     "output_type": "stream",
     "text": [
      "Avg math score for this group: 60.71\n",
      "Avg reading score for this group: 62.79\n",
      "Avg writing score for this group: 61.93\n"
     ]
    }
   ],
   "source": [
    "\n",
    "condition_race = (df['race/ethnicity'] == 'group A')\n",
    "condition_education = (df['parental level of education'] == 'high school') | \\\n",
    "                      (df['parental level of education'] == 'some college')\n",
    "condition_lunch = (df['lunch'] == 'standard')\n",
    "condition_test_prep = (df['test preparation course'] == 'none')\n",
    "\n",
    "filtering_group22_corrected = df[\n",
    "    condition_race &\n",
    "    condition_education &\n",
    "    condition_lunch &\n",
    "    condition_test_prep\n",
    "]\n",
    "\n",
    "# Now, calculate the averages as you intended\n",
    "fil_g22_math_avg = filtering_group22_corrected['math score'].mean()\n",
    "print(f\"Avg math score for this group: {fil_g22_math_avg:.2f}\") # Using .2f for cleaner output\n",
    "\n",
    "fil_g22_read_avg = filtering_group22_corrected['reading score'].mean()\n",
    "print(f\"Avg reading score for this group: {fil_g22_read_avg:.2f}\")\n",
    "\n",
    "fil_g22_write_avg = filtering_group22_corrected['writing score'].mean()\n",
    "print(f\"Avg writing score for this group: {fil_g22_write_avg:.2f}\")"
   ]
  },
  {
   "cell_type": "markdown",
   "id": "df5f51ce",
   "metadata": {},
   "source": [
    "I want to know the average for Group. Class Medium 3, with:\n",
    "\n",
    "      a) Group A\n",
    "      b) High school - Some College\n",
    "      c) standard lunch\n",
    "      d) completed"
   ]
  },
  {
   "cell_type": "code",
   "execution_count": 20,
   "id": "a8ac248f",
   "metadata": {},
   "outputs": [
    {
     "name": "stdout",
     "output_type": "stream",
     "text": [
      "Avg math score for this group: 75.50\n",
      "Avg reading score for this group: 77.50\n",
      "Avg writing score for this group: 76.25\n"
     ]
    }
   ],
   "source": [
    "\n",
    "condition_race = (df['race/ethnicity'] == 'group A')\n",
    "condition_education = (df['parental level of education'] == 'high school') | \\\n",
    "                      (df['parental level of education'] == 'some college')\n",
    "condition_lunch = (df['lunch'] == 'standard')\n",
    "condition_test_prep = (df['test preparation course'] == 'completed')\n",
    "\n",
    "filtering_group23_corrected = df[\n",
    "    condition_race &\n",
    "    condition_education &\n",
    "    condition_lunch &\n",
    "    condition_test_prep\n",
    "]\n",
    "\n",
    "# Now, calculate the averages as you intended\n",
    "fil_g23_math_avg = filtering_group23_corrected['math score'].mean()\n",
    "print(f\"Avg math score for this group: {fil_g23_math_avg:.2f}\") # Using .2f for cleaner output\n",
    "\n",
    "fil_g23_read_avg = filtering_group23_corrected['reading score'].mean()\n",
    "print(f\"Avg reading score for this group: {fil_g23_read_avg:.2f}\")\n",
    "\n",
    "fil_g23_write_avg = filtering_group23_corrected['writing score'].mean()\n",
    "print(f\"Avg writing score for this group: {fil_g23_write_avg:.2f}\")"
   ]
  },
  {
   "cell_type": "markdown",
   "id": "c39f14e8",
   "metadata": {},
   "source": [
    "////////////////////////////////////////////////////////////////////////////////////////////////////////////////////////"
   ]
  },
  {
   "cell_type": "markdown",
   "id": "3ae23e25",
   "metadata": {},
   "source": [
    "###### Group Class High"
   ]
  },
  {
   "cell_type": "markdown",
   "id": "dd023f14",
   "metadata": {},
   "source": [
    "I want to know the average for Group. Class High, with:\n",
    "\n",
    "      a) Group A\n",
    "      b) Bachelor - Associate - Master\n",
    "      c) free/reduced lunch\n",
    "      d) None"
   ]
  },
  {
   "cell_type": "code",
   "execution_count": 21,
   "id": "0fac8261",
   "metadata": {},
   "outputs": [
    {
     "name": "stdout",
     "output_type": "stream",
     "text": [
      "Avg math score for this group: 54.62\n",
      "Avg reading score for this group: 65.50\n",
      "Avg writing score for this group: 61.12\n"
     ]
    }
   ],
   "source": [
    "\n",
    "condition_race = (df['race/ethnicity'] == 'group A')\n",
    "condition_education = (df['parental level of education'] == \"bachelor's degree\") | \\\n",
    "                      (df['parental level of education'] == \"associate's degree\") | \\\n",
    "                      (df['parental level of education'] == \"master's degree\")\n",
    "condition_lunch = (df['lunch'] == 'free/reduced')\n",
    "condition_test_prep = (df['test preparation course'] == 'none')\n",
    "\n",
    "filtering_group3_corrected = df[\n",
    "    condition_race &\n",
    "    condition_education &\n",
    "    condition_lunch &\n",
    "    condition_test_prep\n",
    "]\n",
    "\n",
    "# Now, calculate the averages\n",
    "fil_g3_math_avg = filtering_group3_corrected['math score'].mean()\n",
    "print(f\"Avg math score for this group: {fil_g3_math_avg:.2f}\") # Using .2f\n",
    "\n",
    "fil_g3_read_avg = filtering_group3_corrected['reading score'].mean()\n",
    "print(f\"Avg reading score for this group: {fil_g3_read_avg:.2f}\")\n",
    "\n",
    "fil_g3_write_avg = filtering_group3_corrected['writing score'].mean()\n",
    "print(f\"Avg writing score for this group: {fil_g3_write_avg:.2f}\")"
   ]
  },
  {
   "cell_type": "markdown",
   "id": "bf94bf28",
   "metadata": {},
   "source": [
    "I want to know the average for Group. Class High 2, with:\n",
    "\n",
    "      a) Group A\n",
    "      b) Bachelor - Associate - Master\n",
    "      c) Standard\n",
    "      d) None"
   ]
  },
  {
   "cell_type": "code",
   "execution_count": 22,
   "id": "6bbe4b2d",
   "metadata": {},
   "outputs": [
    {
     "name": "stdout",
     "output_type": "stream",
     "text": [
      "Avg math score for this group: 64.08\n",
      "Avg reading score for this group: 65.33\n",
      "Avg writing score for this group: 64.75\n"
     ]
    }
   ],
   "source": [
    "\n",
    "condition_race = (df['race/ethnicity'] == 'group A')\n",
    "condition_education = (df['parental level of education'] == \"bachelor's degree\") | \\\n",
    "                      (df['parental level of education'] == \"associate's degree\") | \\\n",
    "                      (df['parental level of education'] == \"master's degree\")\n",
    "condition_lunch = (df['lunch'] == 'standard')\n",
    "condition_test_prep = (df['test preparation course'] == 'none')\n",
    "\n",
    "filtering_group32_corrected = df[\n",
    "    condition_race &\n",
    "    condition_education &\n",
    "    condition_lunch &\n",
    "    condition_test_prep\n",
    "]\n",
    "\n",
    "# Now, calculate the averages\n",
    "fil_g32_math_avg = filtering_group32_corrected['math score'].mean()\n",
    "print(f\"Avg math score for this group: {fil_g32_math_avg:.2f}\") # Using .2f\n",
    "\n",
    "fil_g32_read_avg = filtering_group32_corrected['reading score'].mean()\n",
    "print(f\"Avg reading score for this group: {fil_g32_read_avg:.2f}\")\n",
    "\n",
    "fil_g32_write_avg = filtering_group32_corrected['writing score'].mean()\n",
    "print(f\"Avg writing score for this group: {fil_g32_write_avg:.2f}\")"
   ]
  },
  {
   "cell_type": "markdown",
   "id": "6dcc26f6",
   "metadata": {},
   "source": [
    "I want to know the average for Group. Class High 3, with:\n",
    "\n",
    "      a) Group A\n",
    "      b) Bachelor - Associate - Master\n",
    "      c) Standard\n",
    "      d) Completed"
   ]
  },
  {
   "cell_type": "code",
   "execution_count": 23,
   "id": "946584e5",
   "metadata": {},
   "outputs": [
    {
     "name": "stdout",
     "output_type": "stream",
     "text": [
      "Avg math score for this group: 76.50\n",
      "Avg reading score for this group: 74.50\n",
      "Avg writing score for this group: 75.33\n"
     ]
    }
   ],
   "source": [
    "\n",
    "condition_race = (df['race/ethnicity'] == 'group A')\n",
    "condition_education = (df['parental level of education'] == \"bachelor's degree\") | \\\n",
    "                      (df['parental level of education'] == \"associate's degree\") | \\\n",
    "                      (df['parental level of education'] == \"master's degree\")\n",
    "condition_lunch = (df['lunch'] == 'standard')\n",
    "condition_test_prep = (df['test preparation course'] == 'completed')\n",
    "\n",
    "filtering_group33_corrected = df[\n",
    "    condition_race &\n",
    "    condition_education &\n",
    "    condition_lunch &\n",
    "    condition_test_prep\n",
    "]\n",
    "\n",
    "# Now, calculate the averages\n",
    "fil_g33_math_avg = filtering_group33_corrected['math score'].mean()\n",
    "print(f\"Avg math score for this group: {fil_g33_math_avg:.2f}\") # Using .2f\n",
    "\n",
    "fil_g33_read_avg = filtering_group33_corrected['reading score'].mean()\n",
    "print(f\"Avg reading score for this group: {fil_g33_read_avg:.2f}\")\n",
    "\n",
    "fil_g33_write_avg = filtering_group33_corrected['writing score'].mean()\n",
    "print(f\"Avg writing score for this group: {fil_g33_write_avg:.2f}\")"
   ]
  },
  {
   "cell_type": "markdown",
   "id": "7383af7c",
   "metadata": {},
   "source": [
    "#### Graph"
   ]
  },
  {
   "cell_type": "markdown",
   "id": "3516afef",
   "metadata": {},
   "source": [
    "//////////////////////////////////////////////////////////////////////////"
   ]
  },
  {
   "cell_type": "code",
   "execution_count": 24,
   "id": "33ea24d3",
   "metadata": {},
   "outputs": [
    {
     "data": {
      "application/vnd.plotly.v1+json": {
       "config": {
        "plotlyServerURL": "https://plot.ly"
       },
       "data": [
        {
         "name": "Group 3",
         "type": "bar",
         "x": [
          "Math",
          "Reading",
          "Writing"
         ],
         "y": [
          54.625,
          65.5,
          61.125
         ]
        },
        {
         "name": "Group 32",
         "type": "bar",
         "x": [
          "Math",
          "Reading",
          "Writing"
         ],
         "y": [
          64.08333333333333,
          65.33333333333333,
          64.75
         ]
        },
        {
         "name": "Group 33",
         "type": "bar",
         "x": [
          "Math",
          "Reading",
          "Writing"
         ],
         "y": [
          76.5,
          74.5,
          75.33333333333333
         ]
        }
       ],
       "layout": {
        "barmode": "group",
        "template": {
         "data": {
          "bar": [
           {
            "error_x": {
             "color": "#2a3f5f"
            },
            "error_y": {
             "color": "#2a3f5f"
            },
            "marker": {
             "line": {
              "color": "#E5ECF6",
              "width": 0.5
             },
             "pattern": {
              "fillmode": "overlay",
              "size": 10,
              "solidity": 0.2
             }
            },
            "type": "bar"
           }
          ],
          "barpolar": [
           {
            "marker": {
             "line": {
              "color": "#E5ECF6",
              "width": 0.5
             },
             "pattern": {
              "fillmode": "overlay",
              "size": 10,
              "solidity": 0.2
             }
            },
            "type": "barpolar"
           }
          ],
          "carpet": [
           {
            "aaxis": {
             "endlinecolor": "#2a3f5f",
             "gridcolor": "white",
             "linecolor": "white",
             "minorgridcolor": "white",
             "startlinecolor": "#2a3f5f"
            },
            "baxis": {
             "endlinecolor": "#2a3f5f",
             "gridcolor": "white",
             "linecolor": "white",
             "minorgridcolor": "white",
             "startlinecolor": "#2a3f5f"
            },
            "type": "carpet"
           }
          ],
          "choropleth": [
           {
            "colorbar": {
             "outlinewidth": 0,
             "ticks": ""
            },
            "type": "choropleth"
           }
          ],
          "contour": [
           {
            "colorbar": {
             "outlinewidth": 0,
             "ticks": ""
            },
            "colorscale": [
             [
              0,
              "#0d0887"
             ],
             [
              0.1111111111111111,
              "#46039f"
             ],
             [
              0.2222222222222222,
              "#7201a8"
             ],
             [
              0.3333333333333333,
              "#9c179e"
             ],
             [
              0.4444444444444444,
              "#bd3786"
             ],
             [
              0.5555555555555556,
              "#d8576b"
             ],
             [
              0.6666666666666666,
              "#ed7953"
             ],
             [
              0.7777777777777778,
              "#fb9f3a"
             ],
             [
              0.8888888888888888,
              "#fdca26"
             ],
             [
              1,
              "#f0f921"
             ]
            ],
            "type": "contour"
           }
          ],
          "contourcarpet": [
           {
            "colorbar": {
             "outlinewidth": 0,
             "ticks": ""
            },
            "type": "contourcarpet"
           }
          ],
          "heatmap": [
           {
            "colorbar": {
             "outlinewidth": 0,
             "ticks": ""
            },
            "colorscale": [
             [
              0,
              "#0d0887"
             ],
             [
              0.1111111111111111,
              "#46039f"
             ],
             [
              0.2222222222222222,
              "#7201a8"
             ],
             [
              0.3333333333333333,
              "#9c179e"
             ],
             [
              0.4444444444444444,
              "#bd3786"
             ],
             [
              0.5555555555555556,
              "#d8576b"
             ],
             [
              0.6666666666666666,
              "#ed7953"
             ],
             [
              0.7777777777777778,
              "#fb9f3a"
             ],
             [
              0.8888888888888888,
              "#fdca26"
             ],
             [
              1,
              "#f0f921"
             ]
            ],
            "type": "heatmap"
           }
          ],
          "histogram": [
           {
            "marker": {
             "pattern": {
              "fillmode": "overlay",
              "size": 10,
              "solidity": 0.2
             }
            },
            "type": "histogram"
           }
          ],
          "histogram2d": [
           {
            "colorbar": {
             "outlinewidth": 0,
             "ticks": ""
            },
            "colorscale": [
             [
              0,
              "#0d0887"
             ],
             [
              0.1111111111111111,
              "#46039f"
             ],
             [
              0.2222222222222222,
              "#7201a8"
             ],
             [
              0.3333333333333333,
              "#9c179e"
             ],
             [
              0.4444444444444444,
              "#bd3786"
             ],
             [
              0.5555555555555556,
              "#d8576b"
             ],
             [
              0.6666666666666666,
              "#ed7953"
             ],
             [
              0.7777777777777778,
              "#fb9f3a"
             ],
             [
              0.8888888888888888,
              "#fdca26"
             ],
             [
              1,
              "#f0f921"
             ]
            ],
            "type": "histogram2d"
           }
          ],
          "histogram2dcontour": [
           {
            "colorbar": {
             "outlinewidth": 0,
             "ticks": ""
            },
            "colorscale": [
             [
              0,
              "#0d0887"
             ],
             [
              0.1111111111111111,
              "#46039f"
             ],
             [
              0.2222222222222222,
              "#7201a8"
             ],
             [
              0.3333333333333333,
              "#9c179e"
             ],
             [
              0.4444444444444444,
              "#bd3786"
             ],
             [
              0.5555555555555556,
              "#d8576b"
             ],
             [
              0.6666666666666666,
              "#ed7953"
             ],
             [
              0.7777777777777778,
              "#fb9f3a"
             ],
             [
              0.8888888888888888,
              "#fdca26"
             ],
             [
              1,
              "#f0f921"
             ]
            ],
            "type": "histogram2dcontour"
           }
          ],
          "mesh3d": [
           {
            "colorbar": {
             "outlinewidth": 0,
             "ticks": ""
            },
            "type": "mesh3d"
           }
          ],
          "parcoords": [
           {
            "line": {
             "colorbar": {
              "outlinewidth": 0,
              "ticks": ""
             }
            },
            "type": "parcoords"
           }
          ],
          "pie": [
           {
            "automargin": true,
            "type": "pie"
           }
          ],
          "scatter": [
           {
            "fillpattern": {
             "fillmode": "overlay",
             "size": 10,
             "solidity": 0.2
            },
            "type": "scatter"
           }
          ],
          "scatter3d": [
           {
            "line": {
             "colorbar": {
              "outlinewidth": 0,
              "ticks": ""
             }
            },
            "marker": {
             "colorbar": {
              "outlinewidth": 0,
              "ticks": ""
             }
            },
            "type": "scatter3d"
           }
          ],
          "scattercarpet": [
           {
            "marker": {
             "colorbar": {
              "outlinewidth": 0,
              "ticks": ""
             }
            },
            "type": "scattercarpet"
           }
          ],
          "scattergeo": [
           {
            "marker": {
             "colorbar": {
              "outlinewidth": 0,
              "ticks": ""
             }
            },
            "type": "scattergeo"
           }
          ],
          "scattergl": [
           {
            "marker": {
             "colorbar": {
              "outlinewidth": 0,
              "ticks": ""
             }
            },
            "type": "scattergl"
           }
          ],
          "scattermap": [
           {
            "marker": {
             "colorbar": {
              "outlinewidth": 0,
              "ticks": ""
             }
            },
            "type": "scattermap"
           }
          ],
          "scattermapbox": [
           {
            "marker": {
             "colorbar": {
              "outlinewidth": 0,
              "ticks": ""
             }
            },
            "type": "scattermapbox"
           }
          ],
          "scatterpolar": [
           {
            "marker": {
             "colorbar": {
              "outlinewidth": 0,
              "ticks": ""
             }
            },
            "type": "scatterpolar"
           }
          ],
          "scatterpolargl": [
           {
            "marker": {
             "colorbar": {
              "outlinewidth": 0,
              "ticks": ""
             }
            },
            "type": "scatterpolargl"
           }
          ],
          "scatterternary": [
           {
            "marker": {
             "colorbar": {
              "outlinewidth": 0,
              "ticks": ""
             }
            },
            "type": "scatterternary"
           }
          ],
          "surface": [
           {
            "colorbar": {
             "outlinewidth": 0,
             "ticks": ""
            },
            "colorscale": [
             [
              0,
              "#0d0887"
             ],
             [
              0.1111111111111111,
              "#46039f"
             ],
             [
              0.2222222222222222,
              "#7201a8"
             ],
             [
              0.3333333333333333,
              "#9c179e"
             ],
             [
              0.4444444444444444,
              "#bd3786"
             ],
             [
              0.5555555555555556,
              "#d8576b"
             ],
             [
              0.6666666666666666,
              "#ed7953"
             ],
             [
              0.7777777777777778,
              "#fb9f3a"
             ],
             [
              0.8888888888888888,
              "#fdca26"
             ],
             [
              1,
              "#f0f921"
             ]
            ],
            "type": "surface"
           }
          ],
          "table": [
           {
            "cells": {
             "fill": {
              "color": "#EBF0F8"
             },
             "line": {
              "color": "white"
             }
            },
            "header": {
             "fill": {
              "color": "#C8D4E3"
             },
             "line": {
              "color": "white"
             }
            },
            "type": "table"
           }
          ]
         },
         "layout": {
          "annotationdefaults": {
           "arrowcolor": "#2a3f5f",
           "arrowhead": 0,
           "arrowwidth": 1
          },
          "autotypenumbers": "strict",
          "coloraxis": {
           "colorbar": {
            "outlinewidth": 0,
            "ticks": ""
           }
          },
          "colorscale": {
           "diverging": [
            [
             0,
             "#8e0152"
            ],
            [
             0.1,
             "#c51b7d"
            ],
            [
             0.2,
             "#de77ae"
            ],
            [
             0.3,
             "#f1b6da"
            ],
            [
             0.4,
             "#fde0ef"
            ],
            [
             0.5,
             "#f7f7f7"
            ],
            [
             0.6,
             "#e6f5d0"
            ],
            [
             0.7,
             "#b8e186"
            ],
            [
             0.8,
             "#7fbc41"
            ],
            [
             0.9,
             "#4d9221"
            ],
            [
             1,
             "#276419"
            ]
           ],
           "sequential": [
            [
             0,
             "#0d0887"
            ],
            [
             0.1111111111111111,
             "#46039f"
            ],
            [
             0.2222222222222222,
             "#7201a8"
            ],
            [
             0.3333333333333333,
             "#9c179e"
            ],
            [
             0.4444444444444444,
             "#bd3786"
            ],
            [
             0.5555555555555556,
             "#d8576b"
            ],
            [
             0.6666666666666666,
             "#ed7953"
            ],
            [
             0.7777777777777778,
             "#fb9f3a"
            ],
            [
             0.8888888888888888,
             "#fdca26"
            ],
            [
             1,
             "#f0f921"
            ]
           ],
           "sequentialminus": [
            [
             0,
             "#0d0887"
            ],
            [
             0.1111111111111111,
             "#46039f"
            ],
            [
             0.2222222222222222,
             "#7201a8"
            ],
            [
             0.3333333333333333,
             "#9c179e"
            ],
            [
             0.4444444444444444,
             "#bd3786"
            ],
            [
             0.5555555555555556,
             "#d8576b"
            ],
            [
             0.6666666666666666,
             "#ed7953"
            ],
            [
             0.7777777777777778,
             "#fb9f3a"
            ],
            [
             0.8888888888888888,
             "#fdca26"
            ],
            [
             1,
             "#f0f921"
            ]
           ]
          },
          "colorway": [
           "#636efa",
           "#EF553B",
           "#00cc96",
           "#ab63fa",
           "#FFA15A",
           "#19d3f3",
           "#FF6692",
           "#B6E880",
           "#FF97FF",
           "#FECB52"
          ],
          "font": {
           "color": "#2a3f5f"
          },
          "geo": {
           "bgcolor": "white",
           "lakecolor": "white",
           "landcolor": "#E5ECF6",
           "showlakes": true,
           "showland": true,
           "subunitcolor": "white"
          },
          "hoverlabel": {
           "align": "left"
          },
          "hovermode": "closest",
          "mapbox": {
           "style": "light"
          },
          "paper_bgcolor": "white",
          "plot_bgcolor": "#E5ECF6",
          "polar": {
           "angularaxis": {
            "gridcolor": "white",
            "linecolor": "white",
            "ticks": ""
           },
           "bgcolor": "#E5ECF6",
           "radialaxis": {
            "gridcolor": "white",
            "linecolor": "white",
            "ticks": ""
           }
          },
          "scene": {
           "xaxis": {
            "backgroundcolor": "#E5ECF6",
            "gridcolor": "white",
            "gridwidth": 2,
            "linecolor": "white",
            "showbackground": true,
            "ticks": "",
            "zerolinecolor": "white"
           },
           "yaxis": {
            "backgroundcolor": "#E5ECF6",
            "gridcolor": "white",
            "gridwidth": 2,
            "linecolor": "white",
            "showbackground": true,
            "ticks": "",
            "zerolinecolor": "white"
           },
           "zaxis": {
            "backgroundcolor": "#E5ECF6",
            "gridcolor": "white",
            "gridwidth": 2,
            "linecolor": "white",
            "showbackground": true,
            "ticks": "",
            "zerolinecolor": "white"
           }
          },
          "shapedefaults": {
           "line": {
            "color": "#2a3f5f"
           }
          },
          "ternary": {
           "aaxis": {
            "gridcolor": "white",
            "linecolor": "white",
            "ticks": ""
           },
           "baxis": {
            "gridcolor": "white",
            "linecolor": "white",
            "ticks": ""
           },
           "bgcolor": "#E5ECF6",
           "caxis": {
            "gridcolor": "white",
            "linecolor": "white",
            "ticks": ""
           }
          },
          "title": {
           "x": 0.05
          },
          "xaxis": {
           "automargin": true,
           "gridcolor": "white",
           "linecolor": "white",
           "ticks": "",
           "title": {
            "standoff": 15
           },
           "zerolinecolor": "white",
           "zerolinewidth": 2
          },
          "yaxis": {
           "automargin": true,
           "gridcolor": "white",
           "linecolor": "white",
           "ticks": "",
           "title": {
            "standoff": 15
           },
           "zerolinecolor": "white",
           "zerolinewidth": 2
          }
         }
        },
        "title": {
         "text": "Average Scores by Subject for Group A"
        },
        "xaxis": {
         "title": {
          "text": "Subject"
         }
        },
        "yaxis": {
         "title": {
          "text": "Average Score"
         }
        }
       }
      }
     },
     "metadata": {},
     "output_type": "display_data"
    }
   ],
   "source": [
    "subjects = ['Math', 'Reading', 'Writing']\n",
    "group3_scores = [fil_g3_math_avg, fil_g3_read_avg, fil_g3_write_avg]\n",
    "group32_scores = [fil_g32_math_avg, fil_g32_read_avg, fil_g32_write_avg]\n",
    "group33_scores = [fil_g33_math_avg, fil_g33_read_avg, fil_g33_write_avg]\n",
    "\n",
    "# Plotly grouped bar chart with just one group for now\n",
    "fig = go.Figure(data=[\n",
    "    go.Bar(name='Group 3', x=subjects, y=group3_scores),\n",
    "    go.Bar(name='Group 32', x=subjects, y=group32_scores),\n",
    "    go.Bar(name='Group 33', x=subjects, y=group33_scores)\n",
    "])\n",
    "\n",
    "# Customize layout\n",
    "fig.update_layout(\n",
    "    title='Average Scores by Subject for Group A',\n",
    "    xaxis_title='Subject',\n",
    "    yaxis_title='Average Score',\n",
    "    barmode='group'\n",
    ")\n",
    "\n",
    "fig.show()\n"
   ]
  },
  {
   "cell_type": "markdown",
   "id": "f3172b32",
   "metadata": {},
   "source": [
    "## Group B"
   ]
  },
  {
   "cell_type": "markdown",
   "id": "215241c8",
   "metadata": {},
   "source": [
    "I want to know the average for Group. Class Minimum, with:\n",
    "\n",
    "      a) Group A\n",
    "      b) Some high school\n",
    "      c) free/reduced lunch\n",
    "      d) None test prep"
   ]
  },
  {
   "cell_type": "code",
   "execution_count": 25,
   "id": "3577fd4d",
   "metadata": {},
   "outputs": [
    {
     "name": "stdout",
     "output_type": "stream",
     "text": [
      "Avg score for Minimum class (Math): 42.2\n",
      "Avg score for Minimum class (Reading): 52.2\n",
      "Avg score for Minimum class (Writing): 46.8\n"
     ]
    }
   ],
   "source": [
    "filtering_groupb1 = df[(df['race/ethnicity'] == 'group B') & (df['parental level of education'] == 'some high school') & (df['lunch'] == 'free/reduced') & (df['test preparation course'] == 'none')]\n",
    "# Now filtered those specs, we need to find the average for math score\n",
    "fil_gb1_math = filtering_groupb1['math score'].mean()\n",
    "print(f\"Avg score for Minimum class (Math): {fil_gb1_math}\")\n",
    "# Now reading\n",
    "fil_gb1_read = filtering_groupb1['reading score'].mean()\n",
    "print(f\"Avg score for Minimum class (Reading): {fil_gb1_read}\")\n",
    "# Now reading\n",
    "fil_gb1_write= filtering_groupb1['writing score'].mean()\n",
    "print(f\"Avg score for Minimum class (Writing): {fil_gb1_write}\")\n"
   ]
  },
  {
   "cell_type": "markdown",
   "id": "b8af62b2",
   "metadata": {},
   "source": [
    "I want to know the average for Group. Class Minimum 2, with:\n",
    "\n",
    "      a) Group A\n",
    "      b) Some high school\n",
    "      c) Standard\n",
    "      d) None test prep"
   ]
  },
  {
   "cell_type": "code",
   "execution_count": 26,
   "id": "b4a84a75",
   "metadata": {},
   "outputs": [
    {
     "name": "stdout",
     "output_type": "stream",
     "text": [
      "Avg score for Minimum class (Math): 66.0\n",
      "Avg score for Minimum class (Reading): 67.71428571428571\n",
      "Avg score for Minimum class (Writing): 66.35714285714286\n"
     ]
    }
   ],
   "source": [
    "filtering_groupb12 = df[(df['race/ethnicity'] == 'group B') & (df['parental level of education'] == 'some high school') & (df['lunch'] == 'standard') & (df['test preparation course'] == 'none')]\n",
    "# Now filtered those specs, we need to find the average for math score\n",
    "fil_gb12_math = filtering_groupb12['math score'].mean()\n",
    "print(f\"Avg score for Minimum class (Math): {fil_gb12_math}\")\n",
    "# Now reading\n",
    "fil_gb12_read = filtering_groupb12['reading score'].mean()\n",
    "print(f\"Avg score for Minimum class (Reading): {fil_gb12_read}\")\n",
    "# Now reading\n",
    "fil_gb12_write= filtering_groupb12['writing score'].mean()\n",
    "print(f\"Avg score for Minimum class (Writing): {fil_gb12_write}\")\n"
   ]
  },
  {
   "cell_type": "markdown",
   "id": "69811aff",
   "metadata": {},
   "source": [
    "I want to know the average for Group. Class Minimum 3, with:\n",
    "\n",
    "      a) Group A\n",
    "      b) Some high school\n",
    "      c) Standard\n",
    "      d) completed"
   ]
  },
  {
   "cell_type": "code",
   "execution_count": 27,
   "id": "6bce9f7b",
   "metadata": {},
   "outputs": [
    {
     "name": "stdout",
     "output_type": "stream",
     "text": [
      "Avg score for Minimum class (Math): 65.5\n",
      "Avg score for Minimum class (Reading): 69.14285714285714\n",
      "Avg score for Minimum class (Writing): 66.92857142857143\n"
     ]
    }
   ],
   "source": [
    "filtering_groupb13 = df[(df['race/ethnicity'] == 'group B') & (df['parental level of education'] == 'some high school') & (df['lunch'] == 'standard') & (df['test preparation course'] == 'completed')]\n",
    "# Now filtered those specs, we need to find the average for math score\n",
    "fil_gb13_math = filtering_groupb13['math score'].mean()\n",
    "print(f\"Avg score for Minimum class (Math): {fil_gb13_math}\")\n",
    "# Now reading\n",
    "fil_gb13_read = filtering_groupb13['reading score'].mean()\n",
    "print(f\"Avg score for Minimum class (Reading): {fil_gb13_read}\")\n",
    "# Now reading\n",
    "fil_gb13_write= filtering_groupb13['writing score'].mean()\n",
    "print(f\"Avg score for Minimum class (Writing): {fil_gb13_write}\")\n"
   ]
  },
  {
   "cell_type": "markdown",
   "id": "a9daf511",
   "metadata": {},
   "source": [
    "////////////////////////////////////////////////////////////////////////////////////////////////////////////////////////"
   ]
  },
  {
   "cell_type": "markdown",
   "id": "d5954f02",
   "metadata": {},
   "source": [
    "###### Group Class Medium"
   ]
  },
  {
   "cell_type": "markdown",
   "id": "33424307",
   "metadata": {},
   "source": [
    "I want to know the average for Group. Class Medium, with:\n",
    "\n",
    "      a) Group A\n",
    "      b) High school - Some College\n",
    "      c) free/reduced lunch\n",
    "      d) None test prep"
   ]
  },
  {
   "cell_type": "code",
   "execution_count": 28,
   "id": "02317762",
   "metadata": {},
   "outputs": [
    {
     "name": "stdout",
     "output_type": "stream",
     "text": [
      "Avg score for this group (Math): nan\n",
      "Avg score for this group (Reading): nan\n",
      "Avg score for this group (Writing): nan\n"
     ]
    }
   ],
   "source": [
    "\n",
    "filtering_groupb2_corrected = df[\n",
    "    (df['race/ethnicity'] == 'group B') &\n",
    "    (\n",
    "        (df['parental level of education'] == 'high school') | \n",
    "        (df['parental level of education'] == 'some college')\n",
    "    ) &\n",
    "    (df['lunch'] == 'free/reduced lunch') &\n",
    "    (df['test preparation course'] == 'none')\n",
    "]\n",
    "\n",
    "# Now, calculate the averages using the corrected DataFrame\n",
    "fil_gb2_math = filtering_groupb2_corrected['math score'].mean()\n",
    "print(f\"Avg score for this group (Math): {fil_gb2_math:.2f}\")\n",
    "\n",
    "fil_gb2_read = filtering_groupb2_corrected['reading score'].mean()\n",
    "print(f\"Avg score for this group (Reading): {fil_gb2_read:.2f}\")\n",
    "\n",
    "fil_gb2_write = filtering_groupb2_corrected['writing score'].mean()\n",
    "print(f\"Avg score for this group (Writing): {fil_gb2_write:.2f}\")\n"
   ]
  },
  {
   "cell_type": "markdown",
   "id": "c1105ba6",
   "metadata": {},
   "source": [
    "I want to know the average for Group. Class Medium 2, with:\n",
    "\n",
    "      a) Group A\n",
    "      b) High school - Some College\n",
    "      c) standard lunch\n",
    "      d) None test prep"
   ]
  },
  {
   "cell_type": "code",
   "execution_count": 29,
   "id": "a00ebb02",
   "metadata": {},
   "outputs": [
    {
     "name": "stdout",
     "output_type": "stream",
     "text": [
      "Avg math score for this group: 62.51\n",
      "Avg reading score for this group: 63.89\n",
      "Avg writing score for this group: 62.00\n"
     ]
    }
   ],
   "source": [
    "\n",
    "condition_race = (df['race/ethnicity'] == 'group B')\n",
    "condition_education = (df['parental level of education'] == 'high school') | \\\n",
    "                      (df['parental level of education'] == 'some college')\n",
    "condition_lunch = (df['lunch'] == 'standard')\n",
    "condition_test_prep = (df['test preparation course'] == 'none')\n",
    "\n",
    "filtering_groupb22_corrected = df[\n",
    "    condition_race &\n",
    "    condition_education &\n",
    "    condition_lunch &\n",
    "    condition_test_prep\n",
    "]\n",
    "\n",
    "# Now, calculate the averages as you intended\n",
    "fil_gb22_math_avg = filtering_groupb22_corrected['math score'].mean()\n",
    "print(f\"Avg math score for this group: {fil_gb22_math_avg:.2f}\") # Using .2f for cleaner output\n",
    "\n",
    "fil_gb22_read_avg = filtering_groupb22_corrected['reading score'].mean()\n",
    "print(f\"Avg reading score for this group: {fil_gb22_read_avg:.2f}\")\n",
    "\n",
    "fil_gb22_write_avg = filtering_groupb22_corrected['writing score'].mean()\n",
    "print(f\"Avg writing score for this group: {fil_gb22_write_avg:.2f}\")"
   ]
  },
  {
   "cell_type": "markdown",
   "id": "27e13f34",
   "metadata": {},
   "source": [
    "I want to know the average for Group. Class Medium 3, with:\n",
    "\n",
    "      a) Group A\n",
    "      b) High school - Some College\n",
    "      c) standard lunch\n",
    "      d) completed"
   ]
  },
  {
   "cell_type": "code",
   "execution_count": 30,
   "id": "e160a6cf",
   "metadata": {},
   "outputs": [
    {
     "name": "stdout",
     "output_type": "stream",
     "text": [
      "Avg math score for this group: 71.33\n",
      "Avg reading score for this group: 72.94\n",
      "Avg writing score for this group: 71.78\n"
     ]
    }
   ],
   "source": [
    "\n",
    "condition_race = (df['race/ethnicity'] == 'group B')\n",
    "condition_education = (df['parental level of education'] == 'high school') | \\\n",
    "                      (df['parental level of education'] == 'some college')\n",
    "condition_lunch = (df['lunch'] == 'standard')\n",
    "condition_test_prep = (df['test preparation course'] == 'completed')\n",
    "\n",
    "filtering_groupb23_corrected = df[\n",
    "    condition_race &\n",
    "    condition_education &\n",
    "    condition_lunch &\n",
    "    condition_test_prep\n",
    "]\n",
    "\n",
    "# Now, calculate the averages as you intended\n",
    "fil_gb23_math_avg = filtering_groupb23_corrected['math score'].mean()\n",
    "print(f\"Avg math score for this group: {fil_gb23_math_avg:.2f}\") # Using .2f for cleaner output\n",
    "\n",
    "fil_gb23_read_avg = filtering_groupb23_corrected['reading score'].mean()\n",
    "print(f\"Avg reading score for this group: {fil_gb23_read_avg:.2f}\")\n",
    "\n",
    "fil_gb23_write_avg = filtering_groupb23_corrected['writing score'].mean()\n",
    "print(f\"Avg writing score for this group: {fil_gb23_write_avg:.2f}\")"
   ]
  },
  {
   "cell_type": "markdown",
   "id": "3b6046a7",
   "metadata": {},
   "source": [
    "////////////////////////////////////////////////////////////////////////////////////////////////////////////////////////"
   ]
  },
  {
   "cell_type": "markdown",
   "id": "6a5be0b0",
   "metadata": {},
   "source": [
    "###### Group Class High"
   ]
  },
  {
   "cell_type": "markdown",
   "id": "627cde8c",
   "metadata": {},
   "source": [
    "I want to know the average for Group. Class High, with:\n",
    "\n",
    "      a) Group A\n",
    "      b) Bachelor - Associate - Master\n",
    "      c) free/reduced lunch\n",
    "      d) None"
   ]
  },
  {
   "cell_type": "code",
   "execution_count": 31,
   "id": "4156eb51",
   "metadata": {},
   "outputs": [
    {
     "name": "stdout",
     "output_type": "stream",
     "text": [
      "Avg math score for this group: 60.67\n",
      "Avg reading score for this group: 64.78\n",
      "Avg writing score for this group: 62.44\n"
     ]
    }
   ],
   "source": [
    "\n",
    "condition_race = (df['race/ethnicity'] == 'group B')\n",
    "condition_education = (df['parental level of education'] == \"bachelor's degree\") | \\\n",
    "                      (df['parental level of education'] == \"associate's degree\") | \\\n",
    "                      (df['parental level of education'] == \"master's degree\")\n",
    "condition_lunch = (df['lunch'] == 'free/reduced')\n",
    "condition_test_prep = (df['test preparation course'] == 'none')\n",
    "\n",
    "filtering_groupb3_corrected = df[\n",
    "    condition_race &\n",
    "    condition_education &\n",
    "    condition_lunch &\n",
    "    condition_test_prep\n",
    "]\n",
    "\n",
    "# Now, calculate the averages\n",
    "fil_gb3_math_avg = filtering_groupb3_corrected['math score'].mean()\n",
    "print(f\"Avg math score for this group: {fil_gb3_math_avg:.2f}\") # Using .2f\n",
    "\n",
    "fil_gb3_read_avg = filtering_groupb3_corrected['reading score'].mean()\n",
    "print(f\"Avg reading score for this group: {fil_gb3_read_avg:.2f}\")\n",
    "\n",
    "fil_gb3_write_avg = filtering_groupb3_corrected['writing score'].mean()\n",
    "print(f\"Avg writing score for this group: {fil_gb3_write_avg:.2f}\")"
   ]
  },
  {
   "cell_type": "markdown",
   "id": "5bee769c",
   "metadata": {},
   "source": [
    "I want to know the average for Group. Class High 2, with:\n",
    "\n",
    "      a) Group A\n",
    "      b) Bachelor - Associate - Master\n",
    "      c) Standard\n",
    "      d) None"
   ]
  },
  {
   "cell_type": "code",
   "execution_count": 32,
   "id": "203a85e4",
   "metadata": {},
   "outputs": [
    {
     "name": "stdout",
     "output_type": "stream",
     "text": [
      "Avg math score for this group: 68.07\n",
      "Avg reading score for this group: 70.48\n",
      "Avg writing score for this group: 64.75\n"
     ]
    }
   ],
   "source": [
    "\n",
    "condition_race = (df['race/ethnicity'] == 'group B')\n",
    "condition_education = (df['parental level of education'] == \"bachelor's degree\") | \\\n",
    "                      (df['parental level of education'] == \"associate's degree\") | \\\n",
    "                      (df['parental level of education'] == \"master's degree\")\n",
    "condition_lunch = (df['lunch'] == 'standard')\n",
    "condition_test_prep = (df['test preparation course'] == 'none')\n",
    "\n",
    "filtering_groupb32_corrected = df[\n",
    "    condition_race &\n",
    "    condition_education &\n",
    "    condition_lunch &\n",
    "    condition_test_prep\n",
    "]\n",
    "\n",
    "# Now, calculate the averages\n",
    "fil_gb32_math_avg = filtering_groupb32_corrected['math score'].mean()\n",
    "print(f\"Avg math score for this group: {fil_gb32_math_avg:.2f}\") # Using .2f\n",
    "\n",
    "fil_gb32_read_avg = filtering_groupb32_corrected['reading score'].mean()\n",
    "print(f\"Avg reading score for this group: {fil_gb32_read_avg:.2f}\")\n",
    "\n",
    "fil_gb32_write_avg = filtering_group32_corrected['writing score'].mean()\n",
    "print(f\"Avg writing score for this group: {fil_gb32_write_avg:.2f}\")"
   ]
  },
  {
   "cell_type": "markdown",
   "id": "a2b5ec93",
   "metadata": {},
   "source": [
    "I want to know the average for Group. Class High 3, with:\n",
    "\n",
    "      a) Group A\n",
    "      b) Bachelor - Associate - Master\n",
    "      c) Standard\n",
    "      d) Completed"
   ]
  },
  {
   "cell_type": "code",
   "execution_count": 33,
   "id": "2539eec9",
   "metadata": {},
   "outputs": [
    {
     "name": "stdout",
     "output_type": "stream",
     "text": [
      "Avg math score for this group: 73.27\n",
      "Avg reading score for this group: 79.45\n",
      "Avg writing score for this group: 80.55\n"
     ]
    }
   ],
   "source": [
    "\n",
    "condition_race = (df['race/ethnicity'] == 'group B')\n",
    "condition_education = (df['parental level of education'] == \"bachelor's degree\") | \\\n",
    "                      (df['parental level of education'] == \"associate's degree\") | \\\n",
    "                      (df['parental level of education'] == \"master's degree\")\n",
    "condition_lunch = (df['lunch'] == 'standard')\n",
    "condition_test_prep = (df['test preparation course'] == 'completed')\n",
    "\n",
    "filtering_groupb33_corrected = df[\n",
    "    condition_race &\n",
    "    condition_education &\n",
    "    condition_lunch &\n",
    "    condition_test_prep\n",
    "]\n",
    "\n",
    "# Now, calculate the averages\n",
    "fil_gb33_math_avg = filtering_groupb33_corrected['math score'].mean()\n",
    "print(f\"Avg math score for this group: {fil_gb33_math_avg:.2f}\") # Using .2f\n",
    "\n",
    "fil_gb33_read_avg = filtering_groupb33_corrected['reading score'].mean()\n",
    "print(f\"Avg reading score for this group: {fil_gb33_read_avg:.2f}\")\n",
    "\n",
    "fil_gb33_write_avg = filtering_groupb33_corrected['writing score'].mean()\n",
    "print(f\"Avg writing score for this group: {fil_gb33_write_avg:.2f}\")"
   ]
  },
  {
   "cell_type": "markdown",
   "id": "59116e99",
   "metadata": {},
   "source": [
    "#### Graph"
   ]
  },
  {
   "cell_type": "markdown",
   "id": "d59f1912",
   "metadata": {},
   "source": [
    "//////////////////////////////////////////////////////////////////////////"
   ]
  },
  {
   "cell_type": "code",
   "execution_count": 34,
   "id": "8168a145",
   "metadata": {},
   "outputs": [
    {
     "data": {
      "application/vnd.plotly.v1+json": {
       "config": {
        "plotlyServerURL": "https://plot.ly"
       },
       "data": [
        {
         "name": "Group 3",
         "type": "bar",
         "x": [
          "Math",
          "Reading",
          "Writing"
         ],
         "y": [
          60.666666666666664,
          64.77777777777777,
          62.44444444444444
         ]
        },
        {
         "name": "Group 32",
         "type": "bar",
         "x": [
          "Math",
          "Reading",
          "Writing"
         ],
         "y": [
          68.06896551724138,
          70.48275862068965,
          64.75
         ]
        },
        {
         "name": "Group 33",
         "type": "bar",
         "x": [
          "Math",
          "Reading",
          "Writing"
         ],
         "y": [
          73.27272727272727,
          79.45454545454545,
          80.54545454545455
         ]
        }
       ],
       "layout": {
        "barmode": "group",
        "template": {
         "data": {
          "bar": [
           {
            "error_x": {
             "color": "#2a3f5f"
            },
            "error_y": {
             "color": "#2a3f5f"
            },
            "marker": {
             "line": {
              "color": "#E5ECF6",
              "width": 0.5
             },
             "pattern": {
              "fillmode": "overlay",
              "size": 10,
              "solidity": 0.2
             }
            },
            "type": "bar"
           }
          ],
          "barpolar": [
           {
            "marker": {
             "line": {
              "color": "#E5ECF6",
              "width": 0.5
             },
             "pattern": {
              "fillmode": "overlay",
              "size": 10,
              "solidity": 0.2
             }
            },
            "type": "barpolar"
           }
          ],
          "carpet": [
           {
            "aaxis": {
             "endlinecolor": "#2a3f5f",
             "gridcolor": "white",
             "linecolor": "white",
             "minorgridcolor": "white",
             "startlinecolor": "#2a3f5f"
            },
            "baxis": {
             "endlinecolor": "#2a3f5f",
             "gridcolor": "white",
             "linecolor": "white",
             "minorgridcolor": "white",
             "startlinecolor": "#2a3f5f"
            },
            "type": "carpet"
           }
          ],
          "choropleth": [
           {
            "colorbar": {
             "outlinewidth": 0,
             "ticks": ""
            },
            "type": "choropleth"
           }
          ],
          "contour": [
           {
            "colorbar": {
             "outlinewidth": 0,
             "ticks": ""
            },
            "colorscale": [
             [
              0,
              "#0d0887"
             ],
             [
              0.1111111111111111,
              "#46039f"
             ],
             [
              0.2222222222222222,
              "#7201a8"
             ],
             [
              0.3333333333333333,
              "#9c179e"
             ],
             [
              0.4444444444444444,
              "#bd3786"
             ],
             [
              0.5555555555555556,
              "#d8576b"
             ],
             [
              0.6666666666666666,
              "#ed7953"
             ],
             [
              0.7777777777777778,
              "#fb9f3a"
             ],
             [
              0.8888888888888888,
              "#fdca26"
             ],
             [
              1,
              "#f0f921"
             ]
            ],
            "type": "contour"
           }
          ],
          "contourcarpet": [
           {
            "colorbar": {
             "outlinewidth": 0,
             "ticks": ""
            },
            "type": "contourcarpet"
           }
          ],
          "heatmap": [
           {
            "colorbar": {
             "outlinewidth": 0,
             "ticks": ""
            },
            "colorscale": [
             [
              0,
              "#0d0887"
             ],
             [
              0.1111111111111111,
              "#46039f"
             ],
             [
              0.2222222222222222,
              "#7201a8"
             ],
             [
              0.3333333333333333,
              "#9c179e"
             ],
             [
              0.4444444444444444,
              "#bd3786"
             ],
             [
              0.5555555555555556,
              "#d8576b"
             ],
             [
              0.6666666666666666,
              "#ed7953"
             ],
             [
              0.7777777777777778,
              "#fb9f3a"
             ],
             [
              0.8888888888888888,
              "#fdca26"
             ],
             [
              1,
              "#f0f921"
             ]
            ],
            "type": "heatmap"
           }
          ],
          "histogram": [
           {
            "marker": {
             "pattern": {
              "fillmode": "overlay",
              "size": 10,
              "solidity": 0.2
             }
            },
            "type": "histogram"
           }
          ],
          "histogram2d": [
           {
            "colorbar": {
             "outlinewidth": 0,
             "ticks": ""
            },
            "colorscale": [
             [
              0,
              "#0d0887"
             ],
             [
              0.1111111111111111,
              "#46039f"
             ],
             [
              0.2222222222222222,
              "#7201a8"
             ],
             [
              0.3333333333333333,
              "#9c179e"
             ],
             [
              0.4444444444444444,
              "#bd3786"
             ],
             [
              0.5555555555555556,
              "#d8576b"
             ],
             [
              0.6666666666666666,
              "#ed7953"
             ],
             [
              0.7777777777777778,
              "#fb9f3a"
             ],
             [
              0.8888888888888888,
              "#fdca26"
             ],
             [
              1,
              "#f0f921"
             ]
            ],
            "type": "histogram2d"
           }
          ],
          "histogram2dcontour": [
           {
            "colorbar": {
             "outlinewidth": 0,
             "ticks": ""
            },
            "colorscale": [
             [
              0,
              "#0d0887"
             ],
             [
              0.1111111111111111,
              "#46039f"
             ],
             [
              0.2222222222222222,
              "#7201a8"
             ],
             [
              0.3333333333333333,
              "#9c179e"
             ],
             [
              0.4444444444444444,
              "#bd3786"
             ],
             [
              0.5555555555555556,
              "#d8576b"
             ],
             [
              0.6666666666666666,
              "#ed7953"
             ],
             [
              0.7777777777777778,
              "#fb9f3a"
             ],
             [
              0.8888888888888888,
              "#fdca26"
             ],
             [
              1,
              "#f0f921"
             ]
            ],
            "type": "histogram2dcontour"
           }
          ],
          "mesh3d": [
           {
            "colorbar": {
             "outlinewidth": 0,
             "ticks": ""
            },
            "type": "mesh3d"
           }
          ],
          "parcoords": [
           {
            "line": {
             "colorbar": {
              "outlinewidth": 0,
              "ticks": ""
             }
            },
            "type": "parcoords"
           }
          ],
          "pie": [
           {
            "automargin": true,
            "type": "pie"
           }
          ],
          "scatter": [
           {
            "fillpattern": {
             "fillmode": "overlay",
             "size": 10,
             "solidity": 0.2
            },
            "type": "scatter"
           }
          ],
          "scatter3d": [
           {
            "line": {
             "colorbar": {
              "outlinewidth": 0,
              "ticks": ""
             }
            },
            "marker": {
             "colorbar": {
              "outlinewidth": 0,
              "ticks": ""
             }
            },
            "type": "scatter3d"
           }
          ],
          "scattercarpet": [
           {
            "marker": {
             "colorbar": {
              "outlinewidth": 0,
              "ticks": ""
             }
            },
            "type": "scattercarpet"
           }
          ],
          "scattergeo": [
           {
            "marker": {
             "colorbar": {
              "outlinewidth": 0,
              "ticks": ""
             }
            },
            "type": "scattergeo"
           }
          ],
          "scattergl": [
           {
            "marker": {
             "colorbar": {
              "outlinewidth": 0,
              "ticks": ""
             }
            },
            "type": "scattergl"
           }
          ],
          "scattermap": [
           {
            "marker": {
             "colorbar": {
              "outlinewidth": 0,
              "ticks": ""
             }
            },
            "type": "scattermap"
           }
          ],
          "scattermapbox": [
           {
            "marker": {
             "colorbar": {
              "outlinewidth": 0,
              "ticks": ""
             }
            },
            "type": "scattermapbox"
           }
          ],
          "scatterpolar": [
           {
            "marker": {
             "colorbar": {
              "outlinewidth": 0,
              "ticks": ""
             }
            },
            "type": "scatterpolar"
           }
          ],
          "scatterpolargl": [
           {
            "marker": {
             "colorbar": {
              "outlinewidth": 0,
              "ticks": ""
             }
            },
            "type": "scatterpolargl"
           }
          ],
          "scatterternary": [
           {
            "marker": {
             "colorbar": {
              "outlinewidth": 0,
              "ticks": ""
             }
            },
            "type": "scatterternary"
           }
          ],
          "surface": [
           {
            "colorbar": {
             "outlinewidth": 0,
             "ticks": ""
            },
            "colorscale": [
             [
              0,
              "#0d0887"
             ],
             [
              0.1111111111111111,
              "#46039f"
             ],
             [
              0.2222222222222222,
              "#7201a8"
             ],
             [
              0.3333333333333333,
              "#9c179e"
             ],
             [
              0.4444444444444444,
              "#bd3786"
             ],
             [
              0.5555555555555556,
              "#d8576b"
             ],
             [
              0.6666666666666666,
              "#ed7953"
             ],
             [
              0.7777777777777778,
              "#fb9f3a"
             ],
             [
              0.8888888888888888,
              "#fdca26"
             ],
             [
              1,
              "#f0f921"
             ]
            ],
            "type": "surface"
           }
          ],
          "table": [
           {
            "cells": {
             "fill": {
              "color": "#EBF0F8"
             },
             "line": {
              "color": "white"
             }
            },
            "header": {
             "fill": {
              "color": "#C8D4E3"
             },
             "line": {
              "color": "white"
             }
            },
            "type": "table"
           }
          ]
         },
         "layout": {
          "annotationdefaults": {
           "arrowcolor": "#2a3f5f",
           "arrowhead": 0,
           "arrowwidth": 1
          },
          "autotypenumbers": "strict",
          "coloraxis": {
           "colorbar": {
            "outlinewidth": 0,
            "ticks": ""
           }
          },
          "colorscale": {
           "diverging": [
            [
             0,
             "#8e0152"
            ],
            [
             0.1,
             "#c51b7d"
            ],
            [
             0.2,
             "#de77ae"
            ],
            [
             0.3,
             "#f1b6da"
            ],
            [
             0.4,
             "#fde0ef"
            ],
            [
             0.5,
             "#f7f7f7"
            ],
            [
             0.6,
             "#e6f5d0"
            ],
            [
             0.7,
             "#b8e186"
            ],
            [
             0.8,
             "#7fbc41"
            ],
            [
             0.9,
             "#4d9221"
            ],
            [
             1,
             "#276419"
            ]
           ],
           "sequential": [
            [
             0,
             "#0d0887"
            ],
            [
             0.1111111111111111,
             "#46039f"
            ],
            [
             0.2222222222222222,
             "#7201a8"
            ],
            [
             0.3333333333333333,
             "#9c179e"
            ],
            [
             0.4444444444444444,
             "#bd3786"
            ],
            [
             0.5555555555555556,
             "#d8576b"
            ],
            [
             0.6666666666666666,
             "#ed7953"
            ],
            [
             0.7777777777777778,
             "#fb9f3a"
            ],
            [
             0.8888888888888888,
             "#fdca26"
            ],
            [
             1,
             "#f0f921"
            ]
           ],
           "sequentialminus": [
            [
             0,
             "#0d0887"
            ],
            [
             0.1111111111111111,
             "#46039f"
            ],
            [
             0.2222222222222222,
             "#7201a8"
            ],
            [
             0.3333333333333333,
             "#9c179e"
            ],
            [
             0.4444444444444444,
             "#bd3786"
            ],
            [
             0.5555555555555556,
             "#d8576b"
            ],
            [
             0.6666666666666666,
             "#ed7953"
            ],
            [
             0.7777777777777778,
             "#fb9f3a"
            ],
            [
             0.8888888888888888,
             "#fdca26"
            ],
            [
             1,
             "#f0f921"
            ]
           ]
          },
          "colorway": [
           "#636efa",
           "#EF553B",
           "#00cc96",
           "#ab63fa",
           "#FFA15A",
           "#19d3f3",
           "#FF6692",
           "#B6E880",
           "#FF97FF",
           "#FECB52"
          ],
          "font": {
           "color": "#2a3f5f"
          },
          "geo": {
           "bgcolor": "white",
           "lakecolor": "white",
           "landcolor": "#E5ECF6",
           "showlakes": true,
           "showland": true,
           "subunitcolor": "white"
          },
          "hoverlabel": {
           "align": "left"
          },
          "hovermode": "closest",
          "mapbox": {
           "style": "light"
          },
          "paper_bgcolor": "white",
          "plot_bgcolor": "#E5ECF6",
          "polar": {
           "angularaxis": {
            "gridcolor": "white",
            "linecolor": "white",
            "ticks": ""
           },
           "bgcolor": "#E5ECF6",
           "radialaxis": {
            "gridcolor": "white",
            "linecolor": "white",
            "ticks": ""
           }
          },
          "scene": {
           "xaxis": {
            "backgroundcolor": "#E5ECF6",
            "gridcolor": "white",
            "gridwidth": 2,
            "linecolor": "white",
            "showbackground": true,
            "ticks": "",
            "zerolinecolor": "white"
           },
           "yaxis": {
            "backgroundcolor": "#E5ECF6",
            "gridcolor": "white",
            "gridwidth": 2,
            "linecolor": "white",
            "showbackground": true,
            "ticks": "",
            "zerolinecolor": "white"
           },
           "zaxis": {
            "backgroundcolor": "#E5ECF6",
            "gridcolor": "white",
            "gridwidth": 2,
            "linecolor": "white",
            "showbackground": true,
            "ticks": "",
            "zerolinecolor": "white"
           }
          },
          "shapedefaults": {
           "line": {
            "color": "#2a3f5f"
           }
          },
          "ternary": {
           "aaxis": {
            "gridcolor": "white",
            "linecolor": "white",
            "ticks": ""
           },
           "baxis": {
            "gridcolor": "white",
            "linecolor": "white",
            "ticks": ""
           },
           "bgcolor": "#E5ECF6",
           "caxis": {
            "gridcolor": "white",
            "linecolor": "white",
            "ticks": ""
           }
          },
          "title": {
           "x": 0.05
          },
          "xaxis": {
           "automargin": true,
           "gridcolor": "white",
           "linecolor": "white",
           "ticks": "",
           "title": {
            "standoff": 15
           },
           "zerolinecolor": "white",
           "zerolinewidth": 2
          },
          "yaxis": {
           "automargin": true,
           "gridcolor": "white",
           "linecolor": "white",
           "ticks": "",
           "title": {
            "standoff": 15
           },
           "zerolinecolor": "white",
           "zerolinewidth": 2
          }
         }
        },
        "title": {
         "text": "Average Scores by Subject for Group B"
        },
        "xaxis": {
         "title": {
          "text": "Subject"
         }
        },
        "yaxis": {
         "title": {
          "text": "Average Score"
         }
        }
       }
      }
     },
     "metadata": {},
     "output_type": "display_data"
    }
   ],
   "source": [
    "subjects = ['Math', 'Reading', 'Writing']\n",
    "groupb3_scores = [fil_gb3_math_avg, fil_gb3_read_avg, fil_gb3_write_avg]\n",
    "groupb32_scores = [fil_gb32_math_avg, fil_gb32_read_avg, fil_gb32_write_avg]\n",
    "groupb33_scores = [fil_gb33_math_avg, fil_gb33_read_avg, fil_gb33_write_avg]\n",
    "\n",
    "# Plotly grouped bar chart with just one group for now\n",
    "fig = go.Figure(data=[\n",
    "    go.Bar(name='Group 3', x=subjects, y=groupb3_scores),\n",
    "    go.Bar(name='Group 32', x=subjects, y=groupb32_scores),\n",
    "    go.Bar(name='Group 33', x=subjects, y=groupb33_scores)\n",
    "])\n",
    "\n",
    "# Customize layout\n",
    "fig.update_layout(\n",
    "    title='Average Scores by Subject for Group B',\n",
    "    xaxis_title='Subject',\n",
    "    yaxis_title='Average Score',\n",
    "    barmode='group'\n",
    ")\n",
    "\n",
    "fig.show()\n"
   ]
  },
  {
   "cell_type": "markdown",
   "id": "f07071f3",
   "metadata": {},
   "source": [
    "## Group C"
   ]
  },
  {
   "cell_type": "markdown",
   "id": "eac000da",
   "metadata": {},
   "source": [
    "I want to know the average for Group. Class Minimum, with:\n",
    "\n",
    "      a) Group A\n",
    "      b) Some high school\n",
    "      c) free/reduced lunch\n",
    "      d) None test prep"
   ]
  },
  {
   "cell_type": "code",
   "execution_count": 35,
   "id": "6ab93cc0",
   "metadata": {},
   "outputs": [
    {
     "name": "stdout",
     "output_type": "stream",
     "text": [
      "Avg score for Minimum class (Math): 52.72727272727273\n",
      "Avg score for Minimum class (Reading): 59.27272727272727\n",
      "Avg score for Minimum class (Writing): 54.45454545454545\n"
     ]
    }
   ],
   "source": [
    "filtering_groupc1 = df[(df['race/ethnicity'] == 'group C') & (df['parental level of education'] == 'some high school') & (df['lunch'] == 'free/reduced') & (df['test preparation course'] == 'none')]\n",
    "# Now filtered those specs, we need to find the average for math score\n",
    "fil_gc1_math = filtering_groupc1['math score'].mean()\n",
    "print(f\"Avg score for Minimum class (Math): {fil_gc1_math}\")\n",
    "# Now reading\n",
    "fil_gc1_read = filtering_groupc1['reading score'].mean()\n",
    "print(f\"Avg score for Minimum class (Reading): {fil_gc1_read}\")\n",
    "# Now reading\n",
    "fil_gc1_write= filtering_groupc1['writing score'].mean()\n",
    "print(f\"Avg score for Minimum class (Writing): {fil_gc1_write}\")\n"
   ]
  },
  {
   "cell_type": "markdown",
   "id": "39002a86",
   "metadata": {},
   "source": [
    "I want to know the average for Group. Class Minimum 2, with:\n",
    "\n",
    "      a) Group A\n",
    "      b) Some high school\n",
    "      c) Standard\n",
    "      d) None test prep"
   ]
  },
  {
   "cell_type": "code",
   "execution_count": 36,
   "id": "90501b27",
   "metadata": {},
   "outputs": [
    {
     "name": "stdout",
     "output_type": "stream",
     "text": [
      "Avg score for Minimum class (Math): 63.5625\n",
      "Avg score for Minimum class (Reading): 66.3125\n",
      "Avg score for Minimum class (Writing): 63.125\n"
     ]
    }
   ],
   "source": [
    "filtering_grouc12 = df[(df['race/ethnicity'] == 'group C') & (df['parental level of education'] == 'some high school') & (df['lunch'] == 'standard') & (df['test preparation course'] == 'none')]\n",
    "# Now filtered those specs, we need to find the average for math score\n",
    "fil_gc12_math = filtering_grouc12['math score'].mean()\n",
    "print(f\"Avg score for Minimum class (Math): {fil_gc12_math}\")\n",
    "# Now reading\n",
    "fil_gc12_read = filtering_grouc12['reading score'].mean()\n",
    "print(f\"Avg score for Minimum class (Reading): {fil_gc12_read}\")\n",
    "# Now reading\n",
    "fil_gc12_write= filtering_grouc12['writing score'].mean()\n",
    "print(f\"Avg score for Minimum class (Writing): {fil_gc12_write}\")\n"
   ]
  },
  {
   "cell_type": "markdown",
   "id": "2a466e94",
   "metadata": {},
   "source": [
    "I want to know the average for Group. Class Minimum 3, with:\n",
    "\n",
    "      a) Group A\n",
    "      b) Some high school\n",
    "      c) Standard\n",
    "      d) completed"
   ]
  },
  {
   "cell_type": "code",
   "execution_count": 37,
   "id": "94f2b3de",
   "metadata": {},
   "outputs": [
    {
     "name": "stdout",
     "output_type": "stream",
     "text": [
      "Avg score for Minimum class (Math): 68.91666666666667\n",
      "Avg score for Minimum class (Reading): 74.08333333333333\n",
      "Avg score for Minimum class (Writing): 73.5\n"
     ]
    }
   ],
   "source": [
    "filtering_groupc13 = df[(df['race/ethnicity'] == 'group C') & (df['parental level of education'] == 'some high school') & (df['lunch'] == 'standard') & (df['test preparation course'] == 'completed')]\n",
    "# Now filtered those specs, we need to find the average for math score\n",
    "fil_gc13_math = filtering_groupc13['math score'].mean()\n",
    "print(f\"Avg score for Minimum class (Math): {fil_gc13_math}\")\n",
    "# Now reading\n",
    "fil_gc13_read = filtering_groupc13['reading score'].mean()\n",
    "print(f\"Avg score for Minimum class (Reading): {fil_gc13_read}\")\n",
    "# Now reading\n",
    "fil_gc13_write= filtering_groupc13['writing score'].mean()\n",
    "print(f\"Avg score for Minimum class (Writing): {fil_gc13_write}\")\n"
   ]
  },
  {
   "cell_type": "markdown",
   "id": "304a5c69",
   "metadata": {},
   "source": [
    "////////////////////////////////////////////////////////////////////////////////////////////////////////////////////////"
   ]
  },
  {
   "cell_type": "markdown",
   "id": "7f077cd7",
   "metadata": {},
   "source": [
    "###### Group Class Medium"
   ]
  },
  {
   "cell_type": "markdown",
   "id": "3b06544d",
   "metadata": {},
   "source": [
    "I want to know the average for Group. Class Medium, with:\n",
    "\n",
    "      a) Group A\n",
    "      b) High school - Some College\n",
    "      c) free/reduced lunch\n",
    "      d) None test prep"
   ]
  },
  {
   "cell_type": "code",
   "execution_count": 38,
   "id": "4d496d43",
   "metadata": {},
   "outputs": [
    {
     "name": "stdout",
     "output_type": "stream",
     "text": [
      "Avg score for this group (Math): nan\n",
      "Avg score for this group (Reading): nan\n",
      "Avg score for this group (Writing): nan\n"
     ]
    }
   ],
   "source": [
    "\n",
    "filtering_groupc2_corrected = df[\n",
    "    (df['race/ethnicity'] == 'group C') &\n",
    "    (\n",
    "        (df['parental level of education'] == 'high school') | \n",
    "        (df['parental level of education'] == 'some college')\n",
    "    ) &\n",
    "    (df['lunch'] == 'free/reduced lunch') &\n",
    "    (df['test preparation course'] == 'none')\n",
    "]\n",
    "\n",
    "# Now, calculate the averages using the corrected DataFrame\n",
    "fil_gc2_math = filtering_groupc2_corrected['math score'].mean()\n",
    "print(f\"Avg score for this group (Math): {fil_gc2_math:.2f}\")\n",
    "\n",
    "fil_gc2_read = filtering_groupc2_corrected['reading score'].mean()\n",
    "print(f\"Avg score for this group (Reading): {fil_gc2_read:.2f}\")\n",
    "\n",
    "fil_gc2_write = filtering_groupc2_corrected['writing score'].mean()\n",
    "print(f\"Avg score for this group (Writing): {fil_gc2_write:.2f}\")\n"
   ]
  },
  {
   "cell_type": "markdown",
   "id": "59b3ff8e",
   "metadata": {},
   "source": [
    "I want to know the average for Group. Class Medium 2, with:\n",
    "\n",
    "      a) Group A\n",
    "      b) High school - Some College\n",
    "      c) standard lunch\n",
    "      d) None test prep"
   ]
  },
  {
   "cell_type": "code",
   "execution_count": 39,
   "id": "6803efad",
   "metadata": {},
   "outputs": [
    {
     "name": "stdout",
     "output_type": "stream",
     "text": [
      "Avg math score for this group: 66.16\n",
      "Avg reading score for this group: 67.75\n",
      "Avg writing score for this group: 66.03\n"
     ]
    }
   ],
   "source": [
    "\n",
    "condition_race = (df['race/ethnicity'] == 'group C')\n",
    "condition_education = (df['parental level of education'] == 'high school') | \\\n",
    "                      (df['parental level of education'] == 'some college')\n",
    "condition_lunch = (df['lunch'] == 'standard')\n",
    "condition_test_prep = (df['test preparation course'] == 'none')\n",
    "\n",
    "filtering_groupc22_corrected = df[\n",
    "    condition_race &\n",
    "    condition_education &\n",
    "    condition_lunch &\n",
    "    condition_test_prep\n",
    "]\n",
    "\n",
    "# Now, calculate the averages as you intended\n",
    "fil_gc22_math_avg = filtering_groupc22_corrected['math score'].mean()\n",
    "print(f\"Avg math score for this group: {fil_gc22_math_avg:.2f}\") # Using .2f for cleaner output\n",
    "\n",
    "fil_gc22_read_avg = filtering_groupc22_corrected['reading score'].mean()\n",
    "print(f\"Avg reading score for this group: {fil_gc22_read_avg:.2f}\")\n",
    "\n",
    "fil_gc22_write_avg = filtering_groupc22_corrected['writing score'].mean()\n",
    "print(f\"Avg writing score for this group: {fil_gc22_write_avg:.2f}\")"
   ]
  },
  {
   "cell_type": "markdown",
   "id": "d867cad0",
   "metadata": {},
   "source": [
    "I want to know the average for Group. Class Medium 3, with:\n",
    "\n",
    "      a) Group A\n",
    "      b) High school - Some College\n",
    "      c) standard lunch\n",
    "      d) completed"
   ]
  },
  {
   "cell_type": "code",
   "execution_count": 40,
   "id": "b62d0631",
   "metadata": {},
   "outputs": [
    {
     "name": "stdout",
     "output_type": "stream",
     "text": [
      "Avg math score for this group: 73.70\n",
      "Avg reading score for this group: 77.04\n",
      "Avg writing score for this group: 77.91\n"
     ]
    }
   ],
   "source": [
    "\n",
    "condition_race = (df['race/ethnicity'] == 'group C')\n",
    "condition_education = (df['parental level of education'] == 'high school') | \\\n",
    "                      (df['parental level of education'] == 'some college')\n",
    "condition_lunch = (df['lunch'] == 'standard')\n",
    "condition_test_prep = (df['test preparation course'] == 'completed')\n",
    "\n",
    "filtering_groupb23_corrected = df[\n",
    "    condition_race &\n",
    "    condition_education &\n",
    "    condition_lunch &\n",
    "    condition_test_prep\n",
    "]\n",
    "\n",
    "# Now, calculate the averages as you intended\n",
    "fil_gb23_math_avg = filtering_groupb23_corrected['math score'].mean()\n",
    "print(f\"Avg math score for this group: {fil_gb23_math_avg:.2f}\") # Using .2f for cleaner output\n",
    "\n",
    "fil_gb23_read_avg = filtering_groupb23_corrected['reading score'].mean()\n",
    "print(f\"Avg reading score for this group: {fil_gb23_read_avg:.2f}\")\n",
    "\n",
    "fil_gb23_write_avg = filtering_groupb23_corrected['writing score'].mean()\n",
    "print(f\"Avg writing score for this group: {fil_gb23_write_avg:.2f}\")"
   ]
  },
  {
   "cell_type": "markdown",
   "id": "b80e7ab2",
   "metadata": {},
   "source": [
    "////////////////////////////////////////////////////////////////////////////////////////////////////////////////////////"
   ]
  },
  {
   "cell_type": "markdown",
   "id": "ac162119",
   "metadata": {},
   "source": [
    "###### Group Class High"
   ]
  },
  {
   "cell_type": "markdown",
   "id": "0c0a710c",
   "metadata": {},
   "source": [
    "I want to know the average for Group. Class High, with:\n",
    "\n",
    "      a) Group A\n",
    "      b) Bachelor - Associate - Master\n",
    "      c) free/reduced lunch\n",
    "      d) None"
   ]
  },
  {
   "cell_type": "code",
   "execution_count": 41,
   "id": "a8a2169d",
   "metadata": {},
   "outputs": [
    {
     "name": "stdout",
     "output_type": "stream",
     "text": [
      "Avg math score for this group: 58.78\n",
      "Avg reading score for this group: 65.78\n",
      "Avg writing score for this group: 62.37\n"
     ]
    }
   ],
   "source": [
    "\n",
    "condition_race = (df['race/ethnicity'] == 'group C')\n",
    "condition_education = (df['parental level of education'] == \"bachelor's degree\") | \\\n",
    "                      (df['parental level of education'] == \"associate's degree\") | \\\n",
    "                      (df['parental level of education'] == \"master's degree\")\n",
    "condition_lunch = (df['lunch'] == 'free/reduced')\n",
    "condition_test_prep = (df['test preparation course'] == 'none')\n",
    "\n",
    "filtering_groupc3_corrected = df[\n",
    "    condition_race &\n",
    "    condition_education &\n",
    "    condition_lunch &\n",
    "    condition_test_prep\n",
    "]\n",
    "\n",
    "# Now, calculate the averages\n",
    "fil_gc3_math_avg = filtering_groupc3_corrected['math score'].mean()\n",
    "print(f\"Avg math score for this group: {fil_gc3_math_avg:.2f}\") # Using .2f\n",
    "\n",
    "fil_gc3_read_avg = filtering_groupc3_corrected['reading score'].mean()\n",
    "print(f\"Avg reading score for this group: {fil_gc3_read_avg:.2f}\")\n",
    "\n",
    "fil_gc3_write_avg = filtering_groupc3_corrected['writing score'].mean()\n",
    "print(f\"Avg writing score for this group: {fil_gc3_write_avg:.2f}\")"
   ]
  },
  {
   "cell_type": "markdown",
   "id": "8186ccfe",
   "metadata": {},
   "source": [
    "I want to know the average for Group. Class High 2, with:\n",
    "\n",
    "      a) Group A\n",
    "      b) Bachelor - Associate - Master\n",
    "      c) Standard\n",
    "      d) None"
   ]
  },
  {
   "cell_type": "code",
   "execution_count": 42,
   "id": "d1c78fc4",
   "metadata": {},
   "outputs": [
    {
     "name": "stdout",
     "output_type": "stream",
     "text": [
      "Avg math score for this group: 68.84\n",
      "Avg reading score for this group: 71.65\n",
      "Avg writing score for this group: 70.22\n"
     ]
    }
   ],
   "source": [
    "\n",
    "condition_race = (df['race/ethnicity'] == 'group C')\n",
    "condition_education = (df['parental level of education'] == \"bachelor's degree\") | \\\n",
    "                      (df['parental level of education'] == \"associate's degree\") | \\\n",
    "                      (df['parental level of education'] == \"master's degree\")\n",
    "condition_lunch = (df['lunch'] == 'standard')\n",
    "condition_test_prep = (df['test preparation course'] == 'none')\n",
    "\n",
    "filtering_groupc32_corrected = df[\n",
    "    condition_race &\n",
    "    condition_education &\n",
    "    condition_lunch &\n",
    "    condition_test_prep\n",
    "]\n",
    "\n",
    "# Now, calculate the averages\n",
    "fil_gc32_math_avg = filtering_groupc32_corrected['math score'].mean()\n",
    "print(f\"Avg math score for this group: {fil_gc32_math_avg:.2f}\") # Using .2f\n",
    "\n",
    "fil_gc32_read_avg = filtering_groupc32_corrected['reading score'].mean()\n",
    "print(f\"Avg reading score for this group: {fil_gc32_read_avg:.2f}\")\n",
    "\n",
    "fil_gc32_write_avg = filtering_groupc32_corrected['writing score'].mean()\n",
    "print(f\"Avg writing score for this group: {fil_gc32_write_avg:.2f}\")"
   ]
  },
  {
   "cell_type": "markdown",
   "id": "bbb22bd9",
   "metadata": {},
   "source": [
    "I want to know the average for Group. Class High 3, with:\n",
    "\n",
    "      a) Group A\n",
    "      b) Bachelor - Associate - Master\n",
    "      c) Standard\n",
    "      d) Completed"
   ]
  },
  {
   "cell_type": "code",
   "execution_count": 43,
   "id": "fa101439",
   "metadata": {},
   "outputs": [
    {
     "name": "stdout",
     "output_type": "stream",
     "text": [
      "Avg math score for this group: 73.05\n",
      "Avg reading score for this group: 79.56\n",
      "Avg writing score for this group: 80.64\n"
     ]
    }
   ],
   "source": [
    "\n",
    "condition_race = (df['race/ethnicity'] == 'group C')\n",
    "condition_education = (df['parental level of education'] == \"bachelor's degree\") | \\\n",
    "                      (df['parental level of education'] == \"associate's degree\") | \\\n",
    "                      (df['parental level of education'] == \"master's degree\")\n",
    "condition_lunch = (df['lunch'] == 'standard')\n",
    "condition_test_prep = (df['test preparation course'] == 'completed')\n",
    "\n",
    "filtering_groupc33_corrected = df[\n",
    "    condition_race &\n",
    "    condition_education &\n",
    "    condition_lunch &\n",
    "    condition_test_prep\n",
    "]\n",
    "\n",
    "# Now, calculate the averages\n",
    "fil_gc33_math_avg = filtering_groupc33_corrected['math score'].mean()\n",
    "print(f\"Avg math score for this group: {fil_gc33_math_avg:.2f}\") # Using .2f\n",
    "\n",
    "fil_gc33_read_avg = filtering_groupc33_corrected['reading score'].mean()\n",
    "print(f\"Avg reading score for this group: {fil_gc33_read_avg:.2f}\")\n",
    "\n",
    "fil_gc33_write_avg = filtering_groupc33_corrected['writing score'].mean()\n",
    "print(f\"Avg writing score for this group: {fil_gc33_write_avg:.2f}\")"
   ]
  },
  {
   "cell_type": "markdown",
   "id": "b2c11d67",
   "metadata": {},
   "source": [
    "#### Graph"
   ]
  },
  {
   "cell_type": "markdown",
   "id": "a99bf500",
   "metadata": {},
   "source": [
    "//////////////////////////////////////////////////////////////////////////"
   ]
  },
  {
   "cell_type": "code",
   "execution_count": 44,
   "id": "a867c569",
   "metadata": {},
   "outputs": [
    {
     "data": {
      "application/vnd.plotly.v1+json": {
       "config": {
        "plotlyServerURL": "https://plot.ly"
       },
       "data": [
        {
         "name": "Group 3",
         "type": "bar",
         "x": [
          "Math",
          "Reading",
          "Writing"
         ],
         "y": [
          58.77777777777778,
          65.77777777777777,
          62.370370370370374
         ]
        },
        {
         "name": "Group 32",
         "type": "bar",
         "x": [
          "Math",
          "Reading",
          "Writing"
         ],
         "y": [
          68.84313725490196,
          71.6470588235294,
          70.2156862745098
         ]
        },
        {
         "name": "Group 33",
         "type": "bar",
         "x": [
          "Math",
          "Reading",
          "Writing"
         ],
         "y": [
          73.05128205128206,
          79.56410256410257,
          80.64102564102564
         ]
        }
       ],
       "layout": {
        "barmode": "group",
        "template": {
         "data": {
          "bar": [
           {
            "error_x": {
             "color": "#2a3f5f"
            },
            "error_y": {
             "color": "#2a3f5f"
            },
            "marker": {
             "line": {
              "color": "#E5ECF6",
              "width": 0.5
             },
             "pattern": {
              "fillmode": "overlay",
              "size": 10,
              "solidity": 0.2
             }
            },
            "type": "bar"
           }
          ],
          "barpolar": [
           {
            "marker": {
             "line": {
              "color": "#E5ECF6",
              "width": 0.5
             },
             "pattern": {
              "fillmode": "overlay",
              "size": 10,
              "solidity": 0.2
             }
            },
            "type": "barpolar"
           }
          ],
          "carpet": [
           {
            "aaxis": {
             "endlinecolor": "#2a3f5f",
             "gridcolor": "white",
             "linecolor": "white",
             "minorgridcolor": "white",
             "startlinecolor": "#2a3f5f"
            },
            "baxis": {
             "endlinecolor": "#2a3f5f",
             "gridcolor": "white",
             "linecolor": "white",
             "minorgridcolor": "white",
             "startlinecolor": "#2a3f5f"
            },
            "type": "carpet"
           }
          ],
          "choropleth": [
           {
            "colorbar": {
             "outlinewidth": 0,
             "ticks": ""
            },
            "type": "choropleth"
           }
          ],
          "contour": [
           {
            "colorbar": {
             "outlinewidth": 0,
             "ticks": ""
            },
            "colorscale": [
             [
              0,
              "#0d0887"
             ],
             [
              0.1111111111111111,
              "#46039f"
             ],
             [
              0.2222222222222222,
              "#7201a8"
             ],
             [
              0.3333333333333333,
              "#9c179e"
             ],
             [
              0.4444444444444444,
              "#bd3786"
             ],
             [
              0.5555555555555556,
              "#d8576b"
             ],
             [
              0.6666666666666666,
              "#ed7953"
             ],
             [
              0.7777777777777778,
              "#fb9f3a"
             ],
             [
              0.8888888888888888,
              "#fdca26"
             ],
             [
              1,
              "#f0f921"
             ]
            ],
            "type": "contour"
           }
          ],
          "contourcarpet": [
           {
            "colorbar": {
             "outlinewidth": 0,
             "ticks": ""
            },
            "type": "contourcarpet"
           }
          ],
          "heatmap": [
           {
            "colorbar": {
             "outlinewidth": 0,
             "ticks": ""
            },
            "colorscale": [
             [
              0,
              "#0d0887"
             ],
             [
              0.1111111111111111,
              "#46039f"
             ],
             [
              0.2222222222222222,
              "#7201a8"
             ],
             [
              0.3333333333333333,
              "#9c179e"
             ],
             [
              0.4444444444444444,
              "#bd3786"
             ],
             [
              0.5555555555555556,
              "#d8576b"
             ],
             [
              0.6666666666666666,
              "#ed7953"
             ],
             [
              0.7777777777777778,
              "#fb9f3a"
             ],
             [
              0.8888888888888888,
              "#fdca26"
             ],
             [
              1,
              "#f0f921"
             ]
            ],
            "type": "heatmap"
           }
          ],
          "histogram": [
           {
            "marker": {
             "pattern": {
              "fillmode": "overlay",
              "size": 10,
              "solidity": 0.2
             }
            },
            "type": "histogram"
           }
          ],
          "histogram2d": [
           {
            "colorbar": {
             "outlinewidth": 0,
             "ticks": ""
            },
            "colorscale": [
             [
              0,
              "#0d0887"
             ],
             [
              0.1111111111111111,
              "#46039f"
             ],
             [
              0.2222222222222222,
              "#7201a8"
             ],
             [
              0.3333333333333333,
              "#9c179e"
             ],
             [
              0.4444444444444444,
              "#bd3786"
             ],
             [
              0.5555555555555556,
              "#d8576b"
             ],
             [
              0.6666666666666666,
              "#ed7953"
             ],
             [
              0.7777777777777778,
              "#fb9f3a"
             ],
             [
              0.8888888888888888,
              "#fdca26"
             ],
             [
              1,
              "#f0f921"
             ]
            ],
            "type": "histogram2d"
           }
          ],
          "histogram2dcontour": [
           {
            "colorbar": {
             "outlinewidth": 0,
             "ticks": ""
            },
            "colorscale": [
             [
              0,
              "#0d0887"
             ],
             [
              0.1111111111111111,
              "#46039f"
             ],
             [
              0.2222222222222222,
              "#7201a8"
             ],
             [
              0.3333333333333333,
              "#9c179e"
             ],
             [
              0.4444444444444444,
              "#bd3786"
             ],
             [
              0.5555555555555556,
              "#d8576b"
             ],
             [
              0.6666666666666666,
              "#ed7953"
             ],
             [
              0.7777777777777778,
              "#fb9f3a"
             ],
             [
              0.8888888888888888,
              "#fdca26"
             ],
             [
              1,
              "#f0f921"
             ]
            ],
            "type": "histogram2dcontour"
           }
          ],
          "mesh3d": [
           {
            "colorbar": {
             "outlinewidth": 0,
             "ticks": ""
            },
            "type": "mesh3d"
           }
          ],
          "parcoords": [
           {
            "line": {
             "colorbar": {
              "outlinewidth": 0,
              "ticks": ""
             }
            },
            "type": "parcoords"
           }
          ],
          "pie": [
           {
            "automargin": true,
            "type": "pie"
           }
          ],
          "scatter": [
           {
            "fillpattern": {
             "fillmode": "overlay",
             "size": 10,
             "solidity": 0.2
            },
            "type": "scatter"
           }
          ],
          "scatter3d": [
           {
            "line": {
             "colorbar": {
              "outlinewidth": 0,
              "ticks": ""
             }
            },
            "marker": {
             "colorbar": {
              "outlinewidth": 0,
              "ticks": ""
             }
            },
            "type": "scatter3d"
           }
          ],
          "scattercarpet": [
           {
            "marker": {
             "colorbar": {
              "outlinewidth": 0,
              "ticks": ""
             }
            },
            "type": "scattercarpet"
           }
          ],
          "scattergeo": [
           {
            "marker": {
             "colorbar": {
              "outlinewidth": 0,
              "ticks": ""
             }
            },
            "type": "scattergeo"
           }
          ],
          "scattergl": [
           {
            "marker": {
             "colorbar": {
              "outlinewidth": 0,
              "ticks": ""
             }
            },
            "type": "scattergl"
           }
          ],
          "scattermap": [
           {
            "marker": {
             "colorbar": {
              "outlinewidth": 0,
              "ticks": ""
             }
            },
            "type": "scattermap"
           }
          ],
          "scattermapbox": [
           {
            "marker": {
             "colorbar": {
              "outlinewidth": 0,
              "ticks": ""
             }
            },
            "type": "scattermapbox"
           }
          ],
          "scatterpolar": [
           {
            "marker": {
             "colorbar": {
              "outlinewidth": 0,
              "ticks": ""
             }
            },
            "type": "scatterpolar"
           }
          ],
          "scatterpolargl": [
           {
            "marker": {
             "colorbar": {
              "outlinewidth": 0,
              "ticks": ""
             }
            },
            "type": "scatterpolargl"
           }
          ],
          "scatterternary": [
           {
            "marker": {
             "colorbar": {
              "outlinewidth": 0,
              "ticks": ""
             }
            },
            "type": "scatterternary"
           }
          ],
          "surface": [
           {
            "colorbar": {
             "outlinewidth": 0,
             "ticks": ""
            },
            "colorscale": [
             [
              0,
              "#0d0887"
             ],
             [
              0.1111111111111111,
              "#46039f"
             ],
             [
              0.2222222222222222,
              "#7201a8"
             ],
             [
              0.3333333333333333,
              "#9c179e"
             ],
             [
              0.4444444444444444,
              "#bd3786"
             ],
             [
              0.5555555555555556,
              "#d8576b"
             ],
             [
              0.6666666666666666,
              "#ed7953"
             ],
             [
              0.7777777777777778,
              "#fb9f3a"
             ],
             [
              0.8888888888888888,
              "#fdca26"
             ],
             [
              1,
              "#f0f921"
             ]
            ],
            "type": "surface"
           }
          ],
          "table": [
           {
            "cells": {
             "fill": {
              "color": "#EBF0F8"
             },
             "line": {
              "color": "white"
             }
            },
            "header": {
             "fill": {
              "color": "#C8D4E3"
             },
             "line": {
              "color": "white"
             }
            },
            "type": "table"
           }
          ]
         },
         "layout": {
          "annotationdefaults": {
           "arrowcolor": "#2a3f5f",
           "arrowhead": 0,
           "arrowwidth": 1
          },
          "autotypenumbers": "strict",
          "coloraxis": {
           "colorbar": {
            "outlinewidth": 0,
            "ticks": ""
           }
          },
          "colorscale": {
           "diverging": [
            [
             0,
             "#8e0152"
            ],
            [
             0.1,
             "#c51b7d"
            ],
            [
             0.2,
             "#de77ae"
            ],
            [
             0.3,
             "#f1b6da"
            ],
            [
             0.4,
             "#fde0ef"
            ],
            [
             0.5,
             "#f7f7f7"
            ],
            [
             0.6,
             "#e6f5d0"
            ],
            [
             0.7,
             "#b8e186"
            ],
            [
             0.8,
             "#7fbc41"
            ],
            [
             0.9,
             "#4d9221"
            ],
            [
             1,
             "#276419"
            ]
           ],
           "sequential": [
            [
             0,
             "#0d0887"
            ],
            [
             0.1111111111111111,
             "#46039f"
            ],
            [
             0.2222222222222222,
             "#7201a8"
            ],
            [
             0.3333333333333333,
             "#9c179e"
            ],
            [
             0.4444444444444444,
             "#bd3786"
            ],
            [
             0.5555555555555556,
             "#d8576b"
            ],
            [
             0.6666666666666666,
             "#ed7953"
            ],
            [
             0.7777777777777778,
             "#fb9f3a"
            ],
            [
             0.8888888888888888,
             "#fdca26"
            ],
            [
             1,
             "#f0f921"
            ]
           ],
           "sequentialminus": [
            [
             0,
             "#0d0887"
            ],
            [
             0.1111111111111111,
             "#46039f"
            ],
            [
             0.2222222222222222,
             "#7201a8"
            ],
            [
             0.3333333333333333,
             "#9c179e"
            ],
            [
             0.4444444444444444,
             "#bd3786"
            ],
            [
             0.5555555555555556,
             "#d8576b"
            ],
            [
             0.6666666666666666,
             "#ed7953"
            ],
            [
             0.7777777777777778,
             "#fb9f3a"
            ],
            [
             0.8888888888888888,
             "#fdca26"
            ],
            [
             1,
             "#f0f921"
            ]
           ]
          },
          "colorway": [
           "#636efa",
           "#EF553B",
           "#00cc96",
           "#ab63fa",
           "#FFA15A",
           "#19d3f3",
           "#FF6692",
           "#B6E880",
           "#FF97FF",
           "#FECB52"
          ],
          "font": {
           "color": "#2a3f5f"
          },
          "geo": {
           "bgcolor": "white",
           "lakecolor": "white",
           "landcolor": "#E5ECF6",
           "showlakes": true,
           "showland": true,
           "subunitcolor": "white"
          },
          "hoverlabel": {
           "align": "left"
          },
          "hovermode": "closest",
          "mapbox": {
           "style": "light"
          },
          "paper_bgcolor": "white",
          "plot_bgcolor": "#E5ECF6",
          "polar": {
           "angularaxis": {
            "gridcolor": "white",
            "linecolor": "white",
            "ticks": ""
           },
           "bgcolor": "#E5ECF6",
           "radialaxis": {
            "gridcolor": "white",
            "linecolor": "white",
            "ticks": ""
           }
          },
          "scene": {
           "xaxis": {
            "backgroundcolor": "#E5ECF6",
            "gridcolor": "white",
            "gridwidth": 2,
            "linecolor": "white",
            "showbackground": true,
            "ticks": "",
            "zerolinecolor": "white"
           },
           "yaxis": {
            "backgroundcolor": "#E5ECF6",
            "gridcolor": "white",
            "gridwidth": 2,
            "linecolor": "white",
            "showbackground": true,
            "ticks": "",
            "zerolinecolor": "white"
           },
           "zaxis": {
            "backgroundcolor": "#E5ECF6",
            "gridcolor": "white",
            "gridwidth": 2,
            "linecolor": "white",
            "showbackground": true,
            "ticks": "",
            "zerolinecolor": "white"
           }
          },
          "shapedefaults": {
           "line": {
            "color": "#2a3f5f"
           }
          },
          "ternary": {
           "aaxis": {
            "gridcolor": "white",
            "linecolor": "white",
            "ticks": ""
           },
           "baxis": {
            "gridcolor": "white",
            "linecolor": "white",
            "ticks": ""
           },
           "bgcolor": "#E5ECF6",
           "caxis": {
            "gridcolor": "white",
            "linecolor": "white",
            "ticks": ""
           }
          },
          "title": {
           "x": 0.05
          },
          "xaxis": {
           "automargin": true,
           "gridcolor": "white",
           "linecolor": "white",
           "ticks": "",
           "title": {
            "standoff": 15
           },
           "zerolinecolor": "white",
           "zerolinewidth": 2
          },
          "yaxis": {
           "automargin": true,
           "gridcolor": "white",
           "linecolor": "white",
           "ticks": "",
           "title": {
            "standoff": 15
           },
           "zerolinecolor": "white",
           "zerolinewidth": 2
          }
         }
        },
        "title": {
         "text": "Average Scores by Subject for Group C"
        },
        "xaxis": {
         "title": {
          "text": "Subject"
         }
        },
        "yaxis": {
         "title": {
          "text": "Average Score"
         }
        }
       }
      }
     },
     "metadata": {},
     "output_type": "display_data"
    }
   ],
   "source": [
    "subjects = ['Math', 'Reading', 'Writing']\n",
    "groupc3_scores = [fil_gc3_math_avg, fil_gc3_read_avg, fil_gc3_write_avg]\n",
    "groupc32_scores = [fil_gc32_math_avg, fil_gc32_read_avg, fil_gc32_write_avg]\n",
    "groupc33_scores = [fil_gc33_math_avg, fil_gc33_read_avg, fil_gc33_write_avg]\n",
    "\n",
    "# Plotly grouped bar chart with just one group for now\n",
    "fig = go.Figure(data=[\n",
    "    go.Bar(name='Group 3', x=subjects, y=groupc3_scores),\n",
    "    go.Bar(name='Group 32', x=subjects, y=groupc32_scores),\n",
    "    go.Bar(name='Group 33', x=subjects, y=groupc33_scores)\n",
    "])\n",
    "\n",
    "# Customize layout\n",
    "fig.update_layout(\n",
    "    title='Average Scores by Subject for Group C',\n",
    "    xaxis_title='Subject',\n",
    "    yaxis_title='Average Score',\n",
    "    barmode='group'\n",
    ")\n",
    "\n",
    "fig.show()\n"
   ]
  },
  {
   "cell_type": "markdown",
   "id": "76a63112",
   "metadata": {},
   "source": [
    "### Comparasion between groups"
   ]
  },
  {
   "cell_type": "code",
   "execution_count": 45,
   "id": "b70b0ac1",
   "metadata": {},
   "outputs": [],
   "source": [
    "# Bold Text\n",
    "BOLD = \"\\033[1m\"\n",
    "RESET = \"\\033[0m\""
   ]
  },
  {
   "cell_type": "code",
   "execution_count": 46,
   "id": "0265f973",
   "metadata": {},
   "outputs": [
    {
     "name": "stdout",
     "output_type": "stream",
     "text": [
      "\u001b[1mGroup A\u001b[0m\n",
      "Group A1 tests Maths: 53.80, 59.67, 65.29\n",
      "Group A2 tests Maths: nan, 60.71, 75.50\n",
      "Group A3 tests Maths: 54.62, 64.08, 76.50\n",
      "--------------------------------\n",
      "\u001b[1mGroup B\u001b[0m\n",
      "Group B1 tests Maths: 42.20, 66.00, 65.50\n",
      "Group B2 tests Maths: nan, 62.51, 73.70\n",
      "Group B3 tests Maths: 60.67, 68.07, 73.27\n",
      "--------------------------------\n",
      "\u001b[1mGroup C\u001b[0m\n",
      "Group C1 tests Maths: 52.73, 63.56, 68.92\n",
      "Group C2 tests Maths: nan, 66.16, 66.16\n",
      "Group C3 tests Maths: 58.78, 68.84, 73.05\n"
     ]
    }
   ],
   "source": [
    "# Summary\n",
    "print(BOLD + \"Group A\" + RESET)\n",
    "print(f\"Group A1 tests Maths: {fil_g1_math:.2f}, {fil_g12_math:.2f}, {fil_g13_math:.2f}\")\n",
    "print(f\"Group A2 tests Maths: {fil_g2_math:.2f}, {fil_g22_math_avg:.2f}, {fil_g23_math_avg:.2f}\")\n",
    "print(f\"Group A3 tests Maths: {fil_g3_math_avg:.2f}, {fil_g32_math_avg:.2f}, {fil_g33_math_avg:.2f}\")\n",
    "\n",
    "print(\"--------------------------------\")\n",
    "\n",
    "print(BOLD + \"Group B\" + RESET)\n",
    "print(f\"Group B1 tests Maths: {fil_gb1_math:.2f}, {fil_gb12_math:.2f}, {fil_gb13_math:.2f}\")\n",
    "print(f\"Group B2 tests Maths: {fil_gb2_math:.2f}, {fil_gb22_math_avg:.2f}, {fil_gb23_math_avg:.2f}\")\n",
    "print(f\"Group B3 tests Maths: {fil_gb3_math_avg:.2f}, {fil_gb32_math_avg:.2f}, {fil_gb33_math_avg:.2f}\")\n",
    "\n",
    "print(\"--------------------------------\")\n",
    "\n",
    "print(BOLD + \"Group C\" + RESET)\n",
    "print(f\"Group C1 tests Maths: {fil_gc1_math:.2f}, {fil_gc12_math:.2f}, {fil_gc13_math:.2f}\")\n",
    "print(f\"Group C2 tests Maths: {fil_gc2_math:.2f}, {fil_gc22_math_avg:.2f}, {fil_gc22_math_avg:.2f}\")\n",
    "print(f\"Group C3 tests Maths: {fil_gc3_math_avg:.2f}, {fil_gc32_math_avg:.2f}, {fil_gc33_math_avg:.2f}\")"
   ]
  },
  {
   "cell_type": "markdown",
   "id": "3e9efee6",
   "metadata": {},
   "source": [
    "#### Maths"
   ]
  },
  {
   "cell_type": "code",
   "execution_count": 47,
   "id": "74956d43",
   "metadata": {},
   "outputs": [],
   "source": [
    "GA_M = [fil_g1_math, fil_g12_math, fil_g13_math, fil_g2_math, fil_g22_math_avg, fil_g23_math_avg, fil_g3_math_avg, fil_g32_math_avg, fil_g33_math_avg]\n",
    "GB_M = [fil_gb1_math, fil_gb12_math, fil_gb13_math, fil_gb2_math, fil_gb22_write_avg, fil_gb23_math_avg, fil_gb3_math_avg, fil_gb32_math_avg, fil_gb33_math_avg]\n",
    "GC_M = [fil_gc1_math, fil_gc12_math, fil_gc13_math, fil_gc2_math, fil_gc22_math_avg, fil_gc32_math_avg, fil_gc3_math_avg, fil_gc32_math_avg, fil_gc33_math_avg]"
   ]
  },
  {
   "cell_type": "code",
   "execution_count": 48,
   "id": "48fb0afb",
   "metadata": {},
   "outputs": [
    {
     "data": {
      "application/vnd.plotly.v1+json": {
       "config": {
        "plotlyServerURL": "https://plot.ly"
       },
       "data": [
        {
         "name": "GA_M",
         "type": "bar",
         "x": [
          "G1",
          "G12",
          "G13",
          "G2",
          "G22",
          "G23",
          "G3",
          "G32",
          "G33"
         ],
         "y": [
          53.8,
          59.666666666666664,
          65.28571428571429,
          null,
          60.714285714285715,
          75.5,
          54.625,
          64.08333333333333,
          76.5
         ]
        },
        {
         "name": "GB_M",
         "type": "bar",
         "x": [
          "G1",
          "G12",
          "G13",
          "G2",
          "G22",
          "G23",
          "G3",
          "G32",
          "G33"
         ],
         "y": [
          42.2,
          66,
          65.5,
          null,
          62,
          73.69565217391305,
          60.666666666666664,
          68.06896551724138,
          73.27272727272727
         ]
        },
        {
         "name": "GC_M",
         "type": "bar",
         "x": [
          "G1",
          "G12",
          "G13",
          "G2",
          "G22",
          "G23",
          "G3",
          "G32",
          "G33"
         ],
         "y": [
          52.72727272727273,
          63.5625,
          68.91666666666667,
          null,
          66.15625,
          68.84313725490196,
          58.77777777777778,
          68.84313725490196,
          73.05128205128206
         ]
        }
       ],
       "layout": {
        "barmode": "group",
        "template": {
         "data": {
          "bar": [
           {
            "error_x": {
             "color": "#2a3f5f"
            },
            "error_y": {
             "color": "#2a3f5f"
            },
            "marker": {
             "line": {
              "color": "#E5ECF6",
              "width": 0.5
             },
             "pattern": {
              "fillmode": "overlay",
              "size": 10,
              "solidity": 0.2
             }
            },
            "type": "bar"
           }
          ],
          "barpolar": [
           {
            "marker": {
             "line": {
              "color": "#E5ECF6",
              "width": 0.5
             },
             "pattern": {
              "fillmode": "overlay",
              "size": 10,
              "solidity": 0.2
             }
            },
            "type": "barpolar"
           }
          ],
          "carpet": [
           {
            "aaxis": {
             "endlinecolor": "#2a3f5f",
             "gridcolor": "white",
             "linecolor": "white",
             "minorgridcolor": "white",
             "startlinecolor": "#2a3f5f"
            },
            "baxis": {
             "endlinecolor": "#2a3f5f",
             "gridcolor": "white",
             "linecolor": "white",
             "minorgridcolor": "white",
             "startlinecolor": "#2a3f5f"
            },
            "type": "carpet"
           }
          ],
          "choropleth": [
           {
            "colorbar": {
             "outlinewidth": 0,
             "ticks": ""
            },
            "type": "choropleth"
           }
          ],
          "contour": [
           {
            "colorbar": {
             "outlinewidth": 0,
             "ticks": ""
            },
            "colorscale": [
             [
              0,
              "#0d0887"
             ],
             [
              0.1111111111111111,
              "#46039f"
             ],
             [
              0.2222222222222222,
              "#7201a8"
             ],
             [
              0.3333333333333333,
              "#9c179e"
             ],
             [
              0.4444444444444444,
              "#bd3786"
             ],
             [
              0.5555555555555556,
              "#d8576b"
             ],
             [
              0.6666666666666666,
              "#ed7953"
             ],
             [
              0.7777777777777778,
              "#fb9f3a"
             ],
             [
              0.8888888888888888,
              "#fdca26"
             ],
             [
              1,
              "#f0f921"
             ]
            ],
            "type": "contour"
           }
          ],
          "contourcarpet": [
           {
            "colorbar": {
             "outlinewidth": 0,
             "ticks": ""
            },
            "type": "contourcarpet"
           }
          ],
          "heatmap": [
           {
            "colorbar": {
             "outlinewidth": 0,
             "ticks": ""
            },
            "colorscale": [
             [
              0,
              "#0d0887"
             ],
             [
              0.1111111111111111,
              "#46039f"
             ],
             [
              0.2222222222222222,
              "#7201a8"
             ],
             [
              0.3333333333333333,
              "#9c179e"
             ],
             [
              0.4444444444444444,
              "#bd3786"
             ],
             [
              0.5555555555555556,
              "#d8576b"
             ],
             [
              0.6666666666666666,
              "#ed7953"
             ],
             [
              0.7777777777777778,
              "#fb9f3a"
             ],
             [
              0.8888888888888888,
              "#fdca26"
             ],
             [
              1,
              "#f0f921"
             ]
            ],
            "type": "heatmap"
           }
          ],
          "histogram": [
           {
            "marker": {
             "pattern": {
              "fillmode": "overlay",
              "size": 10,
              "solidity": 0.2
             }
            },
            "type": "histogram"
           }
          ],
          "histogram2d": [
           {
            "colorbar": {
             "outlinewidth": 0,
             "ticks": ""
            },
            "colorscale": [
             [
              0,
              "#0d0887"
             ],
             [
              0.1111111111111111,
              "#46039f"
             ],
             [
              0.2222222222222222,
              "#7201a8"
             ],
             [
              0.3333333333333333,
              "#9c179e"
             ],
             [
              0.4444444444444444,
              "#bd3786"
             ],
             [
              0.5555555555555556,
              "#d8576b"
             ],
             [
              0.6666666666666666,
              "#ed7953"
             ],
             [
              0.7777777777777778,
              "#fb9f3a"
             ],
             [
              0.8888888888888888,
              "#fdca26"
             ],
             [
              1,
              "#f0f921"
             ]
            ],
            "type": "histogram2d"
           }
          ],
          "histogram2dcontour": [
           {
            "colorbar": {
             "outlinewidth": 0,
             "ticks": ""
            },
            "colorscale": [
             [
              0,
              "#0d0887"
             ],
             [
              0.1111111111111111,
              "#46039f"
             ],
             [
              0.2222222222222222,
              "#7201a8"
             ],
             [
              0.3333333333333333,
              "#9c179e"
             ],
             [
              0.4444444444444444,
              "#bd3786"
             ],
             [
              0.5555555555555556,
              "#d8576b"
             ],
             [
              0.6666666666666666,
              "#ed7953"
             ],
             [
              0.7777777777777778,
              "#fb9f3a"
             ],
             [
              0.8888888888888888,
              "#fdca26"
             ],
             [
              1,
              "#f0f921"
             ]
            ],
            "type": "histogram2dcontour"
           }
          ],
          "mesh3d": [
           {
            "colorbar": {
             "outlinewidth": 0,
             "ticks": ""
            },
            "type": "mesh3d"
           }
          ],
          "parcoords": [
           {
            "line": {
             "colorbar": {
              "outlinewidth": 0,
              "ticks": ""
             }
            },
            "type": "parcoords"
           }
          ],
          "pie": [
           {
            "automargin": true,
            "type": "pie"
           }
          ],
          "scatter": [
           {
            "fillpattern": {
             "fillmode": "overlay",
             "size": 10,
             "solidity": 0.2
            },
            "type": "scatter"
           }
          ],
          "scatter3d": [
           {
            "line": {
             "colorbar": {
              "outlinewidth": 0,
              "ticks": ""
             }
            },
            "marker": {
             "colorbar": {
              "outlinewidth": 0,
              "ticks": ""
             }
            },
            "type": "scatter3d"
           }
          ],
          "scattercarpet": [
           {
            "marker": {
             "colorbar": {
              "outlinewidth": 0,
              "ticks": ""
             }
            },
            "type": "scattercarpet"
           }
          ],
          "scattergeo": [
           {
            "marker": {
             "colorbar": {
              "outlinewidth": 0,
              "ticks": ""
             }
            },
            "type": "scattergeo"
           }
          ],
          "scattergl": [
           {
            "marker": {
             "colorbar": {
              "outlinewidth": 0,
              "ticks": ""
             }
            },
            "type": "scattergl"
           }
          ],
          "scattermap": [
           {
            "marker": {
             "colorbar": {
              "outlinewidth": 0,
              "ticks": ""
             }
            },
            "type": "scattermap"
           }
          ],
          "scattermapbox": [
           {
            "marker": {
             "colorbar": {
              "outlinewidth": 0,
              "ticks": ""
             }
            },
            "type": "scattermapbox"
           }
          ],
          "scatterpolar": [
           {
            "marker": {
             "colorbar": {
              "outlinewidth": 0,
              "ticks": ""
             }
            },
            "type": "scatterpolar"
           }
          ],
          "scatterpolargl": [
           {
            "marker": {
             "colorbar": {
              "outlinewidth": 0,
              "ticks": ""
             }
            },
            "type": "scatterpolargl"
           }
          ],
          "scatterternary": [
           {
            "marker": {
             "colorbar": {
              "outlinewidth": 0,
              "ticks": ""
             }
            },
            "type": "scatterternary"
           }
          ],
          "surface": [
           {
            "colorbar": {
             "outlinewidth": 0,
             "ticks": ""
            },
            "colorscale": [
             [
              0,
              "#0d0887"
             ],
             [
              0.1111111111111111,
              "#46039f"
             ],
             [
              0.2222222222222222,
              "#7201a8"
             ],
             [
              0.3333333333333333,
              "#9c179e"
             ],
             [
              0.4444444444444444,
              "#bd3786"
             ],
             [
              0.5555555555555556,
              "#d8576b"
             ],
             [
              0.6666666666666666,
              "#ed7953"
             ],
             [
              0.7777777777777778,
              "#fb9f3a"
             ],
             [
              0.8888888888888888,
              "#fdca26"
             ],
             [
              1,
              "#f0f921"
             ]
            ],
            "type": "surface"
           }
          ],
          "table": [
           {
            "cells": {
             "fill": {
              "color": "#EBF0F8"
             },
             "line": {
              "color": "white"
             }
            },
            "header": {
             "fill": {
              "color": "#C8D4E3"
             },
             "line": {
              "color": "white"
             }
            },
            "type": "table"
           }
          ]
         },
         "layout": {
          "annotationdefaults": {
           "arrowcolor": "#2a3f5f",
           "arrowhead": 0,
           "arrowwidth": 1
          },
          "autotypenumbers": "strict",
          "coloraxis": {
           "colorbar": {
            "outlinewidth": 0,
            "ticks": ""
           }
          },
          "colorscale": {
           "diverging": [
            [
             0,
             "#8e0152"
            ],
            [
             0.1,
             "#c51b7d"
            ],
            [
             0.2,
             "#de77ae"
            ],
            [
             0.3,
             "#f1b6da"
            ],
            [
             0.4,
             "#fde0ef"
            ],
            [
             0.5,
             "#f7f7f7"
            ],
            [
             0.6,
             "#e6f5d0"
            ],
            [
             0.7,
             "#b8e186"
            ],
            [
             0.8,
             "#7fbc41"
            ],
            [
             0.9,
             "#4d9221"
            ],
            [
             1,
             "#276419"
            ]
           ],
           "sequential": [
            [
             0,
             "#0d0887"
            ],
            [
             0.1111111111111111,
             "#46039f"
            ],
            [
             0.2222222222222222,
             "#7201a8"
            ],
            [
             0.3333333333333333,
             "#9c179e"
            ],
            [
             0.4444444444444444,
             "#bd3786"
            ],
            [
             0.5555555555555556,
             "#d8576b"
            ],
            [
             0.6666666666666666,
             "#ed7953"
            ],
            [
             0.7777777777777778,
             "#fb9f3a"
            ],
            [
             0.8888888888888888,
             "#fdca26"
            ],
            [
             1,
             "#f0f921"
            ]
           ],
           "sequentialminus": [
            [
             0,
             "#0d0887"
            ],
            [
             0.1111111111111111,
             "#46039f"
            ],
            [
             0.2222222222222222,
             "#7201a8"
            ],
            [
             0.3333333333333333,
             "#9c179e"
            ],
            [
             0.4444444444444444,
             "#bd3786"
            ],
            [
             0.5555555555555556,
             "#d8576b"
            ],
            [
             0.6666666666666666,
             "#ed7953"
            ],
            [
             0.7777777777777778,
             "#fb9f3a"
            ],
            [
             0.8888888888888888,
             "#fdca26"
            ],
            [
             1,
             "#f0f921"
            ]
           ]
          },
          "colorway": [
           "#636efa",
           "#EF553B",
           "#00cc96",
           "#ab63fa",
           "#FFA15A",
           "#19d3f3",
           "#FF6692",
           "#B6E880",
           "#FF97FF",
           "#FECB52"
          ],
          "font": {
           "color": "#2a3f5f"
          },
          "geo": {
           "bgcolor": "white",
           "lakecolor": "white",
           "landcolor": "#E5ECF6",
           "showlakes": true,
           "showland": true,
           "subunitcolor": "white"
          },
          "hoverlabel": {
           "align": "left"
          },
          "hovermode": "closest",
          "mapbox": {
           "style": "light"
          },
          "paper_bgcolor": "white",
          "plot_bgcolor": "#E5ECF6",
          "polar": {
           "angularaxis": {
            "gridcolor": "white",
            "linecolor": "white",
            "ticks": ""
           },
           "bgcolor": "#E5ECF6",
           "radialaxis": {
            "gridcolor": "white",
            "linecolor": "white",
            "ticks": ""
           }
          },
          "scene": {
           "xaxis": {
            "backgroundcolor": "#E5ECF6",
            "gridcolor": "white",
            "gridwidth": 2,
            "linecolor": "white",
            "showbackground": true,
            "ticks": "",
            "zerolinecolor": "white"
           },
           "yaxis": {
            "backgroundcolor": "#E5ECF6",
            "gridcolor": "white",
            "gridwidth": 2,
            "linecolor": "white",
            "showbackground": true,
            "ticks": "",
            "zerolinecolor": "white"
           },
           "zaxis": {
            "backgroundcolor": "#E5ECF6",
            "gridcolor": "white",
            "gridwidth": 2,
            "linecolor": "white",
            "showbackground": true,
            "ticks": "",
            "zerolinecolor": "white"
           }
          },
          "shapedefaults": {
           "line": {
            "color": "#2a3f5f"
           }
          },
          "ternary": {
           "aaxis": {
            "gridcolor": "white",
            "linecolor": "white",
            "ticks": ""
           },
           "baxis": {
            "gridcolor": "white",
            "linecolor": "white",
            "ticks": ""
           },
           "bgcolor": "#E5ECF6",
           "caxis": {
            "gridcolor": "white",
            "linecolor": "white",
            "ticks": ""
           }
          },
          "title": {
           "x": 0.05
          },
          "xaxis": {
           "automargin": true,
           "gridcolor": "white",
           "linecolor": "white",
           "ticks": "",
           "title": {
            "standoff": 15
           },
           "zerolinecolor": "white",
           "zerolinewidth": 2
          },
          "yaxis": {
           "automargin": true,
           "gridcolor": "white",
           "linecolor": "white",
           "ticks": "",
           "title": {
            "standoff": 15
           },
           "zerolinecolor": "white",
           "zerolinewidth": 2
          }
         }
        },
        "title": {
         "text": "Math Score Comparison by Group"
        },
        "xaxis": {
         "title": {
          "text": "Groups"
         }
        },
        "yaxis": {
         "title": {
          "text": "Math Score"
         }
        }
       }
      }
     },
     "metadata": {},
     "output_type": "display_data"
    }
   ],
   "source": [
    "fig = go.Figure()\n",
    "\n",
    "labels = ['G1', 'G12', 'G13', 'G2', 'G22', 'G23', 'G3', 'G32', 'G33']\n",
    "\n",
    "fig.add_trace(go.Bar(name='GA_M', x=labels, y=GA_M))\n",
    "fig.add_trace(go.Bar(name='GB_M', x=labels, y=GB_M))\n",
    "fig.add_trace(go.Bar(name='GC_M', x=labels, y=GC_M))\n",
    "\n",
    "fig.update_layout(\n",
    "    barmode='group',\n",
    "    title='Math Score Comparison by Group',\n",
    "    xaxis_title='Groups',\n",
    "    yaxis_title='Math Score',\n",
    ")\n",
    "fig.show()"
   ]
  },
  {
   "cell_type": "markdown",
   "id": "5ed86f71",
   "metadata": {},
   "source": [
    "#### Stats Test"
   ]
  },
  {
   "cell_type": "code",
   "execution_count": 49,
   "id": "eccd2050",
   "metadata": {},
   "outputs": [
    {
     "name": "stdout",
     "output_type": "stream",
     "text": [
      "p-value from ANOVA: nan\n"
     ]
    }
   ],
   "source": [
    "from scipy.stats import f_oneway\n",
    "\n",
    "f_stat, p_val = f_oneway(GA_M, GB_M, GC_M)\n",
    "print(f\"p-value from ANOVA: {p_val}\")"
   ]
  },
  {
   "cell_type": "markdown",
   "id": "768d5a42",
   "metadata": {},
   "source": [
    "#### Predicts"
   ]
  },
  {
   "cell_type": "code",
   "execution_count": 52,
   "id": "864fdb05",
   "metadata": {},
   "outputs": [
    {
     "name": "stdout",
     "output_type": "stream",
     "text": [
      "Predictions: [76.3879697  58.88597004 76.99026483 76.85180448 87.62737816 79.0140238\n",
      " 64.65460865 53.00791885 74.18471015 49.21353815 52.94765047 36.66906418\n",
      " 67.9139255  52.27725558 86.71848338 70.53070205 51.95556639 46.8314386\n",
      " 48.82375101 52.72669531 73.88582984 38.88612362 57.38074421 36.32839723\n",
      " 78.14908978 81.79995075 75.3849409  46.1184787  31.03596334 49.90094972\n",
      " 65.98409138 70.4116652  60.5061564  83.73986218 84.43184961 46.07265627\n",
      " 76.10135181 70.20596817 65.85782103  3.76186106 78.49792748 67.25291552\n",
      " 67.97175998 60.2734092  79.67385074 67.60005539 72.24589185 24.76000748\n",
      " 85.95581153 70.08842684 75.41268803 66.79864565 81.16502181 45.6635254\n",
      " 66.11051928 67.32545668 86.13600492 58.72739768 82.23614367 81.21768838\n",
      " 47.23421792 72.04512129 70.64302698 55.92646405 86.31798368 63.86663678\n",
      " 59.48657443 55.91061249 57.20534331 82.14529335 71.7699997  80.48800131\n",
      " 58.37254249 46.38271551 61.23110052 85.00868631 84.24763549 60.29504754\n",
      " 59.29079503 53.21863924 63.67390126 41.11157129 78.88214466 66.84103064\n",
      " 75.31833494 54.83981972 67.15234837 63.82189712 75.52303569 25.62821483\n",
      " 73.94825388 93.73515048 62.58770738 75.59475675 29.38699024 70.73386967\n",
      " 66.93187334 61.92556713 65.55791118 55.20177526 75.58525549 65.95258762\n",
      " 60.78523045 58.22323456 73.69255355 69.03108155 53.43168552 79.78812987\n",
      " 69.95962427 48.24398402 34.75888574 73.57987373 61.02255528 55.44111787\n",
      " 76.06527502 62.30119887 50.03966166 50.41456346 72.47871292 78.5740347\n",
      " 59.65296718 53.46106773 86.88463283 63.62352914 60.48911247 69.56999884\n",
      " 67.61786834 65.95349122 48.91443961 72.2650211  74.04028673 76.00676728\n",
      " 45.18827584 88.2500252  63.41762788 33.49612649 77.41830126 80.67922222\n",
      " 73.64586103 39.17339666 49.59104603 59.64985162 58.94567985 53.90806788\n",
      " 77.58246012 46.96198062 43.09459912 76.52721488 57.24860962 79.21480841\n",
      " 74.99715605 76.2557111  65.66853346 59.54629188 84.86974981 73.3355475\n",
      " 43.8021998  62.85429878 75.93245533 51.92100812 62.03949307 65.03337151\n",
      " 70.28496267 53.88034365 89.12694975 70.96403647 49.52051633 92.67984324\n",
      " 60.67159844 72.1160923  83.08768858 79.12026636 80.44677214 69.87534158\n",
      " 57.47299365 23.71788008 59.19704574 64.835207   91.76004359 67.11752378\n",
      " 61.52335861 59.86061451 81.91071454 60.129492   93.33460827 68.30759036\n",
      " 63.21362158 58.57367017 71.1787559  89.12325804 52.72500029 61.19295573\n",
      " 66.97539131 65.70059223 54.11620448 43.40914918 62.15221448 67.88839463\n",
      " 67.0222873  62.34513246]\n"
     ]
    }
   ],
   "source": [
    "import pandas as pd\n",
    "from sklearn.linear_model import LinearRegression\n",
    "from sklearn.model_selection import train_test_split\n",
    "\n",
    "df_encoded = pd.get_dummies(df, columns=['test preparation course', 'gender', 'lunch', 'race/ethnicity', 'parental level of education'])\n",
    "\n",
    "\n",
    "\n",
    "X = df_encoded.drop('math score', axis=1) \n",
    "y = df_encoded['math score']\n",
    "\n",
    "X_train, X_test, y_train, y_test = train_test_split(X, y, test_size=0.2, random_state=42)\n",
    "\n",
    "model = LinearRegression()\n",
    "model.fit(X_train, y_train)\n",
    "\n",
    "predictions = model.predict(X_test)\n",
    "print(\"Predictions:\", predictions)\n"
   ]
  }
 ],
 "metadata": {
  "kernelspec": {
   "display_name": "Python 3",
   "language": "python",
   "name": "python3"
  },
  "language_info": {
   "codemirror_mode": {
    "name": "ipython",
    "version": 3
   },
   "file_extension": ".py",
   "mimetype": "text/x-python",
   "name": "python",
   "nbconvert_exporter": "python",
   "pygments_lexer": "ipython3",
   "version": "3.12.1"
  }
 },
 "nbformat": 4,
 "nbformat_minor": 5
}
